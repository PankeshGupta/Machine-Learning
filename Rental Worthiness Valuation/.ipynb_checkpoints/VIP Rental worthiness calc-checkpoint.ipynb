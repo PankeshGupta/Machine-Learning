{
 "cells": [
  {
   "cell_type": "markdown",
   "metadata": {},
   "source": [
    "# Vision Investment Rental Worthiness Calculator."
   ]
  },
  {
   "cell_type": "code",
   "execution_count": 2,
   "metadata": {},
   "outputs": [
    {
     "name": "stderr",
     "output_type": "stream",
     "text": [
      "C:\\Users\\Rakshith\\Miniconda3\\envs\\machinelearning\\lib\\site-packages\\sklearn\\cross_validation.py:44: DeprecationWarning: This module was deprecated in version 0.18 in favor of the model_selection module into which all the refactored classes and functions are moved. Also note that the interface of the new CV iterators are different from that of this module. This module will be removed in 0.20.\n",
      "  \"This module will be removed in 0.20.\", DeprecationWarning)\n"
     ]
    }
   ],
   "source": [
    "import numpy as np\n",
    "import sklearn \n",
    "import pandas as pd\n",
    "import matplotlib.pyplot as plt\n",
    "import seaborn as sns\n",
    "import xgboost as xgb\n",
    "%matplotlib inline"
   ]
  },
  {
   "cell_type": "code",
   "execution_count": 6,
   "metadata": {},
   "outputs": [],
   "source": [
    "train = pd.read_excel(\"datasets/accepted.xlsx\")"
   ]
  },
  {
   "cell_type": "code",
   "execution_count": 7,
   "metadata": {},
   "outputs": [
    {
     "name": "stdout",
     "output_type": "stream",
     "text": [
      "<class 'pandas.core.frame.DataFrame'>\n",
      "RangeIndex: 500 entries, 0 to 499\n",
      "Data columns (total 7 columns):\n",
      "Row Number                               500 non-null int64\n",
      "Fico Score                               500 non-null int64\n",
      "Length of Employment (Months)            500 non-null int64\n",
      "Length of Current Residency  (Months)    500 non-null int64\n",
      "Monthly Income                           500 non-null int64\n",
      "Debt to Income percentage                500 non-null float64\n",
      "Outcome                                  499 non-null float64\n",
      "dtypes: float64(2), int64(5)\n",
      "memory usage: 27.4 KB\n"
     ]
    }
   ],
   "source": [
    "train.info()"
   ]
  },
  {
   "cell_type": "code",
   "execution_count": 8,
   "metadata": {},
   "outputs": [
    {
     "data": {
      "text/html": [
       "<div>\n",
       "<style>\n",
       "    .dataframe thead tr:only-child th {\n",
       "        text-align: right;\n",
       "    }\n",
       "\n",
       "    .dataframe thead th {\n",
       "        text-align: left;\n",
       "    }\n",
       "\n",
       "    .dataframe tbody tr th {\n",
       "        vertical-align: top;\n",
       "    }\n",
       "</style>\n",
       "<table border=\"1\" class=\"dataframe\">\n",
       "  <thead>\n",
       "    <tr style=\"text-align: right;\">\n",
       "      <th></th>\n",
       "      <th>Row Number</th>\n",
       "      <th>Fico Score</th>\n",
       "      <th>Length of Employment (Months)</th>\n",
       "      <th>Length of Current Residency  (Months)</th>\n",
       "      <th>Monthly Income</th>\n",
       "      <th>Debt to Income percentage</th>\n",
       "      <th>Outcome</th>\n",
       "    </tr>\n",
       "  </thead>\n",
       "  <tbody>\n",
       "    <tr>\n",
       "      <th>count</th>\n",
       "      <td>500.000000</td>\n",
       "      <td>500.000000</td>\n",
       "      <td>500.000000</td>\n",
       "      <td>500.000000</td>\n",
       "      <td>500.000000</td>\n",
       "      <td>500.000000</td>\n",
       "      <td>499.000000</td>\n",
       "    </tr>\n",
       "    <tr>\n",
       "      <th>mean</th>\n",
       "      <td>249.500000</td>\n",
       "      <td>600.426000</td>\n",
       "      <td>28.480000</td>\n",
       "      <td>17.748000</td>\n",
       "      <td>6071.712000</td>\n",
       "      <td>50.765068</td>\n",
       "      <td>0.613226</td>\n",
       "    </tr>\n",
       "    <tr>\n",
       "      <th>std</th>\n",
       "      <td>144.481833</td>\n",
       "      <td>142.445646</td>\n",
       "      <td>18.182376</td>\n",
       "      <td>10.490978</td>\n",
       "      <td>2220.193042</td>\n",
       "      <td>28.560121</td>\n",
       "      <td>0.487500</td>\n",
       "    </tr>\n",
       "    <tr>\n",
       "      <th>min</th>\n",
       "      <td>0.000000</td>\n",
       "      <td>354.000000</td>\n",
       "      <td>0.000000</td>\n",
       "      <td>0.000000</td>\n",
       "      <td>2002.000000</td>\n",
       "      <td>0.188483</td>\n",
       "      <td>0.000000</td>\n",
       "    </tr>\n",
       "    <tr>\n",
       "      <th>25%</th>\n",
       "      <td>124.750000</td>\n",
       "      <td>473.750000</td>\n",
       "      <td>12.000000</td>\n",
       "      <td>8.000000</td>\n",
       "      <td>4271.500000</td>\n",
       "      <td>25.234707</td>\n",
       "      <td>0.000000</td>\n",
       "    </tr>\n",
       "    <tr>\n",
       "      <th>50%</th>\n",
       "      <td>249.500000</td>\n",
       "      <td>599.500000</td>\n",
       "      <td>28.000000</td>\n",
       "      <td>19.000000</td>\n",
       "      <td>6084.000000</td>\n",
       "      <td>49.827397</td>\n",
       "      <td>1.000000</td>\n",
       "    </tr>\n",
       "    <tr>\n",
       "      <th>75%</th>\n",
       "      <td>374.250000</td>\n",
       "      <td>728.250000</td>\n",
       "      <td>44.000000</td>\n",
       "      <td>27.000000</td>\n",
       "      <td>7997.250000</td>\n",
       "      <td>76.082181</td>\n",
       "      <td>1.000000</td>\n",
       "    </tr>\n",
       "    <tr>\n",
       "      <th>max</th>\n",
       "      <td>499.000000</td>\n",
       "      <td>849.000000</td>\n",
       "      <td>59.000000</td>\n",
       "      <td>35.000000</td>\n",
       "      <td>9983.000000</td>\n",
       "      <td>99.708689</td>\n",
       "      <td>1.000000</td>\n",
       "    </tr>\n",
       "  </tbody>\n",
       "</table>\n",
       "</div>"
      ],
      "text/plain": [
       "       Row Number  Fico Score  Length of Employment (Months)  \\\n",
       "count  500.000000  500.000000                     500.000000   \n",
       "mean   249.500000  600.426000                      28.480000   \n",
       "std    144.481833  142.445646                      18.182376   \n",
       "min      0.000000  354.000000                       0.000000   \n",
       "25%    124.750000  473.750000                      12.000000   \n",
       "50%    249.500000  599.500000                      28.000000   \n",
       "75%    374.250000  728.250000                      44.000000   \n",
       "max    499.000000  849.000000                      59.000000   \n",
       "\n",
       "       Length of Current Residency  (Months)  Monthly Income  \\\n",
       "count                             500.000000      500.000000   \n",
       "mean                               17.748000     6071.712000   \n",
       "std                                10.490978     2220.193042   \n",
       "min                                 0.000000     2002.000000   \n",
       "25%                                 8.000000     4271.500000   \n",
       "50%                                19.000000     6084.000000   \n",
       "75%                                27.000000     7997.250000   \n",
       "max                                35.000000     9983.000000   \n",
       "\n",
       "       Debt to Income percentage     Outcome  \n",
       "count                 500.000000  499.000000  \n",
       "mean                   50.765068    0.613226  \n",
       "std                    28.560121    0.487500  \n",
       "min                     0.188483    0.000000  \n",
       "25%                    25.234707    0.000000  \n",
       "50%                    49.827397    1.000000  \n",
       "75%                    76.082181    1.000000  \n",
       "max                    99.708689    1.000000  "
      ]
     },
     "execution_count": 8,
     "metadata": {},
     "output_type": "execute_result"
    }
   ],
   "source": [
    "train.describe()"
   ]
  },
  {
   "cell_type": "code",
   "execution_count": 9,
   "metadata": {},
   "outputs": [
    {
     "data": {
      "text/html": [
       "<div>\n",
       "<style>\n",
       "    .dataframe thead tr:only-child th {\n",
       "        text-align: right;\n",
       "    }\n",
       "\n",
       "    .dataframe thead th {\n",
       "        text-align: left;\n",
       "    }\n",
       "\n",
       "    .dataframe tbody tr th {\n",
       "        vertical-align: top;\n",
       "    }\n",
       "</style>\n",
       "<table border=\"1\" class=\"dataframe\">\n",
       "  <thead>\n",
       "    <tr style=\"text-align: right;\">\n",
       "      <th></th>\n",
       "      <th>Row Number</th>\n",
       "      <th>Fico Score</th>\n",
       "      <th>Length of Employment (Months)</th>\n",
       "      <th>Length of Current Residency  (Months)</th>\n",
       "      <th>Monthly Income</th>\n",
       "      <th>Debt to Income percentage</th>\n",
       "      <th>Outcome</th>\n",
       "    </tr>\n",
       "  </thead>\n",
       "  <tbody>\n",
       "    <tr>\n",
       "      <th>0</th>\n",
       "      <td>0</td>\n",
       "      <td>593</td>\n",
       "      <td>56</td>\n",
       "      <td>7</td>\n",
       "      <td>7920</td>\n",
       "      <td>50.313829</td>\n",
       "      <td>1.0</td>\n",
       "    </tr>\n",
       "    <tr>\n",
       "      <th>1</th>\n",
       "      <td>1</td>\n",
       "      <td>744</td>\n",
       "      <td>34</td>\n",
       "      <td>11</td>\n",
       "      <td>8748</td>\n",
       "      <td>24.693483</td>\n",
       "      <td>1.0</td>\n",
       "    </tr>\n",
       "    <tr>\n",
       "      <th>2</th>\n",
       "      <td>2</td>\n",
       "      <td>845</td>\n",
       "      <td>57</td>\n",
       "      <td>29</td>\n",
       "      <td>5582</td>\n",
       "      <td>79.617316</td>\n",
       "      <td>0.0</td>\n",
       "    </tr>\n",
       "    <tr>\n",
       "      <th>3</th>\n",
       "      <td>3</td>\n",
       "      <td>624</td>\n",
       "      <td>23</td>\n",
       "      <td>21</td>\n",
       "      <td>2418</td>\n",
       "      <td>81.520067</td>\n",
       "      <td>0.0</td>\n",
       "    </tr>\n",
       "    <tr>\n",
       "      <th>4</th>\n",
       "      <td>4</td>\n",
       "      <td>832</td>\n",
       "      <td>35</td>\n",
       "      <td>5</td>\n",
       "      <td>6637</td>\n",
       "      <td>85.491807</td>\n",
       "      <td>0.0</td>\n",
       "    </tr>\n",
       "  </tbody>\n",
       "</table>\n",
       "</div>"
      ],
      "text/plain": [
       "   Row Number  Fico Score  Length of Employment (Months)  \\\n",
       "0           0         593                             56   \n",
       "1           1         744                             34   \n",
       "2           2         845                             57   \n",
       "3           3         624                             23   \n",
       "4           4         832                             35   \n",
       "\n",
       "   Length of Current Residency  (Months)  Monthly Income  \\\n",
       "0                                      7            7920   \n",
       "1                                     11            8748   \n",
       "2                                     29            5582   \n",
       "3                                     21            2418   \n",
       "4                                      5            6637   \n",
       "\n",
       "   Debt to Income percentage  Outcome  \n",
       "0                  50.313829      1.0  \n",
       "1                  24.693483      1.0  \n",
       "2                  79.617316      0.0  \n",
       "3                  81.520067      0.0  \n",
       "4                  85.491807      0.0  "
      ]
     },
     "execution_count": 9,
     "metadata": {},
     "output_type": "execute_result"
    }
   ],
   "source": [
    "train.head()"
   ]
  },
  {
   "cell_type": "code",
   "execution_count": 12,
   "metadata": {},
   "outputs": [
    {
     "data": {
      "text/plain": [
       "1.0    306\n",
       "0.0    193\n",
       "Name: Outcome, dtype: int64"
      ]
     },
     "execution_count": 12,
     "metadata": {},
     "output_type": "execute_result"
    }
   ],
   "source": [
    "train['Outcome'].value_counts()"
   ]
  },
  {
   "cell_type": "code",
   "execution_count": null,
   "metadata": {
    "collapsed": true
   },
   "outputs": [],
   "source": []
  }
 ],
 "metadata": {
  "kernelspec": {
   "display_name": "Python 3",
   "language": "python",
   "name": "python3"
  },
  "language_info": {
   "codemirror_mode": {
    "name": "ipython",
    "version": 3
   },
   "file_extension": ".py",
   "mimetype": "text/x-python",
   "name": "python",
   "nbconvert_exporter": "python",
   "pygments_lexer": "ipython3",
   "version": "3.6.1"
  }
 },
 "nbformat": 4,
 "nbformat_minor": 2
}

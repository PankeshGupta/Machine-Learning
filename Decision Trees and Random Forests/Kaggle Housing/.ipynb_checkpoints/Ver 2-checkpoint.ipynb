{
 "cells": [
  {
   "cell_type": "code",
   "execution_count": 271,
   "metadata": {
    "collapsed": true
   },
   "outputs": [],
   "source": [
    "import numpy as np\n",
    "import pandas as pd\n",
    "import matplotlib.pyplot as plt\n",
    "import seaborn as sns\n",
    "from scipy.stats import skew  \n",
    "%matplotlib inline"
   ]
  },
  {
   "cell_type": "code",
   "execution_count": 272,
   "metadata": {
    "collapsed": true
   },
   "outputs": [],
   "source": [
    "train = pd.read_csv(\"dataset/train.csv\")\n",
    "test = pd.read_csv(\"dataset/test.csv\")"
   ]
  },
  {
   "cell_type": "code",
   "execution_count": 273,
   "metadata": {},
   "outputs": [
    {
     "data": {
      "text/html": [
       "<div>\n",
       "<style>\n",
       "    .dataframe thead tr:only-child th {\n",
       "        text-align: right;\n",
       "    }\n",
       "\n",
       "    .dataframe thead th {\n",
       "        text-align: left;\n",
       "    }\n",
       "\n",
       "    .dataframe tbody tr th {\n",
       "        vertical-align: top;\n",
       "    }\n",
       "</style>\n",
       "<table border=\"1\" class=\"dataframe\">\n",
       "  <thead>\n",
       "    <tr style=\"text-align: right;\">\n",
       "      <th></th>\n",
       "      <th>Id</th>\n",
       "      <th>MSSubClass</th>\n",
       "      <th>MSZoning</th>\n",
       "      <th>LotFrontage</th>\n",
       "      <th>LotArea</th>\n",
       "      <th>Street</th>\n",
       "      <th>Alley</th>\n",
       "      <th>LotShape</th>\n",
       "      <th>LandContour</th>\n",
       "      <th>Utilities</th>\n",
       "      <th>...</th>\n",
       "      <th>PoolArea</th>\n",
       "      <th>PoolQC</th>\n",
       "      <th>Fence</th>\n",
       "      <th>MiscFeature</th>\n",
       "      <th>MiscVal</th>\n",
       "      <th>MoSold</th>\n",
       "      <th>YrSold</th>\n",
       "      <th>SaleType</th>\n",
       "      <th>SaleCondition</th>\n",
       "      <th>SalePrice</th>\n",
       "    </tr>\n",
       "  </thead>\n",
       "  <tbody>\n",
       "    <tr>\n",
       "      <th>0</th>\n",
       "      <td>1</td>\n",
       "      <td>60</td>\n",
       "      <td>RL</td>\n",
       "      <td>65.0</td>\n",
       "      <td>8450</td>\n",
       "      <td>Pave</td>\n",
       "      <td>NaN</td>\n",
       "      <td>Reg</td>\n",
       "      <td>Lvl</td>\n",
       "      <td>AllPub</td>\n",
       "      <td>...</td>\n",
       "      <td>0</td>\n",
       "      <td>NaN</td>\n",
       "      <td>NaN</td>\n",
       "      <td>NaN</td>\n",
       "      <td>0</td>\n",
       "      <td>2</td>\n",
       "      <td>2008</td>\n",
       "      <td>WD</td>\n",
       "      <td>Normal</td>\n",
       "      <td>208500</td>\n",
       "    </tr>\n",
       "    <tr>\n",
       "      <th>1</th>\n",
       "      <td>2</td>\n",
       "      <td>20</td>\n",
       "      <td>RL</td>\n",
       "      <td>80.0</td>\n",
       "      <td>9600</td>\n",
       "      <td>Pave</td>\n",
       "      <td>NaN</td>\n",
       "      <td>Reg</td>\n",
       "      <td>Lvl</td>\n",
       "      <td>AllPub</td>\n",
       "      <td>...</td>\n",
       "      <td>0</td>\n",
       "      <td>NaN</td>\n",
       "      <td>NaN</td>\n",
       "      <td>NaN</td>\n",
       "      <td>0</td>\n",
       "      <td>5</td>\n",
       "      <td>2007</td>\n",
       "      <td>WD</td>\n",
       "      <td>Normal</td>\n",
       "      <td>181500</td>\n",
       "    </tr>\n",
       "    <tr>\n",
       "      <th>2</th>\n",
       "      <td>3</td>\n",
       "      <td>60</td>\n",
       "      <td>RL</td>\n",
       "      <td>68.0</td>\n",
       "      <td>11250</td>\n",
       "      <td>Pave</td>\n",
       "      <td>NaN</td>\n",
       "      <td>IR1</td>\n",
       "      <td>Lvl</td>\n",
       "      <td>AllPub</td>\n",
       "      <td>...</td>\n",
       "      <td>0</td>\n",
       "      <td>NaN</td>\n",
       "      <td>NaN</td>\n",
       "      <td>NaN</td>\n",
       "      <td>0</td>\n",
       "      <td>9</td>\n",
       "      <td>2008</td>\n",
       "      <td>WD</td>\n",
       "      <td>Normal</td>\n",
       "      <td>223500</td>\n",
       "    </tr>\n",
       "    <tr>\n",
       "      <th>3</th>\n",
       "      <td>4</td>\n",
       "      <td>70</td>\n",
       "      <td>RL</td>\n",
       "      <td>60.0</td>\n",
       "      <td>9550</td>\n",
       "      <td>Pave</td>\n",
       "      <td>NaN</td>\n",
       "      <td>IR1</td>\n",
       "      <td>Lvl</td>\n",
       "      <td>AllPub</td>\n",
       "      <td>...</td>\n",
       "      <td>0</td>\n",
       "      <td>NaN</td>\n",
       "      <td>NaN</td>\n",
       "      <td>NaN</td>\n",
       "      <td>0</td>\n",
       "      <td>2</td>\n",
       "      <td>2006</td>\n",
       "      <td>WD</td>\n",
       "      <td>Abnorml</td>\n",
       "      <td>140000</td>\n",
       "    </tr>\n",
       "    <tr>\n",
       "      <th>4</th>\n",
       "      <td>5</td>\n",
       "      <td>60</td>\n",
       "      <td>RL</td>\n",
       "      <td>84.0</td>\n",
       "      <td>14260</td>\n",
       "      <td>Pave</td>\n",
       "      <td>NaN</td>\n",
       "      <td>IR1</td>\n",
       "      <td>Lvl</td>\n",
       "      <td>AllPub</td>\n",
       "      <td>...</td>\n",
       "      <td>0</td>\n",
       "      <td>NaN</td>\n",
       "      <td>NaN</td>\n",
       "      <td>NaN</td>\n",
       "      <td>0</td>\n",
       "      <td>12</td>\n",
       "      <td>2008</td>\n",
       "      <td>WD</td>\n",
       "      <td>Normal</td>\n",
       "      <td>250000</td>\n",
       "    </tr>\n",
       "  </tbody>\n",
       "</table>\n",
       "<p>5 rows × 81 columns</p>\n",
       "</div>"
      ],
      "text/plain": [
       "   Id  MSSubClass MSZoning  LotFrontage  LotArea Street Alley LotShape  \\\n",
       "0   1          60       RL         65.0     8450   Pave   NaN      Reg   \n",
       "1   2          20       RL         80.0     9600   Pave   NaN      Reg   \n",
       "2   3          60       RL         68.0    11250   Pave   NaN      IR1   \n",
       "3   4          70       RL         60.0     9550   Pave   NaN      IR1   \n",
       "4   5          60       RL         84.0    14260   Pave   NaN      IR1   \n",
       "\n",
       "  LandContour Utilities    ...     PoolArea PoolQC Fence MiscFeature MiscVal  \\\n",
       "0         Lvl    AllPub    ...            0    NaN   NaN         NaN       0   \n",
       "1         Lvl    AllPub    ...            0    NaN   NaN         NaN       0   \n",
       "2         Lvl    AllPub    ...            0    NaN   NaN         NaN       0   \n",
       "3         Lvl    AllPub    ...            0    NaN   NaN         NaN       0   \n",
       "4         Lvl    AllPub    ...            0    NaN   NaN         NaN       0   \n",
       "\n",
       "  MoSold YrSold  SaleType  SaleCondition  SalePrice  \n",
       "0      2   2008        WD         Normal     208500  \n",
       "1      5   2007        WD         Normal     181500  \n",
       "2      9   2008        WD         Normal     223500  \n",
       "3      2   2006        WD        Abnorml     140000  \n",
       "4     12   2008        WD         Normal     250000  \n",
       "\n",
       "[5 rows x 81 columns]"
      ]
     },
     "execution_count": 273,
     "metadata": {},
     "output_type": "execute_result"
    }
   ],
   "source": [
    "train.head()"
   ]
  },
  {
   "cell_type": "code",
   "execution_count": 274,
   "metadata": {},
   "outputs": [
    {
     "data": {
      "text/plain": [
       "Id               0\n",
       "MSSubClass       0\n",
       "MSZoning         0\n",
       "LotFrontage    259\n",
       "LotArea          0\n",
       "dtype: int64"
      ]
     },
     "execution_count": 274,
     "metadata": {},
     "output_type": "execute_result"
    }
   ],
   "source": [
    "train.isnull().sum().head()"
   ]
  },
  {
   "cell_type": "code",
   "execution_count": 275,
   "metadata": {},
   "outputs": [
    {
     "data": {
      "text/plain": [
       "Id               0\n",
       "MSSubClass       0\n",
       "MSZoning         4\n",
       "LotFrontage    227\n",
       "LotArea          0\n",
       "dtype: int64"
      ]
     },
     "execution_count": 275,
     "metadata": {},
     "output_type": "execute_result"
    }
   ],
   "source": [
    "test.isnull().sum().head()"
   ]
  },
  {
   "cell_type": "code",
   "execution_count": 276,
   "metadata": {},
   "outputs": [
    {
     "data": {
      "text/plain": [
       "<matplotlib.axes._subplots.AxesSubplot at 0x1ec56a95278>"
      ]
     },
     "execution_count": 276,
     "metadata": {},
     "output_type": "execute_result"
    },
    {
     "data": {
      "image/png": "[encoded data removed]",
      "text/plain": [
       "<matplotlib.figure.Figure at 0x1ec56a95470>"
      ]
     },
     "metadata": {},
     "output_type": "display_data"
    }
   ],
   "source": [
    "# data is right skewed\n",
    "train['SalePrice'].hist()"
   ]
  },
  {
   "cell_type": "code",
   "execution_count": 277,
   "metadata": {},
   "outputs": [
    {
     "data": {
      "text/plain": [
       "<matplotlib.axes._subplots.AxesSubplot at 0x1ec5d42da20>"
      ]
     },
     "execution_count": 277,
     "metadata": {},
     "output_type": "execute_result"
    },
    {
     "data": {
      "image/png": "[encoded data removed]",
      "text/plain": [
       "<matplotlib.figure.Figure at 0x1ec5d3d7cc0>"
      ]
     },
     "metadata": {},
     "output_type": "display_data"
    }
   ],
   "source": [
    "# After log the deviation seems to be normal \n",
    "np.log1p(train['SalePrice']).hist()"
   ]
  },
  {
   "cell_type": "code",
   "execution_count": 278,
   "metadata": {
    "collapsed": true
   },
   "outputs": [],
   "source": [
    "# get numeric and non numeric cols\n",
    "numeric_cols = [ col for col in train.columns if train[col].dtype!=\"object\" ]\n",
    "categorical_cols = [col for col in train.columns if col not in numeric_cols]"
   ]
  },
  {
   "cell_type": "code",
   "execution_count": 279,
   "metadata": {
    "collapsed": true
   },
   "outputs": [],
   "source": [
    "bothdf = pd.concat([train,test],axis=0)"
   ]
  },
  {
   "cell_type": "code",
   "execution_count": 280,
   "metadata": {},
   "outputs": [
    {
     "data": {
      "text/html": [
       "<div>\n",
       "<style>\n",
       "    .dataframe thead tr:only-child th {\n",
       "        text-align: right;\n",
       "    }\n",
       "\n",
       "    .dataframe thead th {\n",
       "        text-align: left;\n",
       "    }\n",
       "\n",
       "    .dataframe tbody tr th {\n",
       "        vertical-align: top;\n",
       "    }\n",
       "</style>\n",
       "<table border=\"1\" class=\"dataframe\">\n",
       "  <thead>\n",
       "    <tr style=\"text-align: right;\">\n",
       "      <th></th>\n",
       "      <th>Empty Values</th>\n",
       "    </tr>\n",
       "  </thead>\n",
       "  <tbody>\n",
       "    <tr>\n",
       "      <th>Alley</th>\n",
       "      <td>2721</td>\n",
       "    </tr>\n",
       "    <tr>\n",
       "      <th>Fence</th>\n",
       "      <td>2348</td>\n",
       "    </tr>\n",
       "    <tr>\n",
       "      <th>FireplaceQu</th>\n",
       "      <td>1420</td>\n",
       "    </tr>\n",
       "    <tr>\n",
       "      <th>MiscFeature</th>\n",
       "      <td>2814</td>\n",
       "    </tr>\n",
       "    <tr>\n",
       "      <th>PoolQC</th>\n",
       "      <td>2909</td>\n",
       "    </tr>\n",
       "    <tr>\n",
       "      <th>SalePrice</th>\n",
       "      <td>1459</td>\n",
       "    </tr>\n",
       "  </tbody>\n",
       "</table>\n",
       "</div>"
      ],
      "text/plain": [
       "             Empty Values\n",
       "Alley                2721\n",
       "Fence                2348\n",
       "FireplaceQu          1420\n",
       "MiscFeature          2814\n",
       "PoolQC               2909\n",
       "SalePrice            1459"
      ]
     },
     "execution_count": 280,
     "metadata": {},
     "output_type": "execute_result"
    }
   ],
   "source": [
    "empty_df =  pd.DataFrame(bothdf.isnull().sum(),columns=['Empty Values'])\n",
    "empty_df[empty_df['Empty Values']>1000]"
   ]
  },
  {
   "cell_type": "code",
   "execution_count": 281,
   "metadata": {
    "collapsed": true
   },
   "outputs": [],
   "source": [
    "bothdf = bothdf.drop(['Alley','Fence','FireplaceQu','MiscFeature','PoolQC'],axis=1)\n",
    "empty_df = empty_df.drop(['Alley','Fence','FireplaceQu','MiscFeature','PoolQC'],axis=0)\n"
   ]
  },
  {
   "cell_type": "code",
   "execution_count": 282,
   "metadata": {},
   "outputs": [
    {
     "data": {
      "text/html": [
       "<div>\n",
       "<style>\n",
       "    .dataframe thead tr:only-child th {\n",
       "        text-align: right;\n",
       "    }\n",
       "\n",
       "    .dataframe thead th {\n",
       "        text-align: left;\n",
       "    }\n",
       "\n",
       "    .dataframe tbody tr th {\n",
       "        vertical-align: top;\n",
       "    }\n",
       "</style>\n",
       "<table border=\"1\" class=\"dataframe\">\n",
       "  <thead>\n",
       "    <tr style=\"text-align: right;\">\n",
       "      <th></th>\n",
       "      <th>Empty Values</th>\n",
       "    </tr>\n",
       "  </thead>\n",
       "  <tbody>\n",
       "    <tr>\n",
       "      <th>SalePrice</th>\n",
       "      <td>1459</td>\n",
       "    </tr>\n",
       "    <tr>\n",
       "      <th>LotFrontage</th>\n",
       "      <td>486</td>\n",
       "    </tr>\n",
       "    <tr>\n",
       "      <th>GarageYrBlt</th>\n",
       "      <td>159</td>\n",
       "    </tr>\n",
       "    <tr>\n",
       "      <th>GarageQual</th>\n",
       "      <td>159</td>\n",
       "    </tr>\n",
       "    <tr>\n",
       "      <th>GarageFinish</th>\n",
       "      <td>159</td>\n",
       "    </tr>\n",
       "  </tbody>\n",
       "</table>\n",
       "</div>"
      ],
      "text/plain": [
       "              Empty Values\n",
       "SalePrice             1459\n",
       "LotFrontage            486\n",
       "GarageYrBlt            159\n",
       "GarageQual             159\n",
       "GarageFinish           159"
      ]
     },
     "execution_count": 282,
     "metadata": {},
     "output_type": "execute_result"
    }
   ],
   "source": [
    "empty_df = empty_df[empty_df['Empty Values']>0]\n",
    "empty_df = empty_df.sort_values(ascending=False,by='Empty Values')\n",
    "empty_df.head()"
   ]
  },
  {
   "cell_type": "code",
   "execution_count": 283,
   "metadata": {},
   "outputs": [
    {
     "data": {
      "text/plain": [
       "LotFrontage    1.000000\n",
       "LotArea        0.489896\n",
       "1stFlrSF       0.458247\n",
       "GrLivArea      0.382462\n",
       "GarageArea     0.359786\n",
       "Name: LotFrontage, dtype: float64"
      ]
     },
     "execution_count": 283,
     "metadata": {},
     "output_type": "execute_result"
    }
   ],
   "source": [
    "# get the highest correlation wrt LotFrontage\n",
    "# seems like LotFrontage has high corr wrt LotArea,1stFlrSF,GrLivArea,GarageArea\n",
    "corrdf = pd.DataFrame(bothdf.corr())\n",
    "corrdf['LotFrontage'].sort_values(ascending=False).head()"
   ]
  },
  {
   "cell_type": "code",
   "execution_count": 284,
   "metadata": {},
   "outputs": [
    {
     "data": {
      "text/html": [
       "<div>\n",
       "<style>\n",
       "    .dataframe thead tr:only-child th {\n",
       "        text-align: right;\n",
       "    }\n",
       "\n",
       "    .dataframe thead th {\n",
       "        text-align: left;\n",
       "    }\n",
       "\n",
       "    .dataframe tbody tr th {\n",
       "        vertical-align: top;\n",
       "    }\n",
       "</style>\n",
       "<table border=\"1\" class=\"dataframe\">\n",
       "  <thead>\n",
       "    <tr style=\"text-align: right;\">\n",
       "      <th></th>\n",
       "      <th>1stFlrSF</th>\n",
       "      <th>2ndFlrSF</th>\n",
       "      <th>3SsnPorch</th>\n",
       "      <th>BedroomAbvGr</th>\n",
       "      <th>BldgType</th>\n",
       "      <th>BsmtCond</th>\n",
       "      <th>BsmtExposure</th>\n",
       "      <th>BsmtFinSF1</th>\n",
       "      <th>BsmtFinSF2</th>\n",
       "      <th>BsmtFinType1</th>\n",
       "      <th>...</th>\n",
       "      <th>SaleType</th>\n",
       "      <th>ScreenPorch</th>\n",
       "      <th>Street</th>\n",
       "      <th>TotRmsAbvGrd</th>\n",
       "      <th>TotalBsmtSF</th>\n",
       "      <th>Utilities</th>\n",
       "      <th>WoodDeckSF</th>\n",
       "      <th>YearBuilt</th>\n",
       "      <th>YearRemodAdd</th>\n",
       "      <th>YrSold</th>\n",
       "    </tr>\n",
       "  </thead>\n",
       "  <tbody>\n",
       "    <tr>\n",
       "      <th>0</th>\n",
       "      <td>856</td>\n",
       "      <td>854</td>\n",
       "      <td>0</td>\n",
       "      <td>3</td>\n",
       "      <td>1Fam</td>\n",
       "      <td>TA</td>\n",
       "      <td>No</td>\n",
       "      <td>706.0</td>\n",
       "      <td>0.0</td>\n",
       "      <td>GLQ</td>\n",
       "      <td>...</td>\n",
       "      <td>WD</td>\n",
       "      <td>0</td>\n",
       "      <td>Pave</td>\n",
       "      <td>8</td>\n",
       "      <td>856.0</td>\n",
       "      <td>AllPub</td>\n",
       "      <td>0</td>\n",
       "      <td>2003</td>\n",
       "      <td>2003</td>\n",
       "      <td>2008</td>\n",
       "    </tr>\n",
       "    <tr>\n",
       "      <th>1</th>\n",
       "      <td>1262</td>\n",
       "      <td>0</td>\n",
       "      <td>0</td>\n",
       "      <td>3</td>\n",
       "      <td>1Fam</td>\n",
       "      <td>TA</td>\n",
       "      <td>Gd</td>\n",
       "      <td>978.0</td>\n",
       "      <td>0.0</td>\n",
       "      <td>ALQ</td>\n",
       "      <td>...</td>\n",
       "      <td>WD</td>\n",
       "      <td>0</td>\n",
       "      <td>Pave</td>\n",
       "      <td>6</td>\n",
       "      <td>1262.0</td>\n",
       "      <td>AllPub</td>\n",
       "      <td>298</td>\n",
       "      <td>1976</td>\n",
       "      <td>1976</td>\n",
       "      <td>2007</td>\n",
       "    </tr>\n",
       "    <tr>\n",
       "      <th>2</th>\n",
       "      <td>920</td>\n",
       "      <td>866</td>\n",
       "      <td>0</td>\n",
       "      <td>3</td>\n",
       "      <td>1Fam</td>\n",
       "      <td>TA</td>\n",
       "      <td>Mn</td>\n",
       "      <td>486.0</td>\n",
       "      <td>0.0</td>\n",
       "      <td>GLQ</td>\n",
       "      <td>...</td>\n",
       "      <td>WD</td>\n",
       "      <td>0</td>\n",
       "      <td>Pave</td>\n",
       "      <td>6</td>\n",
       "      <td>920.0</td>\n",
       "      <td>AllPub</td>\n",
       "      <td>0</td>\n",
       "      <td>2001</td>\n",
       "      <td>2002</td>\n",
       "      <td>2008</td>\n",
       "    </tr>\n",
       "    <tr>\n",
       "      <th>3</th>\n",
       "      <td>961</td>\n",
       "      <td>756</td>\n",
       "      <td>0</td>\n",
       "      <td>3</td>\n",
       "      <td>1Fam</td>\n",
       "      <td>Gd</td>\n",
       "      <td>No</td>\n",
       "      <td>216.0</td>\n",
       "      <td>0.0</td>\n",
       "      <td>ALQ</td>\n",
       "      <td>...</td>\n",
       "      <td>WD</td>\n",
       "      <td>0</td>\n",
       "      <td>Pave</td>\n",
       "      <td>7</td>\n",
       "      <td>756.0</td>\n",
       "      <td>AllPub</td>\n",
       "      <td>0</td>\n",
       "      <td>1915</td>\n",
       "      <td>1970</td>\n",
       "      <td>2006</td>\n",
       "    </tr>\n",
       "    <tr>\n",
       "      <th>4</th>\n",
       "      <td>1145</td>\n",
       "      <td>1053</td>\n",
       "      <td>0</td>\n",
       "      <td>4</td>\n",
       "      <td>1Fam</td>\n",
       "      <td>TA</td>\n",
       "      <td>Av</td>\n",
       "      <td>655.0</td>\n",
       "      <td>0.0</td>\n",
       "      <td>GLQ</td>\n",
       "      <td>...</td>\n",
       "      <td>WD</td>\n",
       "      <td>0</td>\n",
       "      <td>Pave</td>\n",
       "      <td>9</td>\n",
       "      <td>1145.0</td>\n",
       "      <td>AllPub</td>\n",
       "      <td>192</td>\n",
       "      <td>2000</td>\n",
       "      <td>2000</td>\n",
       "      <td>2008</td>\n",
       "    </tr>\n",
       "  </tbody>\n",
       "</table>\n",
       "<p>5 rows × 76 columns</p>\n",
       "</div>"
      ],
      "text/plain": [
       "   1stFlrSF  2ndFlrSF  3SsnPorch  BedroomAbvGr BldgType BsmtCond BsmtExposure  \\\n",
       "0       856       854          0             3     1Fam       TA           No   \n",
       "1      1262         0          0             3     1Fam       TA           Gd   \n",
       "2       920       866          0             3     1Fam       TA           Mn   \n",
       "3       961       756          0             3     1Fam       Gd           No   \n",
       "4      1145      1053          0             4     1Fam       TA           Av   \n",
       "\n",
       "   BsmtFinSF1  BsmtFinSF2 BsmtFinType1   ...   SaleType  ScreenPorch  Street  \\\n",
       "0       706.0         0.0          GLQ   ...         WD            0    Pave   \n",
       "1       978.0         0.0          ALQ   ...         WD            0    Pave   \n",
       "2       486.0         0.0          GLQ   ...         WD            0    Pave   \n",
       "3       216.0         0.0          ALQ   ...         WD            0    Pave   \n",
       "4       655.0         0.0          GLQ   ...         WD            0    Pave   \n",
       "\n",
       "  TotRmsAbvGrd  TotalBsmtSF Utilities WoodDeckSF YearBuilt YearRemodAdd  \\\n",
       "0            8        856.0    AllPub          0      2003         2003   \n",
       "1            6       1262.0    AllPub        298      1976         1976   \n",
       "2            6        920.0    AllPub          0      2001         2002   \n",
       "3            7        756.0    AllPub          0      1915         1970   \n",
       "4            9       1145.0    AllPub        192      2000         2000   \n",
       "\n",
       "   YrSold  \n",
       "0    2008  \n",
       "1    2007  \n",
       "2    2008  \n",
       "3    2006  \n",
       "4    2008  \n",
       "\n",
       "[5 rows x 76 columns]"
      ]
     },
     "execution_count": 284,
     "metadata": {},
     "output_type": "execute_result"
    }
   ],
   "source": [
    "# preparing internal ML model to get lotfrontage missing values\n",
    "bothdf[bothdf['LotFrontage'].notnull()].head()"
   ]
  },
  {
   "cell_type": "code",
   "execution_count": 285,
   "metadata": {},
   "outputs": [
    {
     "data": {
      "text/plain": [
       "LotArea        0\n",
       "1stFlrSF       0\n",
       "GrLivArea      0\n",
       "GarageArea     0\n",
       "LotFrontage    0\n",
       "dtype: int64"
      ]
     },
     "execution_count": 285,
     "metadata": {},
     "output_type": "execute_result"
    }
   ],
   "source": [
    "# preparing the dataframe for processing\n",
    "lotFr = bothdf[['LotArea','1stFlrSF','GrLivArea','GarageArea','LotFrontage']]\n",
    "lotFr_nn = lotFr[lotFr['LotFrontage'].notnull() & lotFr['GarageArea'].notnull()]\n",
    "lotFr.count()\n",
    "lotFr_nn.isnull().sum()"
   ]
  },
  {
   "cell_type": "code",
   "execution_count": 286,
   "metadata": {},
   "outputs": [
    {
     "data": {
      "text/html": [
       "<div>\n",
       "<style>\n",
       "    .dataframe thead tr:only-child th {\n",
       "        text-align: right;\n",
       "    }\n",
       "\n",
       "    .dataframe thead th {\n",
       "        text-align: left;\n",
       "    }\n",
       "\n",
       "    .dataframe tbody tr th {\n",
       "        vertical-align: top;\n",
       "    }\n",
       "</style>\n",
       "<table border=\"1\" class=\"dataframe\">\n",
       "  <thead>\n",
       "    <tr style=\"text-align: right;\">\n",
       "      <th></th>\n",
       "      <th>LotArea</th>\n",
       "      <th>1stFlrSF</th>\n",
       "      <th>GrLivArea</th>\n",
       "      <th>GarageArea</th>\n",
       "      <th>LotFrontage</th>\n",
       "    </tr>\n",
       "  </thead>\n",
       "  <tbody>\n",
       "    <tr>\n",
       "      <th>0</th>\n",
       "      <td>8450</td>\n",
       "      <td>856</td>\n",
       "      <td>1710</td>\n",
       "      <td>548.0</td>\n",
       "      <td>65.0</td>\n",
       "    </tr>\n",
       "    <tr>\n",
       "      <th>1</th>\n",
       "      <td>9600</td>\n",
       "      <td>1262</td>\n",
       "      <td>1262</td>\n",
       "      <td>460.0</td>\n",
       "      <td>80.0</td>\n",
       "    </tr>\n",
       "    <tr>\n",
       "      <th>2</th>\n",
       "      <td>11250</td>\n",
       "      <td>920</td>\n",
       "      <td>1786</td>\n",
       "      <td>608.0</td>\n",
       "      <td>68.0</td>\n",
       "    </tr>\n",
       "    <tr>\n",
       "      <th>3</th>\n",
       "      <td>9550</td>\n",
       "      <td>961</td>\n",
       "      <td>1717</td>\n",
       "      <td>642.0</td>\n",
       "      <td>60.0</td>\n",
       "    </tr>\n",
       "    <tr>\n",
       "      <th>4</th>\n",
       "      <td>14260</td>\n",
       "      <td>1145</td>\n",
       "      <td>2198</td>\n",
       "      <td>836.0</td>\n",
       "      <td>84.0</td>\n",
       "    </tr>\n",
       "  </tbody>\n",
       "</table>\n",
       "</div>"
      ],
      "text/plain": [
       "   LotArea  1stFlrSF  GrLivArea  GarageArea  LotFrontage\n",
       "0     8450       856       1710       548.0         65.0\n",
       "1     9600      1262       1262       460.0         80.0\n",
       "2    11250       920       1786       608.0         68.0\n",
       "3     9550       961       1717       642.0         60.0\n",
       "4    14260      1145       2198       836.0         84.0"
      ]
     },
     "execution_count": 286,
     "metadata": {},
     "output_type": "execute_result"
    }
   ],
   "source": [
    "lotFr_nn.head()"
   ]
  },
  {
   "cell_type": "code",
   "execution_count": 294,
   "metadata": {},
   "outputs": [
    {
     "data": {
      "text/plain": [
       "array([[  65.],\n",
       "       [  80.],\n",
       "       [  68.],\n",
       "       ..., \n",
       "       [ 160.],\n",
       "       [  62.],\n",
       "       [  74.]])"
      ]
     },
     "execution_count": 294,
     "metadata": {},
     "output_type": "execute_result"
    }
   ],
   "source": [
    "X_lot = lotFr_nn.iloc[:, :-1].values\n",
    "y_lot = lotFr_nn.iloc[:, 4:].values\n",
    "y_lot"
   ]
  },
  {
   "cell_type": "code",
   "execution_count": 288,
   "metadata": {
    "collapsed": true
   },
   "outputs": [],
   "source": [
    "from sklearn.model_selection import train_test_split\n",
    "X_train, X_test, y_train, y_test = train_test_split(X_lot, y_lot, test_size = 0.2, random_state = 0)"
   ]
  },
  {
   "cell_type": "code",
   "execution_count": 297,
   "metadata": {},
   "outputs": [
    {
     "data": {
      "text/plain": [
       "array([[ 1.68003075, -0.20157271,  0.15567425,  0.26288401],\n",
       "       [-0.18552924, -0.2798153 , -0.8838625 , -0.31187824],\n",
       "       [ 0.29960353,  0.8547022 ,  0.01603498,  0.0383675 ],\n",
       "       ..., \n",
       "       [ 0.2334953 ,  1.17256271,  0.26816143,  1.78061558],\n",
       "       [ 0.50548348,  0.5612925 , -0.21669713,  1.91532548],\n",
       "       [ 0.25310983,  0.93538987,  0.08003631,  1.43036983]])"
      ]
     },
     "execution_count": 297,
     "metadata": {},
     "output_type": "execute_result"
    }
   ],
   "source": [
    "from sklearn.preprocessing import StandardScaler\n",
    "sc_lotfr_X = StandardScaler()\n",
    "sc_lotfr_Y = StandardScaler()\n",
    "\n",
    "X_lot_train = sc_lotfr_X.fit_transform(X_train)\n",
    "X_lot_test = sc_lotfr_X.transform(X_test)\n",
    "\n",
    "y_lot_train = sc_lotfr_Y.fit_transform(y_train)\n",
    "y_lot_test = sc_lotfr_Y.transform(y_test)\n",
    "X_lot_test"
   ]
  },
  {
   "cell_type": "code",
   "execution_count": 267,
   "metadata": {},
   "outputs": [
    {
     "data": {
      "text/plain": [
       "DecisionTreeRegressor(criterion='mse', max_depth=None, max_features=None,\n",
       "           max_leaf_nodes=None, min_impurity_split=1e-07,\n",
       "           min_samples_leaf=1, min_samples_split=2,\n",
       "           min_weight_fraction_leaf=0.0, presort=False, random_state=None,\n",
       "           splitter='best')"
      ]
     },
     "execution_count": 267,
     "metadata": {},
     "output_type": "execute_result"
    }
   ],
   "source": [
    "from sklearn.tree import DecisionTreeRegressor\n",
    "lot_reg = DecisionTreeRegressor()\n",
    "lot_reg.fit(X_lot_train,y_lot_train.ravel())"
   ]
  },
  {
   "cell_type": "code",
   "execution_count": 268,
   "metadata": {},
   "outputs": [
    {
     "data": {
      "text/plain": [
       "array([  1.27649173,  -0.40620463,   0.64548059,  -1.6682269 ,\n",
       "        -0.49033945,  -0.82687872,  -0.82687872,  -0.2800024 ,\n",
       "         0.01446946,   1.44476137,   1.78130064,  -0.40620463,\n",
       "         1.613031  ,  -0.78481131,   1.27649173,  -1.16341799,\n",
       "        -0.32206981,  -0.40620463,   0.39307614,  -0.19586759,\n",
       "         0.2248065 ,   3.80053627,   1.73923323,  -0.49033945,\n",
       "        -0.7006765 ,  -0.15380018,  -0.91101354,  -1.92063136,\n",
       "        -0.40620463,   0.64548059,  -0.32206981,  -0.82687872,\n",
       "        -1.16341799,  -0.40620463,   0.51927837,   2.11783991,\n",
       "         0.09860428,   0.81375023,   0.51927837,  -0.06966536,\n",
       "        -1.07928318,  -0.06966536,  -0.19586759,   0.01446946,\n",
       "        -0.40620463,  -0.65860909,   0.60341319,  -1.83649654,\n",
       "         0.01446946,   0.77168282,   0.01446946,   0.60341319,\n",
       "         0.26687391,   0.35100873,  -0.40620463,   0.2248065 ,\n",
       "         0.18273909,  -0.61654168,   2.28610955,   0.687548  ,\n",
       "        -1.12135059,   1.31855914,  -0.7427439 ,  -0.32206981,\n",
       "        -0.82687872,   0.43514355,   1.23442432,   0.64548059,\n",
       "         0.2248065 ,  -1.92063136,   0.26687391,  -0.19586759,\n",
       "        -1.49995727,  -0.19586759,   0.01446946,   0.2248065 ,\n",
       "         0.43514355,  -0.82687872,  -1.16341799,  -1.07928318,\n",
       "         0.64548059,  -0.40620463,   0.01446946,   0.60341319,\n",
       "        -0.40620463,  -0.7427439 ,  -2.04683358,   0.81375023,\n",
       "        -0.40620463,  -0.06966536,   0.01446946,  -0.82687872,\n",
       "        -1.12135059,  -0.40620463,  -1.37375504,   1.06615468,\n",
       "         0.64548059,   0.09860428,  -0.40620463,   0.18273909,\n",
       "        -0.237935  ,  -0.237935  ,  -0.82687872,  -0.95308095,\n",
       "         1.19235691,   0.09860428,  -0.40620463,   0.01446946,\n",
       "        -1.2054854 ,  -0.19586759,  -0.57447427,   0.18273909,\n",
       "        -0.15380018,  -0.61654168,  -0.40620463,  -0.2800024 ,\n",
       "         0.43514355,   0.01446946,  -0.44827204,   1.23442432,\n",
       "         0.2248065 ,   0.26687391,  -0.19586759,  -0.2800024 ,\n",
       "        -0.19586759,   1.69716582,  -0.44827204,  -0.19586759,\n",
       "         0.01446946,   1.27649173,   0.85581764,  -0.40620463,\n",
       "         0.64548059,   0.85581764,  -0.91101354,  -0.40620463,\n",
       "        -1.37375504,   0.43514355,   0.35100873,   0.35100873,\n",
       "        -0.82687872,  -0.40620463,  -0.32206981,   0.14067169,\n",
       "         0.687548  ,  -1.58409209,   0.64548059,  -0.19586759,\n",
       "         0.01446946,  -1.92063136,   1.48682878,  -2.04683358,\n",
       "        -0.2800024 ,  -0.237935  ,  -1.83649654,   0.85581764,\n",
       "        -0.40620463,  -0.82687872,   0.39307614,  -0.53240686,\n",
       "        -0.40620463,  -0.65860909,  -0.40620463,  -0.19586759,\n",
       "        -1.83649654,  -0.57447427,  -0.7006765 ,  -1.12135059,\n",
       "        -1.6682269 ,   0.687548  ,   0.2248065 ,  -0.40620463,\n",
       "        -1.33168763,  -0.11173277,  -0.11173277,  -2.04683358,\n",
       "        -0.82687872,   0.89788505,  -0.40620463,   1.27649173,\n",
       "        -0.44827204,   2.538514  ,   1.69716582,  -0.78481131,\n",
       "        -0.40620463,   2.538514  ,  -0.40620463,   2.28610955,\n",
       "         0.01446946,   0.14067169,  -1.24755281,  -1.92063136,\n",
       "         0.43514355,  -0.82687872,  -2.04683358,   0.2248065 ,\n",
       "         2.538514  ,  -0.40620463,   0.85581764,   0.43514355,\n",
       "        -0.40620463,   0.2248065 ,  -0.36413722,   0.51927837,\n",
       "        -0.53240686,   1.06615468,  -0.44827204,  -0.82687872,\n",
       "        -0.44827204,  -0.61654168,   1.1502895 ,  -0.40620463,\n",
       "         0.2248065 ,  -1.12135059,  -0.2800024 ,  -0.32206981,\n",
       "        -0.15380018,   0.43514355,  -1.16341799,   1.36062655,\n",
       "        -0.237935  ,  -0.7006765 ,  -0.40620463,  -0.40620463,\n",
       "        -1.45788986,  -2.04683358,   0.18273909,   0.2248065 ,\n",
       "         1.02408728,   0.01446946,   2.15990732,  -0.7427439 ,\n",
       "        -0.19586759,  -0.7427439 ,  -0.237935  ,  -0.82687872,\n",
       "         0.64548059,  -0.32206981,   0.43514355,   0.64548059,\n",
       "        -0.44827204,  -0.61654168,  -0.82687872,  -0.19586759,\n",
       "        -0.7427439 ,  -1.49995727,   1.82336805,   0.43514355,\n",
       "         0.43514355,   2.538514  ,   0.93995246,   1.27649173,\n",
       "         1.94957027,  -0.40620463,   0.60341319,   0.72961541,\n",
       "        -1.12135059,  -0.40620463,  -0.82687872,  -0.57447427,\n",
       "         0.01446946,  -0.40620463,   0.64548059,  -0.7427439 ,\n",
       "        -0.40620463,  -1.49995727,   0.2248065 ,  -0.65860909,\n",
       "        -2.04683358,   0.64548059,  -0.44827204,  -0.91101354,\n",
       "         1.613031  ,  -2.04683358,  -1.45788986,   0.72961541,\n",
       "         0.64548059,   0.81375023,   0.43514355,   0.2248065 ,\n",
       "        -0.19586759,   1.23442432,   0.01446946,  -1.2054854 ,\n",
       "        -2.04683358,  -0.7427439 ,   1.57096359,   0.2248065 ,\n",
       "        -0.7427439 ,  -0.40620463,   0.01446946,   0.18273909,\n",
       "        -1.07928318,   0.85581764,  -1.92063136,  -0.40620463,\n",
       "        -2.04683358,   0.43514355,  -0.40620463,   0.2248065 ,\n",
       "        -0.91101354,  -2.04683358,  -2.04683358,   0.18273909,\n",
       "        -0.82687872,   0.01446946,   2.538514  ,   0.18273909,\n",
       "         3.50606441,  -1.92063136,  -1.92063136,   0.30894132,\n",
       "         0.18273909,   0.35100873,   0.43514355,  -0.82687872,\n",
       "        -0.02759795,   0.18273909,   0.60341319,  -1.33168763,\n",
       "        -0.49033945,   0.2248065 ,  -0.44827204,  -0.82687872,\n",
       "        -0.19586759,  -0.40620463,  -0.40620463,   0.47721096,\n",
       "         1.19235691,  -0.19586759,   0.89788505,  -0.19586759,\n",
       "        -0.82687872,  -0.2800024 ,  -0.40620463,   0.14067169,\n",
       "        -0.15380018,   0.26687391,  -0.44827204,  -0.15380018,\n",
       "        -0.19586759,  -0.49033945,  -0.40620463,  -1.62615949,\n",
       "        -0.57447427,  -0.19586759,  -0.44827204,  -0.237935  ,\n",
       "        -0.02759795,  -1.92063136,  -0.40620463,   0.2248065 ,\n",
       "        -0.99514836,  -1.58409209,  -0.19586759,   0.77168282,\n",
       "        -0.53240686,  -0.53240686,  -0.11173277,  -1.83649654,\n",
       "        -0.82687872,   0.18273909,   2.11783991,   0.43514355,\n",
       "         2.11783991,   0.64548059,   0.39307614,   1.57096359,\n",
       "        -0.40620463,   0.56134578,   0.2248065 ,   0.43514355,\n",
       "         1.36062655,   2.70678364,   0.72961541,  -0.40620463,\n",
       "        -0.237935  ,   0.60341319,   0.51927837,   0.01446946,\n",
       "        -0.40620463,  -0.53240686,  -0.2800024 ,   0.85581764,\n",
       "        -0.40620463,   0.64548059,   0.35100873,  -0.40620463,\n",
       "         0.2248065 ,  -0.53240686,  -1.16341799,  -1.2054854 ,\n",
       "         0.43514355,   0.56134578,  -0.40620463,  -0.06966536,\n",
       "         0.85581764,   0.35100873,  -0.06966536,   2.11783991,\n",
       "         0.01446946,  -0.53240686,  -1.16341799,  -1.03721577,\n",
       "        -2.00476618,  -0.237935  ,   1.27649173,  -0.7006765 ,\n",
       "         0.43514355,   0.2248065 ,  -0.40620463,  -0.82687872,\n",
       "         2.70678364,  -0.06966536,  -0.61654168,  -0.11173277,\n",
       "        -0.237935  ,  -1.45788986,  -0.82687872,  -1.03721577,\n",
       "        -0.02759795,   0.14067169,   0.39307614,  -0.02759795,\n",
       "        -0.53240686,   0.14067169,   0.43514355,  -0.40620463,\n",
       "         0.64548059,  -0.2800024 ,   0.2248065 ,   0.01446946,\n",
       "         0.35100873,   0.93995246,  -0.2800024 ,   0.43514355,\n",
       "        -0.237935  ,  -0.32206981,  -1.49995727,   1.10822209,\n",
       "        -1.07928318,   0.01446946,  -0.57447427,  -0.82687872,\n",
       "         0.43514355,  -0.19586759,  -0.40620463,   0.01446946,\n",
       "         0.35100873,  -1.92063136,   0.26687391,   0.64548059,\n",
       "         0.64548059,  -0.91101354,   0.93995246,  -0.82687872,\n",
       "         0.43514355,   0.01446946,   0.43514355,  -0.82687872,\n",
       "        -0.40620463,   1.31855914,  -0.65860909,   1.19235691,\n",
       "        -1.12135059,   0.72961541,   2.538514  ,  -1.92063136,\n",
       "        -0.61654168,   4.38948   ,  -0.91101354,   0.2248065 ,\n",
       "         1.57096359,   1.10822209,  -1.16341799,  -1.12135059,\n",
       "        -1.33168763,  -0.7427439 ,  -1.45788986,   0.01446946,\n",
       "        -0.237935  ,  10.23684986,  -0.32206981,   0.43514355,\n",
       "         0.64548059,   2.45437918,   0.2248065 ])"
      ]
     },
     "execution_count": 268,
     "metadata": {},
     "output_type": "execute_result"
    }
   ],
   "source": [
    "fr_preds = lot_reg.predict(X_lot_test)\n",
    "fr_preds"
   ]
  },
  {
   "cell_type": "code",
   "execution_count": 269,
   "metadata": {},
   "outputs": [
    {
     "name": "stdout",
     "output_type": "stream",
     "text": [
      "[ 0.16057606  0.13753939  0.03744439  0.09481367 -0.14428612]\n",
      "Accuracy: 0.06 (+/- 0.22)\n"
     ]
    }
   ],
   "source": [
    "from sklearn.model_selection import cross_val_score\n",
    "cross_score = cross_val_score(lot_reg,X_lot_train,y_lot_train,cv=5,n_jobs=-1)\n",
    "print(cross_score)\n",
    "print(\"Accuracy: %0.2f (+/- %0.2f)\" % (cross_score.mean(), cross_score.std() * 2))"
   ]
  },
  {
   "cell_type": "code",
   "execution_count": 270,
   "metadata": {},
   "outputs": [
    {
     "name": "stdout",
     "output_type": "stream",
     "text": [
      "RMSE: 1.01206949249\n"
     ]
    }
   ],
   "source": [
    "from sklearn import metrics\n",
    "print('RMSE:', np.sqrt(metrics.mean_squared_error(y_lot_test, fr_preds)))\n"
   ]
  },
  {
   "cell_type": "code",
   "execution_count": 289,
   "metadata": {},
   "outputs": [
    {
     "data": {
      "text/plain": [
       "DecisionTreeRegressor(criterion='mse', max_depth=None, max_features=None,\n",
       "           max_leaf_nodes=None, min_impurity_split=1e-07,\n",
       "           min_samples_leaf=1, min_samples_split=2,\n",
       "           min_weight_fraction_leaf=0.0, presort=False, random_state=None,\n",
       "           splitter='best')"
      ]
     },
     "execution_count": 289,
     "metadata": {},
     "output_type": "execute_result"
    }
   ],
   "source": [
    "# without transforming\n",
    "from sklearn.tree import DecisionTreeRegressor\n",
    "rreg = DecisionTreeRegressor()\n",
    "rreg.fit(X_train,y_train.ravel())"
   ]
  },
  {
   "cell_type": "code",
   "execution_count": 290,
   "metadata": {},
   "outputs": [
    {
     "data": {
      "text/plain": [
       "array([ 104.,   60.,   85.,   30.,   66.,   50.,   50.,   63.,   73.,\n",
       "        100.,  112.,   60.,  108.,   51.,  100.,   75.,   62.,   45.,\n",
       "         79.,   65.,   60.,  160.,  110.,   41.,   50.,   66.,   48.,\n",
       "         24.,   60.,   85.,   62.,   50.,   42.,   60.,   82.,  120.,\n",
       "         60.,   89.,   82.,   68.,   50.,   68.,   70.,   70.,   60.,\n",
       "         50.,   84.,   26.,   70.,   88.,   72.,   84.,   76.,   75.,\n",
       "         60.,   75.,   74.,   55.,  124.,   86.,   43.,  101.,   53.,\n",
       "         62.,   50.,   80.,   99.,   85.,   75.,   24.,   76.,   65.,\n",
       "         35.,   65.,   70.,   75.,   80.,   50.,   42.,   44.,   85.,\n",
       "         60.,   70.,   88.,   50.,   52.,   21.,   86.,   60.,   68.,\n",
       "         70.,   50.,   43.,   60.,   37.,   95.,   22.,   72.,   60.,\n",
       "         74.,   64.,   64.,   52.,   40.,   98.,   72.,   65.,   70.,\n",
       "         41.,   64.,   56.,   74.,   66.,   55.,   60.,   63.,   80.,\n",
       "         56.,   59.,   99.,   75.,   73.,   65.,   63.,   65.,  105.,\n",
       "         60.,   65.,   65.,   93.,   90.,   60.,   85.,   90.,   62.,\n",
       "         60.,   37.,   79.,   78.,   80.,   50.,   60.,   62.,   73.,\n",
       "         77.,   32.,   85.,   65.,   70.,   24.,  105.,   21.,   63.,\n",
       "         64.,   49.,   90.,   60.,   52.,   79.,   57.,   65.,   50.,\n",
       "         60.,   65.,   50.,   56.,   53.,   43.,   35.,   86.,   75.,\n",
       "         94.,   37.,   55.,   67.,   21.,   50.,   75.,   60.,  103.,\n",
       "         59.,  108.,  110.,   52.,   60.,   76.,   60.,  141.,   70.,\n",
       "         73.,   40.,   24.,   75.,   50.,   21.,   75.,  129.,   60.,\n",
       "         91.,   80.,   60.,   75.,   61.,   80.,   57.,   95.,   60.,\n",
       "         60.,   59.,   50.,   92.,   60.,   43.,   43.,   65.,   62.,\n",
       "         66.,   70.,   54.,  102.,   64.,   53.,   60.,   60.,   34.,\n",
       "         21.,   74.,   75.,   95.,   70.,  121.,   52.,   64.,   52.,\n",
       "         64.,   50.,   74.,   62.,   80.,   85.,  100.,   55.,   52.,\n",
       "         65.,   52.,   34.,  113.,   72.,   80.,  130.,   91.,  100.,\n",
       "        110.,   60.,   84.,   87.,   43.,   60.,   50.,   56.,   70.,\n",
       "         60.,   85.,   60.,   60.,   34.,   75.,   60.,   21.,   85.,\n",
       "         59.,   48.,  116.,   21.,   35.,   87.,   85.,   89.,   80.,\n",
       "         81.,   56.,   80.,   70.,   41.,   21.,   50.,   93.,   75.,\n",
       "         53.,   60.,   70.,   57.,   44.,   90.,   24.,   60.,   21.,\n",
       "         75.,   65.,   70.,   40.,   24.,   21.,   85.,   68.,   73.,\n",
       "         76.,   74.,  153.,   24.,   24.,   79.,   74.,   78.,   80.,\n",
       "         50.,   70.,   74.,   84.,   38.,   65.,   75.,   59.,   50.,\n",
       "         65.,   62.,   60.,   81.,   98.,   65.,  100.,   65.,   50.,\n",
       "         65.,   60.,   73.,   67.,   76.,   59.,   66.,   65.,   62.,\n",
       "         60.,   31.,   56.,   65.,   56.,   64.,   70.,   24.,   60.,\n",
       "         75.,   46.,   32.,   64.,   88.,   57.,   57.,   64.,   26.,\n",
       "         68.,   70.,   82.,   80.,  120.,   85.,   79.,   85.,   60.,\n",
       "         74.,   75.,   80.,  102.,  134.,   87.,   60.,   64.,   84.,\n",
       "         85.,   70.,   60.,   70.,   63.,  115.,   62.,   85.,   78.,\n",
       "         60.,   75.,   57.,   42.,   41.,   80.,   87.,   60.,   68.,\n",
       "         96.,   75.,   68.,   85.,   70.,   57.,   90.,   45.,   85.,\n",
       "         64.,  100.,   53.,   80.,   75.,   60.,   52.,  134.,   68.,\n",
       "         55.,   41.,   64.,   34.,   50.,   45.,   45.,  128.,   79.,\n",
       "         45.,   57.,  128.,   80.,   60.,   85.,   63.,   75.,   70.,\n",
       "         78.,   92.,   59.,   80.,   64.,   62.,   34.,   92.,   48.,\n",
       "         70.,   56.,   53.,   80.,   65.,   60.,   70.,   75.,   24.,\n",
       "         80.,   85.,  107.,   48.,   92.,   50.,   76.,   70.,   80.,\n",
       "         52.,   60.,   84.,   54.,   98.,   43.,   87.,  130.,   24.,\n",
       "         55.,  174.,   48.,   75.,   92.,   92.,   42.,   43.,   38.,\n",
       "         52.,   35.,   70.,   64.,  313.,   62.,   80.,   91.,  128.,   78.])"
      ]
     },
     "execution_count": 290,
     "metadata": {},
     "output_type": "execute_result"
    }
   ],
   "source": [
    "new_preds = rreg.predict(X_test)\n",
    "new_preds"
   ]
  },
  {
   "cell_type": "code",
   "execution_count": 291,
   "metadata": {},
   "outputs": [
    {
     "name": "stdout",
     "output_type": "stream",
     "text": [
      "RMSE: 24.1304207877\n"
     ]
    }
   ],
   "source": [
    "from sklearn import metrics\n",
    "print('RMSE:', np.sqrt(metrics.mean_squared_error(new_preds, y_test)))\n"
   ]
  },
  {
   "cell_type": "code",
   "execution_count": 292,
   "metadata": {},
   "outputs": [
    {
     "name": "stdout",
     "output_type": "stream",
     "text": [
      "[ 0.08776177  0.12252993  0.05062925  0.14604061  0.01429525]\n",
      "Accuracy: 0.08 (+/- 0.10)\n"
     ]
    }
   ],
   "source": [
    "from sklearn.model_selection import cross_val_score\n",
    "cross_score = cross_val_score(rreg,X_train,y_train,cv=5,n_jobs=-1)\n",
    "print(cross_score)\n",
    "print(\"Accuracy: %0.2f (+/- %0.2f)\" % (cross_score.mean(), cross_score.std() * 2))"
   ]
  },
  {
   "cell_type": "code",
   "execution_count": null,
   "metadata": {
    "collapsed": true
   },
   "outputs": [],
   "source": []
  }
 ],
 "metadata": {
  "kernelspec": {
   "display_name": "Python 3",
   "language": "python",
   "name": "python3"
  },
  "language_info": {
   "codemirror_mode": {
    "name": "ipython",
    "version": 3
   },
   "file_extension": ".py",
   "mimetype": "text/x-python",
   "name": "python",
   "nbconvert_exporter": "python",
   "pygments_lexer": "ipython3",
   "version": "3.6.1"
  }
 },
 "nbformat": 4,
 "nbformat_minor": 2
}

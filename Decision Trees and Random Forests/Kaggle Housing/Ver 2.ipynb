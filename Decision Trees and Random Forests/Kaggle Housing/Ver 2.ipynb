{
 "cells": [
  {
   "cell_type": "code",
   "execution_count": 2,
   "metadata": {
    "collapsed": true
   },
   "outputs": [],
   "source": [
    "import numpy as np\n",
    "import pandas as pd\n",
    "import matplotlib.pyplot as plt\n",
    "import seaborn as sns\n",
    "from scipy.stats import skew  \n",
    "%matplotlib inline"
   ]
  },
  {
   "cell_type": "code",
   "execution_count": 3,
   "metadata": {
    "collapsed": true
   },
   "outputs": [],
   "source": [
    "train = pd.read_csv(\"dataset/train.csv\")\n",
    "test = pd.read_csv(\"dataset/test.csv\")"
   ]
  },
  {
   "cell_type": "code",
   "execution_count": 4,
   "metadata": {},
   "outputs": [
    {
     "data": {
      "text/html": [
       "<div>\n",
       "<style>\n",
       "    .dataframe thead tr:only-child th {\n",
       "        text-align: right;\n",
       "    }\n",
       "\n",
       "    .dataframe thead th {\n",
       "        text-align: left;\n",
       "    }\n",
       "\n",
       "    .dataframe tbody tr th {\n",
       "        vertical-align: top;\n",
       "    }\n",
       "</style>\n",
       "<table border=\"1\" class=\"dataframe\">\n",
       "  <thead>\n",
       "    <tr style=\"text-align: right;\">\n",
       "      <th></th>\n",
       "      <th>Id</th>\n",
       "      <th>MSSubClass</th>\n",
       "      <th>MSZoning</th>\n",
       "      <th>LotFrontage</th>\n",
       "      <th>LotArea</th>\n",
       "      <th>Street</th>\n",
       "      <th>Alley</th>\n",
       "      <th>LotShape</th>\n",
       "      <th>LandContour</th>\n",
       "      <th>Utilities</th>\n",
       "      <th>...</th>\n",
       "      <th>PoolArea</th>\n",
       "      <th>PoolQC</th>\n",
       "      <th>Fence</th>\n",
       "      <th>MiscFeature</th>\n",
       "      <th>MiscVal</th>\n",
       "      <th>MoSold</th>\n",
       "      <th>YrSold</th>\n",
       "      <th>SaleType</th>\n",
       "      <th>SaleCondition</th>\n",
       "      <th>SalePrice</th>\n",
       "    </tr>\n",
       "  </thead>\n",
       "  <tbody>\n",
       "    <tr>\n",
       "      <th>0</th>\n",
       "      <td>1</td>\n",
       "      <td>60</td>\n",
       "      <td>RL</td>\n",
       "      <td>65.0</td>\n",
       "      <td>8450</td>\n",
       "      <td>Pave</td>\n",
       "      <td>NaN</td>\n",
       "      <td>Reg</td>\n",
       "      <td>Lvl</td>\n",
       "      <td>AllPub</td>\n",
       "      <td>...</td>\n",
       "      <td>0</td>\n",
       "      <td>NaN</td>\n",
       "      <td>NaN</td>\n",
       "      <td>NaN</td>\n",
       "      <td>0</td>\n",
       "      <td>2</td>\n",
       "      <td>2008</td>\n",
       "      <td>WD</td>\n",
       "      <td>Normal</td>\n",
       "      <td>208500</td>\n",
       "    </tr>\n",
       "    <tr>\n",
       "      <th>1</th>\n",
       "      <td>2</td>\n",
       "      <td>20</td>\n",
       "      <td>RL</td>\n",
       "      <td>80.0</td>\n",
       "      <td>9600</td>\n",
       "      <td>Pave</td>\n",
       "      <td>NaN</td>\n",
       "      <td>Reg</td>\n",
       "      <td>Lvl</td>\n",
       "      <td>AllPub</td>\n",
       "      <td>...</td>\n",
       "      <td>0</td>\n",
       "      <td>NaN</td>\n",
       "      <td>NaN</td>\n",
       "      <td>NaN</td>\n",
       "      <td>0</td>\n",
       "      <td>5</td>\n",
       "      <td>2007</td>\n",
       "      <td>WD</td>\n",
       "      <td>Normal</td>\n",
       "      <td>181500</td>\n",
       "    </tr>\n",
       "    <tr>\n",
       "      <th>2</th>\n",
       "      <td>3</td>\n",
       "      <td>60</td>\n",
       "      <td>RL</td>\n",
       "      <td>68.0</td>\n",
       "      <td>11250</td>\n",
       "      <td>Pave</td>\n",
       "      <td>NaN</td>\n",
       "      <td>IR1</td>\n",
       "      <td>Lvl</td>\n",
       "      <td>AllPub</td>\n",
       "      <td>...</td>\n",
       "      <td>0</td>\n",
       "      <td>NaN</td>\n",
       "      <td>NaN</td>\n",
       "      <td>NaN</td>\n",
       "      <td>0</td>\n",
       "      <td>9</td>\n",
       "      <td>2008</td>\n",
       "      <td>WD</td>\n",
       "      <td>Normal</td>\n",
       "      <td>223500</td>\n",
       "    </tr>\n",
       "    <tr>\n",
       "      <th>3</th>\n",
       "      <td>4</td>\n",
       "      <td>70</td>\n",
       "      <td>RL</td>\n",
       "      <td>60.0</td>\n",
       "      <td>9550</td>\n",
       "      <td>Pave</td>\n",
       "      <td>NaN</td>\n",
       "      <td>IR1</td>\n",
       "      <td>Lvl</td>\n",
       "      <td>AllPub</td>\n",
       "      <td>...</td>\n",
       "      <td>0</td>\n",
       "      <td>NaN</td>\n",
       "      <td>NaN</td>\n",
       "      <td>NaN</td>\n",
       "      <td>0</td>\n",
       "      <td>2</td>\n",
       "      <td>2006</td>\n",
       "      <td>WD</td>\n",
       "      <td>Abnorml</td>\n",
       "      <td>140000</td>\n",
       "    </tr>\n",
       "    <tr>\n",
       "      <th>4</th>\n",
       "      <td>5</td>\n",
       "      <td>60</td>\n",
       "      <td>RL</td>\n",
       "      <td>84.0</td>\n",
       "      <td>14260</td>\n",
       "      <td>Pave</td>\n",
       "      <td>NaN</td>\n",
       "      <td>IR1</td>\n",
       "      <td>Lvl</td>\n",
       "      <td>AllPub</td>\n",
       "      <td>...</td>\n",
       "      <td>0</td>\n",
       "      <td>NaN</td>\n",
       "      <td>NaN</td>\n",
       "      <td>NaN</td>\n",
       "      <td>0</td>\n",
       "      <td>12</td>\n",
       "      <td>2008</td>\n",
       "      <td>WD</td>\n",
       "      <td>Normal</td>\n",
       "      <td>250000</td>\n",
       "    </tr>\n",
       "  </tbody>\n",
       "</table>\n",
       "<p>5 rows × 81 columns</p>\n",
       "</div>"
      ],
      "text/plain": [
       "   Id  MSSubClass MSZoning  LotFrontage  LotArea Street Alley LotShape  \\\n",
       "0   1          60       RL         65.0     8450   Pave   NaN      Reg   \n",
       "1   2          20       RL         80.0     9600   Pave   NaN      Reg   \n",
       "2   3          60       RL         68.0    11250   Pave   NaN      IR1   \n",
       "3   4          70       RL         60.0     9550   Pave   NaN      IR1   \n",
       "4   5          60       RL         84.0    14260   Pave   NaN      IR1   \n",
       "\n",
       "  LandContour Utilities    ...     PoolArea PoolQC Fence MiscFeature MiscVal  \\\n",
       "0         Lvl    AllPub    ...            0    NaN   NaN         NaN       0   \n",
       "1         Lvl    AllPub    ...            0    NaN   NaN         NaN       0   \n",
       "2         Lvl    AllPub    ...            0    NaN   NaN         NaN       0   \n",
       "3         Lvl    AllPub    ...            0    NaN   NaN         NaN       0   \n",
       "4         Lvl    AllPub    ...            0    NaN   NaN         NaN       0   \n",
       "\n",
       "  MoSold YrSold  SaleType  SaleCondition  SalePrice  \n",
       "0      2   2008        WD         Normal     208500  \n",
       "1      5   2007        WD         Normal     181500  \n",
       "2      9   2008        WD         Normal     223500  \n",
       "3      2   2006        WD        Abnorml     140000  \n",
       "4     12   2008        WD         Normal     250000  \n",
       "\n",
       "[5 rows x 81 columns]"
      ]
     },
     "execution_count": 4,
     "metadata": {},
     "output_type": "execute_result"
    }
   ],
   "source": [
    "train.head()"
   ]
  },
  {
   "cell_type": "code",
   "execution_count": 5,
   "metadata": {},
   "outputs": [
    {
     "data": {
      "text/plain": [
       "Id               0\n",
       "MSSubClass       0\n",
       "MSZoning         0\n",
       "LotFrontage    259\n",
       "LotArea          0\n",
       "dtype: int64"
      ]
     },
     "execution_count": 5,
     "metadata": {},
     "output_type": "execute_result"
    }
   ],
   "source": [
    "train.isnull().sum().head()"
   ]
  },
  {
   "cell_type": "code",
   "execution_count": 6,
   "metadata": {},
   "outputs": [
    {
     "data": {
      "text/plain": [
       "Id               0\n",
       "MSSubClass       0\n",
       "MSZoning         4\n",
       "LotFrontage    227\n",
       "LotArea          0\n",
       "dtype: int64"
      ]
     },
     "execution_count": 6,
     "metadata": {},
     "output_type": "execute_result"
    }
   ],
   "source": [
    "test.isnull().sum().head()"
   ]
  },
  {
   "cell_type": "code",
   "execution_count": 7,
   "metadata": {},
   "outputs": [
    {
     "data": {
      "text/plain": [
       "<matplotlib.axes._subplots.AxesSubplot at 0x7f78eedefcc0>"
      ]
     },
     "execution_count": 7,
     "metadata": {},
     "output_type": "execute_result"
    },
    {
     "data": {
      "image/png": "[encoded data removed]",
      "text/plain": [
       "<matplotlib.figure.Figure at 0x7f78eedef0f0>"
      ]
     },
     "metadata": {},
     "output_type": "display_data"
    }
   ],
   "source": [
    "# data is right skewed\n",
    "train['SalePrice'].hist()"
   ]
  },
  {
   "cell_type": "code",
   "execution_count": 8,
   "metadata": {},
   "outputs": [
    {
     "data": {
      "text/plain": [
       "<matplotlib.axes._subplots.AxesSubplot at 0x7f78ec7b76a0>"
      ]
     },
     "execution_count": 8,
     "metadata": {},
     "output_type": "execute_result"
    },
    {
     "data": {
      "image/png": "[encoded data removed]",
      "text/plain": [
       "<matplotlib.figure.Figure at 0x7f78ec825550>"
      ]
     },
     "metadata": {},
     "output_type": "display_data"
    }
   ],
   "source": [
    "# After log the deviation seems to be normal \n",
    "np.log1p(train['SalePrice']).hist()"
   ]
  },
  {
   "cell_type": "code",
   "execution_count": 9,
   "metadata": {
    "collapsed": true
   },
   "outputs": [],
   "source": [
    "# get numeric and non numeric cols\n",
    "numeric_cols = [ col for col in train.columns if train[col].dtype!=\"object\" ]\n",
    "categorical_cols = [col for col in train.columns if col not in numeric_cols]"
   ]
  },
  {
   "cell_type": "code",
   "execution_count": 10,
   "metadata": {
    "collapsed": true
   },
   "outputs": [],
   "source": [
    "bothdf = pd.concat([train,test],axis=0)"
   ]
  },
  {
   "cell_type": "code",
   "execution_count": 11,
   "metadata": {},
   "outputs": [
    {
     "data": {
      "text/html": [
       "<div>\n",
       "<style>\n",
       "    .dataframe thead tr:only-child th {\n",
       "        text-align: right;\n",
       "    }\n",
       "\n",
       "    .dataframe thead th {\n",
       "        text-align: left;\n",
       "    }\n",
       "\n",
       "    .dataframe tbody tr th {\n",
       "        vertical-align: top;\n",
       "    }\n",
       "</style>\n",
       "<table border=\"1\" class=\"dataframe\">\n",
       "  <thead>\n",
       "    <tr style=\"text-align: right;\">\n",
       "      <th></th>\n",
       "      <th>Empty Values</th>\n",
       "    </tr>\n",
       "  </thead>\n",
       "  <tbody>\n",
       "    <tr>\n",
       "      <th>Alley</th>\n",
       "      <td>2721</td>\n",
       "    </tr>\n",
       "    <tr>\n",
       "      <th>Fence</th>\n",
       "      <td>2348</td>\n",
       "    </tr>\n",
       "    <tr>\n",
       "      <th>FireplaceQu</th>\n",
       "      <td>1420</td>\n",
       "    </tr>\n",
       "    <tr>\n",
       "      <th>MiscFeature</th>\n",
       "      <td>2814</td>\n",
       "    </tr>\n",
       "    <tr>\n",
       "      <th>PoolQC</th>\n",
       "      <td>2909</td>\n",
       "    </tr>\n",
       "    <tr>\n",
       "      <th>SalePrice</th>\n",
       "      <td>1459</td>\n",
       "    </tr>\n",
       "  </tbody>\n",
       "</table>\n",
       "</div>"
      ],
      "text/plain": [
       "             Empty Values\n",
       "Alley                2721\n",
       "Fence                2348\n",
       "FireplaceQu          1420\n",
       "MiscFeature          2814\n",
       "PoolQC               2909\n",
       "SalePrice            1459"
      ]
     },
     "execution_count": 11,
     "metadata": {},
     "output_type": "execute_result"
    }
   ],
   "source": [
    "empty_df =  pd.DataFrame(bothdf.isnull().sum(),columns=['Empty Values'])\n",
    "empty_df[empty_df['Empty Values']>1000]"
   ]
  },
  {
   "cell_type": "code",
   "execution_count": 12,
   "metadata": {
    "collapsed": true
   },
   "outputs": [],
   "source": [
    "bothdf = bothdf.drop(['Alley','Fence','FireplaceQu','MiscFeature','PoolQC'],axis=1)\n",
    "empty_df = empty_df.drop(['Alley','Fence','FireplaceQu','MiscFeature','PoolQC'],axis=0)\n"
   ]
  },
  {
   "cell_type": "code",
   "execution_count": 13,
   "metadata": {},
   "outputs": [
    {
     "data": {
      "text/html": [
       "<div>\n",
       "<style>\n",
       "    .dataframe thead tr:only-child th {\n",
       "        text-align: right;\n",
       "    }\n",
       "\n",
       "    .dataframe thead th {\n",
       "        text-align: left;\n",
       "    }\n",
       "\n",
       "    .dataframe tbody tr th {\n",
       "        vertical-align: top;\n",
       "    }\n",
       "</style>\n",
       "<table border=\"1\" class=\"dataframe\">\n",
       "  <thead>\n",
       "    <tr style=\"text-align: right;\">\n",
       "      <th></th>\n",
       "      <th>Empty Values</th>\n",
       "    </tr>\n",
       "  </thead>\n",
       "  <tbody>\n",
       "    <tr>\n",
       "      <th>SalePrice</th>\n",
       "      <td>1459</td>\n",
       "    </tr>\n",
       "    <tr>\n",
       "      <th>LotFrontage</th>\n",
       "      <td>486</td>\n",
       "    </tr>\n",
       "    <tr>\n",
       "      <th>GarageYrBlt</th>\n",
       "      <td>159</td>\n",
       "    </tr>\n",
       "    <tr>\n",
       "      <th>GarageQual</th>\n",
       "      <td>159</td>\n",
       "    </tr>\n",
       "    <tr>\n",
       "      <th>GarageFinish</th>\n",
       "      <td>159</td>\n",
       "    </tr>\n",
       "  </tbody>\n",
       "</table>\n",
       "</div>"
      ],
      "text/plain": [
       "              Empty Values\n",
       "SalePrice             1459\n",
       "LotFrontage            486\n",
       "GarageYrBlt            159\n",
       "GarageQual             159\n",
       "GarageFinish           159"
      ]
     },
     "execution_count": 13,
     "metadata": {},
     "output_type": "execute_result"
    }
   ],
   "source": [
    "empty_df = empty_df[empty_df['Empty Values']>0]\n",
    "empty_df = empty_df.sort_values(ascending=False,by='Empty Values')\n",
    "empty_df.head()"
   ]
  },
  {
   "cell_type": "code",
   "execution_count": 14,
   "metadata": {},
   "outputs": [
    {
     "data": {
      "text/plain": [
       "LotFrontage    1.000000\n",
       "LotArea        0.489896\n",
       "1stFlrSF       0.458247\n",
       "GrLivArea      0.382462\n",
       "GarageArea     0.359786\n",
       "Name: LotFrontage, dtype: float64"
      ]
     },
     "execution_count": 14,
     "metadata": {},
     "output_type": "execute_result"
    }
   ],
   "source": [
    "# get the highest correlation wrt LotFrontage\n",
    "# seems like LotFrontage has high corr wrt LotArea,1stFlrSF,GrLivArea,GarageArea\n",
    "corrdf = pd.DataFrame(bothdf.corr())\n",
    "corrdf['LotFrontage'].sort_values(ascending=False).head()"
   ]
  },
  {
   "cell_type": "code",
   "execution_count": 15,
   "metadata": {},
   "outputs": [
    {
     "data": {
      "text/html": [
       "<div>\n",
       "<style>\n",
       "    .dataframe thead tr:only-child th {\n",
       "        text-align: right;\n",
       "    }\n",
       "\n",
       "    .dataframe thead th {\n",
       "        text-align: left;\n",
       "    }\n",
       "\n",
       "    .dataframe tbody tr th {\n",
       "        vertical-align: top;\n",
       "    }\n",
       "</style>\n",
       "<table border=\"1\" class=\"dataframe\">\n",
       "  <thead>\n",
       "    <tr style=\"text-align: right;\">\n",
       "      <th></th>\n",
       "      <th>1stFlrSF</th>\n",
       "      <th>2ndFlrSF</th>\n",
       "      <th>3SsnPorch</th>\n",
       "      <th>BedroomAbvGr</th>\n",
       "      <th>BldgType</th>\n",
       "      <th>BsmtCond</th>\n",
       "      <th>BsmtExposure</th>\n",
       "      <th>BsmtFinSF1</th>\n",
       "      <th>BsmtFinSF2</th>\n",
       "      <th>BsmtFinType1</th>\n",
       "      <th>...</th>\n",
       "      <th>SaleType</th>\n",
       "      <th>ScreenPorch</th>\n",
       "      <th>Street</th>\n",
       "      <th>TotRmsAbvGrd</th>\n",
       "      <th>TotalBsmtSF</th>\n",
       "      <th>Utilities</th>\n",
       "      <th>WoodDeckSF</th>\n",
       "      <th>YearBuilt</th>\n",
       "      <th>YearRemodAdd</th>\n",
       "      <th>YrSold</th>\n",
       "    </tr>\n",
       "  </thead>\n",
       "  <tbody>\n",
       "    <tr>\n",
       "      <th>0</th>\n",
       "      <td>856</td>\n",
       "      <td>854</td>\n",
       "      <td>0</td>\n",
       "      <td>3</td>\n",
       "      <td>1Fam</td>\n",
       "      <td>TA</td>\n",
       "      <td>No</td>\n",
       "      <td>706.0</td>\n",
       "      <td>0.0</td>\n",
       "      <td>GLQ</td>\n",
       "      <td>...</td>\n",
       "      <td>WD</td>\n",
       "      <td>0</td>\n",
       "      <td>Pave</td>\n",
       "      <td>8</td>\n",
       "      <td>856.0</td>\n",
       "      <td>AllPub</td>\n",
       "      <td>0</td>\n",
       "      <td>2003</td>\n",
       "      <td>2003</td>\n",
       "      <td>2008</td>\n",
       "    </tr>\n",
       "    <tr>\n",
       "      <th>1</th>\n",
       "      <td>1262</td>\n",
       "      <td>0</td>\n",
       "      <td>0</td>\n",
       "      <td>3</td>\n",
       "      <td>1Fam</td>\n",
       "      <td>TA</td>\n",
       "      <td>Gd</td>\n",
       "      <td>978.0</td>\n",
       "      <td>0.0</td>\n",
       "      <td>ALQ</td>\n",
       "      <td>...</td>\n",
       "      <td>WD</td>\n",
       "      <td>0</td>\n",
       "      <td>Pave</td>\n",
       "      <td>6</td>\n",
       "      <td>1262.0</td>\n",
       "      <td>AllPub</td>\n",
       "      <td>298</td>\n",
       "      <td>1976</td>\n",
       "      <td>1976</td>\n",
       "      <td>2007</td>\n",
       "    </tr>\n",
       "    <tr>\n",
       "      <th>2</th>\n",
       "      <td>920</td>\n",
       "      <td>866</td>\n",
       "      <td>0</td>\n",
       "      <td>3</td>\n",
       "      <td>1Fam</td>\n",
       "      <td>TA</td>\n",
       "      <td>Mn</td>\n",
       "      <td>486.0</td>\n",
       "      <td>0.0</td>\n",
       "      <td>GLQ</td>\n",
       "      <td>...</td>\n",
       "      <td>WD</td>\n",
       "      <td>0</td>\n",
       "      <td>Pave</td>\n",
       "      <td>6</td>\n",
       "      <td>920.0</td>\n",
       "      <td>AllPub</td>\n",
       "      <td>0</td>\n",
       "      <td>2001</td>\n",
       "      <td>2002</td>\n",
       "      <td>2008</td>\n",
       "    </tr>\n",
       "    <tr>\n",
       "      <th>3</th>\n",
       "      <td>961</td>\n",
       "      <td>756</td>\n",
       "      <td>0</td>\n",
       "      <td>3</td>\n",
       "      <td>1Fam</td>\n",
       "      <td>Gd</td>\n",
       "      <td>No</td>\n",
       "      <td>216.0</td>\n",
       "      <td>0.0</td>\n",
       "      <td>ALQ</td>\n",
       "      <td>...</td>\n",
       "      <td>WD</td>\n",
       "      <td>0</td>\n",
       "      <td>Pave</td>\n",
       "      <td>7</td>\n",
       "      <td>756.0</td>\n",
       "      <td>AllPub</td>\n",
       "      <td>0</td>\n",
       "      <td>1915</td>\n",
       "      <td>1970</td>\n",
       "      <td>2006</td>\n",
       "    </tr>\n",
       "    <tr>\n",
       "      <th>4</th>\n",
       "      <td>1145</td>\n",
       "      <td>1053</td>\n",
       "      <td>0</td>\n",
       "      <td>4</td>\n",
       "      <td>1Fam</td>\n",
       "      <td>TA</td>\n",
       "      <td>Av</td>\n",
       "      <td>655.0</td>\n",
       "      <td>0.0</td>\n",
       "      <td>GLQ</td>\n",
       "      <td>...</td>\n",
       "      <td>WD</td>\n",
       "      <td>0</td>\n",
       "      <td>Pave</td>\n",
       "      <td>9</td>\n",
       "      <td>1145.0</td>\n",
       "      <td>AllPub</td>\n",
       "      <td>192</td>\n",
       "      <td>2000</td>\n",
       "      <td>2000</td>\n",
       "      <td>2008</td>\n",
       "    </tr>\n",
       "  </tbody>\n",
       "</table>\n",
       "<p>5 rows × 76 columns</p>\n",
       "</div>"
      ],
      "text/plain": [
       "   1stFlrSF  2ndFlrSF  3SsnPorch  BedroomAbvGr BldgType BsmtCond BsmtExposure  \\\n",
       "0       856       854          0             3     1Fam       TA           No   \n",
       "1      1262         0          0             3     1Fam       TA           Gd   \n",
       "2       920       866          0             3     1Fam       TA           Mn   \n",
       "3       961       756          0             3     1Fam       Gd           No   \n",
       "4      1145      1053          0             4     1Fam       TA           Av   \n",
       "\n",
       "   BsmtFinSF1  BsmtFinSF2 BsmtFinType1   ...   SaleType  ScreenPorch  Street  \\\n",
       "0       706.0         0.0          GLQ   ...         WD            0    Pave   \n",
       "1       978.0         0.0          ALQ   ...         WD            0    Pave   \n",
       "2       486.0         0.0          GLQ   ...         WD            0    Pave   \n",
       "3       216.0         0.0          ALQ   ...         WD            0    Pave   \n",
       "4       655.0         0.0          GLQ   ...         WD            0    Pave   \n",
       "\n",
       "  TotRmsAbvGrd  TotalBsmtSF Utilities WoodDeckSF YearBuilt YearRemodAdd  \\\n",
       "0            8        856.0    AllPub          0      2003         2003   \n",
       "1            6       1262.0    AllPub        298      1976         1976   \n",
       "2            6        920.0    AllPub          0      2001         2002   \n",
       "3            7        756.0    AllPub          0      1915         1970   \n",
       "4            9       1145.0    AllPub        192      2000         2000   \n",
       "\n",
       "   YrSold  \n",
       "0    2008  \n",
       "1    2007  \n",
       "2    2008  \n",
       "3    2006  \n",
       "4    2008  \n",
       "\n",
       "[5 rows x 76 columns]"
      ]
     },
     "execution_count": 15,
     "metadata": {},
     "output_type": "execute_result"
    }
   ],
   "source": [
    "# preparing internal ML model to get lotfrontage missing values\n",
    "bothdf[bothdf['LotFrontage'].notnull()].head()"
   ]
  },
  {
   "cell_type": "code",
   "execution_count": 16,
   "metadata": {},
   "outputs": [
    {
     "data": {
      "text/plain": [
       "LotArea        0\n",
       "1stFlrSF       0\n",
       "GrLivArea      0\n",
       "GarageArea     0\n",
       "LotFrontage    0\n",
       "dtype: int64"
      ]
     },
     "execution_count": 16,
     "metadata": {},
     "output_type": "execute_result"
    }
   ],
   "source": [
    "# preparing the dataframe for processing\n",
    "lotFr = bothdf[['LotArea','1stFlrSF','GrLivArea','GarageArea','LotFrontage']]\n",
    "lotFr_nn = lotFr[lotFr['LotFrontage'].notnull() & lotFr['GarageArea'].notnull()]\n",
    "lotFr.count()\n",
    "lotFr_nn.isnull().sum()"
   ]
  },
  {
   "cell_type": "code",
   "execution_count": 17,
   "metadata": {},
   "outputs": [
    {
     "data": {
      "text/html": [
       "<div>\n",
       "<style>\n",
       "    .dataframe thead tr:only-child th {\n",
       "        text-align: right;\n",
       "    }\n",
       "\n",
       "    .dataframe thead th {\n",
       "        text-align: left;\n",
       "    }\n",
       "\n",
       "    .dataframe tbody tr th {\n",
       "        vertical-align: top;\n",
       "    }\n",
       "</style>\n",
       "<table border=\"1\" class=\"dataframe\">\n",
       "  <thead>\n",
       "    <tr style=\"text-align: right;\">\n",
       "      <th></th>\n",
       "      <th>LotArea</th>\n",
       "      <th>1stFlrSF</th>\n",
       "      <th>GrLivArea</th>\n",
       "      <th>GarageArea</th>\n",
       "      <th>LotFrontage</th>\n",
       "    </tr>\n",
       "  </thead>\n",
       "  <tbody>\n",
       "    <tr>\n",
       "      <th>0</th>\n",
       "      <td>8450</td>\n",
       "      <td>856</td>\n",
       "      <td>1710</td>\n",
       "      <td>548.0</td>\n",
       "      <td>65.0</td>\n",
       "    </tr>\n",
       "    <tr>\n",
       "      <th>1</th>\n",
       "      <td>9600</td>\n",
       "      <td>1262</td>\n",
       "      <td>1262</td>\n",
       "      <td>460.0</td>\n",
       "      <td>80.0</td>\n",
       "    </tr>\n",
       "    <tr>\n",
       "      <th>2</th>\n",
       "      <td>11250</td>\n",
       "      <td>920</td>\n",
       "      <td>1786</td>\n",
       "      <td>608.0</td>\n",
       "      <td>68.0</td>\n",
       "    </tr>\n",
       "    <tr>\n",
       "      <th>3</th>\n",
       "      <td>9550</td>\n",
       "      <td>961</td>\n",
       "      <td>1717</td>\n",
       "      <td>642.0</td>\n",
       "      <td>60.0</td>\n",
       "    </tr>\n",
       "    <tr>\n",
       "      <th>4</th>\n",
       "      <td>14260</td>\n",
       "      <td>1145</td>\n",
       "      <td>2198</td>\n",
       "      <td>836.0</td>\n",
       "      <td>84.0</td>\n",
       "    </tr>\n",
       "  </tbody>\n",
       "</table>\n",
       "</div>"
      ],
      "text/plain": [
       "   LotArea  1stFlrSF  GrLivArea  GarageArea  LotFrontage\n",
       "0     8450       856       1710       548.0         65.0\n",
       "1     9600      1262       1262       460.0         80.0\n",
       "2    11250       920       1786       608.0         68.0\n",
       "3     9550       961       1717       642.0         60.0\n",
       "4    14260      1145       2198       836.0         84.0"
      ]
     },
     "execution_count": 17,
     "metadata": {},
     "output_type": "execute_result"
    }
   ],
   "source": [
    "lotFr_nn.head()"
   ]
  },
  {
   "cell_type": "code",
   "execution_count": 18,
   "metadata": {},
   "outputs": [
    {
     "data": {
      "text/plain": [
       "array([[  65.],\n",
       "       [  80.],\n",
       "       [  68.],\n",
       "       ..., \n",
       "       [ 160.],\n",
       "       [  62.],\n",
       "       [  74.]])"
      ]
     },
     "execution_count": 18,
     "metadata": {},
     "output_type": "execute_result"
    }
   ],
   "source": [
    "X_lot = lotFr_nn.iloc[:, :-1].values\n",
    "y_lot = lotFr_nn.iloc[:, 4:].values\n",
    "y_lot"
   ]
  },
  {
   "cell_type": "code",
   "execution_count": 19,
   "metadata": {
    "collapsed": true
   },
   "outputs": [],
   "source": [
    "from sklearn.model_selection import train_test_split\n",
    "X_train, X_test, y_train, y_test = train_test_split(X_lot, y_lot, test_size = 0.2, random_state = 0)"
   ]
  },
  {
   "cell_type": "code",
   "execution_count": 20,
   "metadata": {},
   "outputs": [
    {
     "data": {
      "text/plain": [
       "array([[ 1.68003075, -0.20157271,  0.15567425,  0.26288401],\n",
       "       [-0.18552924, -0.2798153 , -0.8838625 , -0.31187824],\n",
       "       [ 0.29960353,  0.8547022 ,  0.01603498,  0.0383675 ],\n",
       "       ..., \n",
       "       [ 0.2334953 ,  1.17256271,  0.26816143,  1.78061558],\n",
       "       [ 0.50548348,  0.5612925 , -0.21669713,  1.91532548],\n",
       "       [ 0.25310983,  0.93538987,  0.08003631,  1.43036983]])"
      ]
     },
     "execution_count": 20,
     "metadata": {},
     "output_type": "execute_result"
    }
   ],
   "source": [
    "from sklearn.preprocessing import StandardScaler\n",
    "sc_lotfr_X = StandardScaler()\n",
    "sc_lotfr_Y = StandardScaler()\n",
    "\n",
    "X_lot_train = sc_lotfr_X.fit_transform(X_train)\n",
    "X_lot_test = sc_lotfr_X.transform(X_test)\n",
    "\n",
    "y_lot_train = sc_lotfr_Y.fit_transform(y_train)\n",
    "y_lot_test = sc_lotfr_Y.transform(y_test)\n",
    "X_lot_test"
   ]
  },
  {
   "cell_type": "code",
   "execution_count": 23,
   "metadata": {},
   "outputs": [
    {
     "data": {
      "text/plain": [
       "array([[<matplotlib.axes._subplots.AxesSubplot object at 0x7f78eb397048>]], dtype=object)"
      ]
     },
     "execution_count": 23,
     "metadata": {},
     "output_type": "execute_result"
    },
    {
     "data": {
      "image/png": "[encoded data removed]",
      "text/plain": [
       "<matplotlib.figure.Figure at 0x7f78eb3cf5f8>"
      ]
     },
     "metadata": {},
     "output_type": "display_data"
    }
   ],
   "source": [
    "pd.DataFrame(y_lot_train).hist()"
   ]
  },
  {
   "cell_type": "code",
   "execution_count": 328,
   "metadata": {},
   "outputs": [
    {
     "data": {
      "text/plain": [
       "SVR(C=0.82, cache_size=200, coef0=0.0, degree=3, epsilon=0.1, gamma='auto',\n",
       "  kernel='linear', max_iter=-1, shrinking=True, tol=0.001, verbose=False)"
      ]
     },
     "execution_count": 328,
     "metadata": {},
     "output_type": "execute_result"
    }
   ],
   "source": [
    "from sklearn.svm import SVR\n",
    "lot_reg = SVR(C=0.82, kernel='linear')\n",
    "lot_reg.fit(X_lot_train,y_lot_train.ravel())"
   ]
  },
  {
   "cell_type": "code",
   "execution_count": 329,
   "metadata": {},
   "outputs": [
    {
     "data": {
      "text/plain": [
       "array([  1.59470539e+00,  -2.35858145e-01,   4.36977278e-01,\n",
       "        -1.02648799e+00,  -1.29731675e-01,  -3.64022329e-01,\n",
       "         9.23472790e-02,   2.16116254e-01,   1.05874941e-01,\n",
       "         1.27536744e+00,   1.39073652e+00,  -3.59520529e-01,\n",
       "         8.05898248e-01,  -6.77255917e-01,   5.83601126e-01,\n",
       "         6.76358003e-01,  -4.08616455e-01,  -2.18913496e-01,\n",
       "        -2.22191934e-01,   1.16882913e-01,   5.10876625e-02,\n",
       "         1.40595101e+00,   8.22323379e-01,   3.39983832e-01,\n",
       "        -8.65480287e-01,  -8.68557521e-02,  -4.27907830e-01,\n",
       "        -1.07502892e+00,  -5.30919640e-02,   4.74887409e-01,\n",
       "        -1.27428898e-01,  -7.01912008e-01,  -2.56523059e-01,\n",
       "        -6.82101866e-01,  -1.67256797e-01,   2.41357826e+00,\n",
       "        -1.27464044e-01,   1.77966036e-01,   1.31082175e-01,\n",
       "         1.28887737e-01,  -3.64055275e-01,   8.36941645e-02,\n",
       "        -2.10515021e-01,  -3.30553590e-01,   7.29739192e-02,\n",
       "        -1.63342870e-01,   1.89071523e-01,   2.93164547e-02,\n",
       "        -3.39170630e-01,   3.15193587e-01,   2.82044796e-01,\n",
       "         6.80498500e-01,  -1.84869923e-01,   2.33418710e-01,\n",
       "         1.08593992e-01,  -6.26906254e-02,   4.22942921e-01,\n",
       "        -2.49128138e-01,   5.00217347e-01,  -8.64685112e-01,\n",
       "        -9.09125420e-01,   7.11999741e-02,  -6.15890438e-01,\n",
       "        -7.97954735e-01,  -1.21163069e+00,   4.47722628e-01,\n",
       "        -6.33163155e-01,   1.18953779e-01,  -1.83803207e-01,\n",
       "        -1.07497462e+00,   5.24139757e-02,   8.71819515e-01,\n",
       "        -7.45053588e-01,  -3.87256554e-02,  -1.74286155e-01,\n",
       "         1.03460400e-02,   1.86739076e-01,  -4.42477119e-01,\n",
       "        -2.63937795e-01,  -5.54078240e-01,   1.04041624e+00,\n",
       "        -6.77337678e-01,   3.93121016e-01,   6.86978141e-01,\n",
       "        -2.76722881e-01,  -2.70770937e-01,  -1.55168212e+00,\n",
       "         3.92349762e-01,  -1.20544519e-01,  -1.77007692e-01,\n",
       "        -1.14250195e-01,  -9.76562940e-01,  -8.79011709e-01,\n",
       "        -6.96677425e-02,  -8.48045456e-01,   8.46132410e-01,\n",
       "         2.40571855e-01,   3.15875660e-01,  -4.53525965e-01,\n",
       "        -6.39592634e-01,   2.56380391e-01,  -5.76996628e-01,\n",
       "        -7.46688208e-01,  -3.37045020e-01,   6.04934165e-01,\n",
       "         2.89692778e-01,  -3.52855921e-01,  -3.43264707e-01,\n",
       "        -1.05757723e+00,  -1.91498115e-01,  -4.14103654e-01,\n",
       "        -5.69456915e-02,   1.44305484e-01,  -2.27030888e-01,\n",
       "        -3.82273354e-01,   5.76828805e-01,   2.91495814e-01,\n",
       "        -2.35932122e-01,  -3.19005023e-01,   3.75285431e-01,\n",
       "         1.99936894e-01,   1.82909255e-01,  -2.97949598e-01,\n",
       "        -5.56045968e-01,  -7.62555752e-02,   1.13933527e+00,\n",
       "         6.63834503e-01,   1.93878336e-01,  -4.18965181e-01,\n",
       "         4.77937650e-01,   1.56618296e+00,  -3.83071846e-01,\n",
       "         4.36807772e-01,   1.91213041e-01,   5.00911967e-01,\n",
       "         8.03541655e-03,  -7.74119329e-01,   6.43049143e-01,\n",
       "         3.41444487e-01,   2.99612375e-01,   3.98042470e+00,\n",
       "        -8.95778803e-01,  -2.55049821e-01,   1.95335271e-01,\n",
       "        -3.24986916e-01,  -6.52507535e-01,   2.17560523e-01,\n",
       "        -3.59406819e-01,   5.47042921e-01,  -1.09932989e+00,\n",
       "         9.25677004e-01,  -1.40862689e+00,   5.76828805e-01,\n",
       "        -6.03930100e-01,  -3.93717769e-01,   9.81081114e-01,\n",
       "        -3.84275136e-01,  -2.81249322e-01,   6.00425182e-01,\n",
       "        -3.11616802e-01,  -4.02410525e-01,  -1.84464165e-01,\n",
       "        -5.01743909e-01,  -3.45284978e-01,  -7.93308171e-02,\n",
       "        -7.41634456e-01,  -5.33168607e-01,   3.60082404e-01,\n",
       "        -6.81096787e-01,   6.52457902e-01,   5.80376163e-01,\n",
       "         1.70807185e+00,  -6.49428167e-01,  -8.08443012e-01,\n",
       "        -2.50071900e-01,  -1.40862689e+00,  -6.26596256e-01,\n",
       "         6.17964805e-01,  -5.36383839e-01,   9.77316078e-01,\n",
       "        -3.92848001e-01,   6.26423617e-01,  -1.47765426e-01,\n",
       "        -8.81637206e-01,   3.34848637e-03,   4.76826360e-01,\n",
       "         6.79352324e-01,   2.93619382e+00,  -4.25906046e-01,\n",
       "        -1.86305178e-01,  -7.80765972e-01,  -1.26568013e+00,\n",
       "         3.14366980e-01,  -6.69675950e-01,  -1.55420984e+00,\n",
       "         7.92905810e-02,   1.43515008e+00,  -4.59772874e-01,\n",
       "         1.07907067e+00,   5.44620722e-01,  -2.09820001e-01,\n",
       "         5.55556637e-01,  -3.69581666e-01,  -1.58774275e-01,\n",
       "        -5.80954560e-02,   1.23080727e+00,   6.32669696e-01,\n",
       "        -5.97850566e-01,  -6.88921396e-01,  -8.07076242e-01,\n",
       "         1.29199114e-01,  -2.75346622e-01,   2.97212503e-01,\n",
       "        -9.06020295e-01,  -8.97920604e-04,  -3.35228097e-01,\n",
       "         1.98017522e-01,  -2.04204160e-01,  -3.53851871e-01,\n",
       "         5.44357965e-01,   3.20918451e-01,  -5.12843542e-01,\n",
       "        -2.27556343e-01,  -2.63849333e-01,  -7.65329918e-01,\n",
       "        -1.31721287e+00,   1.50374469e-01,   1.74779305e-01,\n",
       "         3.01955214e-01,  -1.52398425e-01,   1.10601604e+00,\n",
       "        -9.18453968e-01,  -2.80412950e-01,  -1.97154953e-01,\n",
       "        -3.31441051e-01,  -6.93886145e-01,   7.73350612e-01,\n",
       "        -2.28202056e-01,   1.86155074e-01,   3.72610718e-01,\n",
       "         1.90536324e+00,  -8.05836418e-01,  -7.50413271e-01,\n",
       "         2.06216435e-01,  -8.03220915e-01,  -4.60360411e-01,\n",
       "         1.04015642e+00,  -8.21283727e-02,   1.57002888e-01,\n",
       "        -1.96360575e-01,   1.16347913e+00,   2.12936318e+00,\n",
       "         1.06122273e+00,  -4.90513459e-01,  -1.35629601e-01,\n",
       "         3.46268626e-02,  -5.43272225e-01,  -2.51437056e-01,\n",
       "        -9.28346553e-01,  -2.43095810e-01,   2.37639256e-01,\n",
       "        -2.26847605e-01,   5.86465809e-01,  -2.99641572e-01,\n",
       "        -4.88573156e-01,  -4.72151949e-01,   8.07343142e-02,\n",
       "        -1.96098621e-01,  -1.37230752e+00,  -1.32969984e-01,\n",
       "        -2.25093308e-02,   2.83972705e-02,   8.96968393e-01,\n",
       "        -1.40862689e+00,  -8.86546293e-01,   2.53271654e-01,\n",
       "         2.71250396e-01,   5.18472128e-01,   6.59068936e-01,\n",
       "         5.44907855e-01,  -2.57800857e-01,   1.01728979e+00,\n",
       "        -6.23692118e-01,  -3.75436346e-01,  -1.55469664e+00,\n",
       "        -3.34705448e-01,   5.30460489e-01,  -7.88937848e-02,\n",
       "        -6.57127688e-01,  -8.22660026e-04,  -3.54073327e-01,\n",
       "        -3.05360805e-01,  -5.90444773e-01,   1.56075173e+00,\n",
       "        -1.01976729e+00,  -4.87327202e-01,  -1.33719714e+00,\n",
       "        -1.13730185e-01,  -7.16990869e-02,   2.77949961e-01,\n",
       "         9.89404816e-01,  -1.26393794e+00,  -1.34010291e+00,\n",
       "         3.14053117e-01,  -2.60027564e-01,  -7.40932149e-02,\n",
       "         3.97234017e-01,  -3.77304202e-01,  -9.67961322e-01,\n",
       "        -1.04097752e+00,  -1.08076842e+00,   3.77688154e-01,\n",
       "        -4.32591932e-01,   2.82908221e-01,   2.44389435e-03,\n",
       "         4.70299948e-02,   7.68709372e-02,   2.66252790e-02,\n",
       "         1.69831895e-01,  -5.41298910e-01,  -5.26468530e-01,\n",
       "        -1.81365771e-01,  -2.80149574e-01,  -6.23513261e-01,\n",
       "        -4.83570970e-02,  -4.10001217e-01,   3.20358516e-02,\n",
       "         7.93368523e-02,   8.02843103e-01,  -5.42678626e-01,\n",
       "         1.08507938e+00,   3.72603322e-02,  -9.19895614e-01,\n",
       "        -9.50220728e-02,   2.02671065e-02,  -1.25544890e-01,\n",
       "         4.79247949e-01,  -5.85514221e-01,  -3.65730207e-01,\n",
       "         4.59759275e-01,  -1.47951546e-02,  -4.28569706e-01,\n",
       "        -4.70102831e-01,  -1.15132874e+00,  -3.56011744e-01,\n",
       "        -9.23884395e-02,   1.25370594e+00,   3.78841617e-01,\n",
       "        -2.12280518e-01,  -1.30544579e+00,  -6.60843143e-01,\n",
       "         2.57872271e-01,  -5.82878098e-01,  -7.02484403e-01,\n",
       "        -2.16399901e-01,   1.11304494e-01,  -1.45461006e-01,\n",
       "        -5.70187679e-02,  -4.64614080e-02,  -9.93304336e-03,\n",
       "        -3.35519018e-01,  -1.13033215e-01,   5.98341157e-01,\n",
       "         2.62110232e-01,   1.12837096e+00,   8.46577382e-02,\n",
       "        -1.89085567e-01,   6.06549622e-01,  -7.08811119e-01,\n",
       "         3.40439545e-01,  -2.72134464e-01,  -1.55092541e-01,\n",
       "         1.05460867e+00,   1.38606911e+00,   1.96176098e+00,\n",
       "        -1.07601922e-01,  -2.50413666e-01,   5.85887823e-01,\n",
       "         3.10192799e-01,  -5.67135411e-02,  -4.07415524e-01,\n",
       "        -6.51262793e-02,  -7.23856829e-01,   1.36648051e+00,\n",
       "        -3.48471148e-01,   6.96656104e-01,   5.03140818e-01,\n",
       "        -1.64027196e-01,   4.81890453e-01,  -1.64716754e-01,\n",
       "        -8.16208452e-01,  -1.22061432e+00,   1.72355827e-01,\n",
       "         1.86340113e-01,  -1.06288945e+00,   1.27774907e-01,\n",
       "         3.89538555e-01,   5.46217374e-02,   7.42250169e-02,\n",
       "        -1.56787109e-01,  -2.25268264e-01,  -1.59427044e-01,\n",
       "         5.56878360e-01,  -4.70106236e-01,   2.54414129e-01,\n",
       "        -3.73461897e-01,   1.33146163e-01,  -3.57217416e-01,\n",
       "         9.06440367e-02,   5.42528803e-01,  -3.96988505e-01,\n",
       "        -5.71821541e-01,   1.64913907e+00,   6.24547865e-02,\n",
       "        -2.06683815e-01,   3.61744571e-01,   1.52506159e-01,\n",
       "        -7.19627109e-01,   1.02321331e+00,  -5.17643921e-01,\n",
       "         4.37800096e-02,   5.21554220e-01,   2.82829095e-01,\n",
       "         8.56771260e-02,  -1.73615606e-01,   6.44272067e-01,\n",
       "        -1.19415802e-01,  -1.15467748e-01,   1.13107592e+00,\n",
       "        -9.94146939e-01,  -1.71020823e-01,  -3.72285537e-01,\n",
       "         3.27833176e-01,   4.36697769e-01,  -8.79346173e-01,\n",
       "         1.58796391e-01,  -2.41247483e-01,  -5.68552274e-01,\n",
       "        -6.45052337e-01,   4.70503790e-01,  -6.17255431e-01,\n",
       "        -4.13458344e-01,  -5.03321786e-02,  -6.02665804e-01,\n",
       "         8.12947784e-02,  -1.82682640e-01,  -5.04148893e-01,\n",
       "        -2.10473013e-01,   2.87857234e-01,  -1.01976729e+00,\n",
       "        -6.37053154e-02,   1.08959895e+00,   6.63067484e-01,\n",
       "        -1.12231788e-01,   6.67161271e-01,   5.58402871e-01,\n",
       "         2.99462047e-01,   1.54686372e-01,   4.56666190e-01,\n",
       "        -4.21315253e-01,   2.53887332e-01,   7.15582807e-01,\n",
       "        -5.44359481e-01,   8.24903501e-01,  -7.81965416e-01,\n",
       "         5.56244016e-01,  -9.24239894e-02,  -9.41313364e-01,\n",
       "        -7.13281763e-01,   1.13911993e+00,  -3.88293962e-01,\n",
       "         2.64135793e-01,   3.86883527e-01,   7.21446250e-01,\n",
       "         6.36949003e-02,  -4.91493046e-01,   5.67679471e-01,\n",
       "        -5.76760526e-01,  -8.01338435e-01,   3.85843788e-01,\n",
       "        -4.21111569e-01,   2.48542530e+00,  -3.45329571e-01,\n",
       "         2.62892899e-01,   6.44092861e-01,   8.10009923e-01,\n",
       "         5.79954553e-01])"
      ]
     },
     "execution_count": 329,
     "metadata": {},
     "output_type": "execute_result"
    }
   ],
   "source": [
    "fr_preds = lot_reg.predict(X_lot_test)\n",
    "fr_preds"
   ]
  },
  {
   "cell_type": "code",
   "execution_count": 330,
   "metadata": {},
   "outputs": [
    {
     "name": "stdout",
     "output_type": "stream",
     "text": [
      "[ 0.36072232  0.29508108  0.33045256  0.50327162  0.2436653 ]\n",
      "Accuracy: 0.35 (+/- 0.17)\n"
     ]
    }
   ],
   "source": [
    "from sklearn.model_selection import cross_val_score\n",
    "cross_score = cross_val_score(lot_reg,X_lot_test,y_lot_test,cv=5,n_jobs=-1)\n",
    "print(cross_score)\n",
    "print(\"Accuracy: %0.2f (+/- %0.2f)\" % (cross_score.mean(), cross_score.std() * 2))"
   ]
  },
  {
   "cell_type": "code",
   "execution_count": 331,
   "metadata": {},
   "outputs": [
    {
     "name": "stdout",
     "output_type": "stream",
     "text": [
      "RMSE: 0.720177837173\n"
     ]
    }
   ],
   "source": [
    "from sklearn import metrics\n",
    "print('RMSE:', np.sqrt(metrics.mean_squared_error(y_lot_test, fr_preds)))\n"
   ]
  },
  {
   "cell_type": "code",
   "execution_count": 289,
   "metadata": {},
   "outputs": [
    {
     "data": {
      "text/plain": [
       "DecisionTreeRegressor(criterion='mse', max_depth=None, max_features=None,\n",
       "           max_leaf_nodes=None, min_impurity_split=1e-07,\n",
       "           min_samples_leaf=1, min_samples_split=2,\n",
       "           min_weight_fraction_leaf=0.0, presort=False, random_state=None,\n",
       "           splitter='best')"
      ]
     },
     "execution_count": 289,
     "metadata": {},
     "output_type": "execute_result"
    }
   ],
   "source": [
    "# without transforming\n",
    "from sklearn.tree import DecisionTreeRegressor\n",
    "rreg = DecisionTreeRegressor()\n",
    "rreg.fit(X_train,y_train.ravel())"
   ]
  },
  {
   "cell_type": "code",
   "execution_count": 290,
   "metadata": {},
   "outputs": [
    {
     "data": {
      "text/plain": [
       "array([ 104.,   60.,   85.,   30.,   66.,   50.,   50.,   63.,   73.,\n",
       "        100.,  112.,   60.,  108.,   51.,  100.,   75.,   62.,   45.,\n",
       "         79.,   65.,   60.,  160.,  110.,   41.,   50.,   66.,   48.,\n",
       "         24.,   60.,   85.,   62.,   50.,   42.,   60.,   82.,  120.,\n",
       "         60.,   89.,   82.,   68.,   50.,   68.,   70.,   70.,   60.,\n",
       "         50.,   84.,   26.,   70.,   88.,   72.,   84.,   76.,   75.,\n",
       "         60.,   75.,   74.,   55.,  124.,   86.,   43.,  101.,   53.,\n",
       "         62.,   50.,   80.,   99.,   85.,   75.,   24.,   76.,   65.,\n",
       "         35.,   65.,   70.,   75.,   80.,   50.,   42.,   44.,   85.,\n",
       "         60.,   70.,   88.,   50.,   52.,   21.,   86.,   60.,   68.,\n",
       "         70.,   50.,   43.,   60.,   37.,   95.,   22.,   72.,   60.,\n",
       "         74.,   64.,   64.,   52.,   40.,   98.,   72.,   65.,   70.,\n",
       "         41.,   64.,   56.,   74.,   66.,   55.,   60.,   63.,   80.,\n",
       "         56.,   59.,   99.,   75.,   73.,   65.,   63.,   65.,  105.,\n",
       "         60.,   65.,   65.,   93.,   90.,   60.,   85.,   90.,   62.,\n",
       "         60.,   37.,   79.,   78.,   80.,   50.,   60.,   62.,   73.,\n",
       "         77.,   32.,   85.,   65.,   70.,   24.,  105.,   21.,   63.,\n",
       "         64.,   49.,   90.,   60.,   52.,   79.,   57.,   65.,   50.,\n",
       "         60.,   65.,   50.,   56.,   53.,   43.,   35.,   86.,   75.,\n",
       "         94.,   37.,   55.,   67.,   21.,   50.,   75.,   60.,  103.,\n",
       "         59.,  108.,  110.,   52.,   60.,   76.,   60.,  141.,   70.,\n",
       "         73.,   40.,   24.,   75.,   50.,   21.,   75.,  129.,   60.,\n",
       "         91.,   80.,   60.,   75.,   61.,   80.,   57.,   95.,   60.,\n",
       "         60.,   59.,   50.,   92.,   60.,   43.,   43.,   65.,   62.,\n",
       "         66.,   70.,   54.,  102.,   64.,   53.,   60.,   60.,   34.,\n",
       "         21.,   74.,   75.,   95.,   70.,  121.,   52.,   64.,   52.,\n",
       "         64.,   50.,   74.,   62.,   80.,   85.,  100.,   55.,   52.,\n",
       "         65.,   52.,   34.,  113.,   72.,   80.,  130.,   91.,  100.,\n",
       "        110.,   60.,   84.,   87.,   43.,   60.,   50.,   56.,   70.,\n",
       "         60.,   85.,   60.,   60.,   34.,   75.,   60.,   21.,   85.,\n",
       "         59.,   48.,  116.,   21.,   35.,   87.,   85.,   89.,   80.,\n",
       "         81.,   56.,   80.,   70.,   41.,   21.,   50.,   93.,   75.,\n",
       "         53.,   60.,   70.,   57.,   44.,   90.,   24.,   60.,   21.,\n",
       "         75.,   65.,   70.,   40.,   24.,   21.,   85.,   68.,   73.,\n",
       "         76.,   74.,  153.,   24.,   24.,   79.,   74.,   78.,   80.,\n",
       "         50.,   70.,   74.,   84.,   38.,   65.,   75.,   59.,   50.,\n",
       "         65.,   62.,   60.,   81.,   98.,   65.,  100.,   65.,   50.,\n",
       "         65.,   60.,   73.,   67.,   76.,   59.,   66.,   65.,   62.,\n",
       "         60.,   31.,   56.,   65.,   56.,   64.,   70.,   24.,   60.,\n",
       "         75.,   46.,   32.,   64.,   88.,   57.,   57.,   64.,   26.,\n",
       "         68.,   70.,   82.,   80.,  120.,   85.,   79.,   85.,   60.,\n",
       "         74.,   75.,   80.,  102.,  134.,   87.,   60.,   64.,   84.,\n",
       "         85.,   70.,   60.,   70.,   63.,  115.,   62.,   85.,   78.,\n",
       "         60.,   75.,   57.,   42.,   41.,   80.,   87.,   60.,   68.,\n",
       "         96.,   75.,   68.,   85.,   70.,   57.,   90.,   45.,   85.,\n",
       "         64.,  100.,   53.,   80.,   75.,   60.,   52.,  134.,   68.,\n",
       "         55.,   41.,   64.,   34.,   50.,   45.,   45.,  128.,   79.,\n",
       "         45.,   57.,  128.,   80.,   60.,   85.,   63.,   75.,   70.,\n",
       "         78.,   92.,   59.,   80.,   64.,   62.,   34.,   92.,   48.,\n",
       "         70.,   56.,   53.,   80.,   65.,   60.,   70.,   75.,   24.,\n",
       "         80.,   85.,  107.,   48.,   92.,   50.,   76.,   70.,   80.,\n",
       "         52.,   60.,   84.,   54.,   98.,   43.,   87.,  130.,   24.,\n",
       "         55.,  174.,   48.,   75.,   92.,   92.,   42.,   43.,   38.,\n",
       "         52.,   35.,   70.,   64.,  313.,   62.,   80.,   91.,  128.,   78.])"
      ]
     },
     "execution_count": 290,
     "metadata": {},
     "output_type": "execute_result"
    }
   ],
   "source": [
    "new_preds = rreg.predict(X_test)\n",
    "new_preds"
   ]
  },
  {
   "cell_type": "code",
   "execution_count": 291,
   "metadata": {},
   "outputs": [
    {
     "name": "stdout",
     "output_type": "stream",
     "text": [
      "RMSE: 24.1304207877\n"
     ]
    }
   ],
   "source": [
    "from sklearn import metrics\n",
    "print('RMSE:', np.sqrt(metrics.mean_squared_error(new_preds, y_test)))"
   ]
  },
  {
   "cell_type": "code",
   "execution_count": 292,
   "metadata": {},
   "outputs": [
    {
     "name": "stdout",
     "output_type": "stream",
     "text": [
      "[ 0.08776177  0.12252993  0.05062925  0.14604061  0.01429525]\n",
      "Accuracy: 0.08 (+/- 0.10)\n"
     ]
    }
   ],
   "source": [
    "from sklearn.model_selection import cross_val_score\n",
    "cross_score = cross_val_score(rreg,X_train,y_train,cv=5,n_jobs=-1)\n",
    "print(cross_score)\n",
    "print(\"Accuracy: %0.2f (+/- %0.2f)\" % (cross_score.mean(), cross_score.std() * 2))"
   ]
  },
  {
   "cell_type": "code",
   "execution_count": null,
   "metadata": {
    "collapsed": true
   },
   "outputs": [],
   "source": []
  }
 ],
 "metadata": {
  "kernelspec": {
   "display_name": "Python 3",
   "language": "python",
   "name": "python3"
  },
  "language_info": {
   "codemirror_mode": {
    "name": "ipython",
    "version": 3
   },
   "file_extension": ".py",
   "mimetype": "text/x-python",
   "name": "python",
   "nbconvert_exporter": "python",
   "pygments_lexer": "ipython3",
   "version": "3.6.1"
  }
 },
 "nbformat": 4,
 "nbformat_minor": 2
}

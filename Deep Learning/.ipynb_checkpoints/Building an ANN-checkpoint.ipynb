{
 "cells": [
  {
   "cell_type": "code",
   "execution_count": 3,
   "metadata": {
    "collapsed": true
   },
   "outputs": [],
   "source": [
    "import numpy as np\n",
    "import matplotlib.pyplot as plt\n",
    "import pandas as pd"
   ]
  },
  {
   "cell_type": "code",
   "execution_count": 5,
   "metadata": {},
   "outputs": [
    {
     "data": {
      "text/html": [
       "<div>\n",
       "<style>\n",
       "    .dataframe thead tr:only-child th {\n",
       "        text-align: right;\n",
       "    }\n",
       "\n",
       "    .dataframe thead th {\n",
       "        text-align: left;\n",
       "    }\n",
       "\n",
       "    .dataframe tbody tr th {\n",
       "        vertical-align: top;\n",
       "    }\n",
       "</style>\n",
       "<table border=\"1\" class=\"dataframe\">\n",
       "  <thead>\n",
       "    <tr style=\"text-align: right;\">\n",
       "      <th></th>\n",
       "      <th>RowNumber</th>\n",
       "      <th>CustomerId</th>\n",
       "      <th>Surname</th>\n",
       "      <th>CreditScore</th>\n",
       "      <th>Geography</th>\n",
       "      <th>Gender</th>\n",
       "      <th>Age</th>\n",
       "      <th>Tenure</th>\n",
       "      <th>Balance</th>\n",
       "      <th>NumOfProducts</th>\n",
       "      <th>HasCrCard</th>\n",
       "      <th>IsActiveMember</th>\n",
       "      <th>EstimatedSalary</th>\n",
       "      <th>Exited</th>\n",
       "    </tr>\n",
       "  </thead>\n",
       "  <tbody>\n",
       "    <tr>\n",
       "      <th>0</th>\n",
       "      <td>1</td>\n",
       "      <td>15634602</td>\n",
       "      <td>Hargrave</td>\n",
       "      <td>619</td>\n",
       "      <td>France</td>\n",
       "      <td>Female</td>\n",
       "      <td>42</td>\n",
       "      <td>2</td>\n",
       "      <td>0.00</td>\n",
       "      <td>1</td>\n",
       "      <td>1</td>\n",
       "      <td>1</td>\n",
       "      <td>101348.88</td>\n",
       "      <td>1</td>\n",
       "    </tr>\n",
       "    <tr>\n",
       "      <th>1</th>\n",
       "      <td>2</td>\n",
       "      <td>15647311</td>\n",
       "      <td>Hill</td>\n",
       "      <td>608</td>\n",
       "      <td>Spain</td>\n",
       "      <td>Female</td>\n",
       "      <td>41</td>\n",
       "      <td>1</td>\n",
       "      <td>83807.86</td>\n",
       "      <td>1</td>\n",
       "      <td>0</td>\n",
       "      <td>1</td>\n",
       "      <td>112542.58</td>\n",
       "      <td>0</td>\n",
       "    </tr>\n",
       "    <tr>\n",
       "      <th>2</th>\n",
       "      <td>3</td>\n",
       "      <td>15619304</td>\n",
       "      <td>Onio</td>\n",
       "      <td>502</td>\n",
       "      <td>France</td>\n",
       "      <td>Female</td>\n",
       "      <td>42</td>\n",
       "      <td>8</td>\n",
       "      <td>159660.80</td>\n",
       "      <td>3</td>\n",
       "      <td>1</td>\n",
       "      <td>0</td>\n",
       "      <td>113931.57</td>\n",
       "      <td>1</td>\n",
       "    </tr>\n",
       "    <tr>\n",
       "      <th>3</th>\n",
       "      <td>4</td>\n",
       "      <td>15701354</td>\n",
       "      <td>Boni</td>\n",
       "      <td>699</td>\n",
       "      <td>France</td>\n",
       "      <td>Female</td>\n",
       "      <td>39</td>\n",
       "      <td>1</td>\n",
       "      <td>0.00</td>\n",
       "      <td>2</td>\n",
       "      <td>0</td>\n",
       "      <td>0</td>\n",
       "      <td>93826.63</td>\n",
       "      <td>0</td>\n",
       "    </tr>\n",
       "    <tr>\n",
       "      <th>4</th>\n",
       "      <td>5</td>\n",
       "      <td>15737888</td>\n",
       "      <td>Mitchell</td>\n",
       "      <td>850</td>\n",
       "      <td>Spain</td>\n",
       "      <td>Female</td>\n",
       "      <td>43</td>\n",
       "      <td>2</td>\n",
       "      <td>125510.82</td>\n",
       "      <td>1</td>\n",
       "      <td>1</td>\n",
       "      <td>1</td>\n",
       "      <td>79084.10</td>\n",
       "      <td>0</td>\n",
       "    </tr>\n",
       "  </tbody>\n",
       "</table>\n",
       "</div>"
      ],
      "text/plain": [
       "   RowNumber  CustomerId   Surname  CreditScore Geography  Gender  Age  \\\n",
       "0          1    15634602  Hargrave          619    France  Female   42   \n",
       "1          2    15647311      Hill          608     Spain  Female   41   \n",
       "2          3    15619304      Onio          502    France  Female   42   \n",
       "3          4    15701354      Boni          699    France  Female   39   \n",
       "4          5    15737888  Mitchell          850     Spain  Female   43   \n",
       "\n",
       "   Tenure    Balance  NumOfProducts  HasCrCard  IsActiveMember  \\\n",
       "0       2       0.00              1          1               1   \n",
       "1       1   83807.86              1          0               1   \n",
       "2       8  159660.80              3          1               0   \n",
       "3       1       0.00              2          0               0   \n",
       "4       2  125510.82              1          1               1   \n",
       "\n",
       "   EstimatedSalary  Exited  \n",
       "0        101348.88       1  \n",
       "1        112542.58       0  \n",
       "2        113931.57       1  \n",
       "3         93826.63       0  \n",
       "4         79084.10       0  "
      ]
     },
     "execution_count": 5,
     "metadata": {},
     "output_type": "execute_result"
    }
   ],
   "source": [
    "dataset = pd.read_csv(\"Datasets/Churn_Modelling.csv\")\n",
    "dataset.head()"
   ]
  },
  {
   "cell_type": "code",
   "execution_count": 21,
   "metadata": {},
   "outputs": [
    {
     "name": "stdout",
     "output_type": "stream",
     "text": [
      "<class 'pandas.core.frame.DataFrame'>\n",
      "RangeIndex: 10000 entries, 0 to 9999\n",
      "Data columns (total 14 columns):\n",
      "RowNumber          10000 non-null int64\n",
      "CustomerId         10000 non-null int64\n",
      "Surname            10000 non-null object\n",
      "CreditScore        10000 non-null int64\n",
      "Geography          10000 non-null object\n",
      "Gender             10000 non-null object\n",
      "Age                10000 non-null int64\n",
      "Tenure             10000 non-null int64\n",
      "Balance            10000 non-null float64\n",
      "NumOfProducts      10000 non-null int64\n",
      "HasCrCard          10000 non-null int64\n",
      "IsActiveMember     10000 non-null int64\n",
      "EstimatedSalary    10000 non-null float64\n",
      "Exited             10000 non-null int64\n",
      "dtypes: float64(2), int64(9), object(3)\n",
      "memory usage: 1.1+ MB\n"
     ]
    }
   ],
   "source": [
    "dataset.info()"
   ]
  },
  {
   "cell_type": "code",
   "execution_count": 12,
   "metadata": {},
   "outputs": [
    {
     "data": {
      "text/plain": [
       "array([[619, 'France', 'Female', ..., 1, 1, 101348.88],\n",
       "       [608, 'Spain', 'Female', ..., 0, 1, 112542.58],\n",
       "       [502, 'France', 'Female', ..., 1, 0, 113931.57],\n",
       "       ..., \n",
       "       [709, 'France', 'Female', ..., 0, 1, 42085.58],\n",
       "       [772, 'Germany', 'Male', ..., 1, 0, 92888.52],\n",
       "       [792, 'France', 'Female', ..., 1, 0, 38190.78]], dtype=object)"
      ]
     },
     "execution_count": 12,
     "metadata": {},
     "output_type": "execute_result"
    }
   ],
   "source": [
    "X = dataset.iloc[:,[3,4,5,6,7,8,9,10,11,12]].values\n",
    "X "
   ]
  },
  {
   "cell_type": "code",
   "execution_count": 13,
   "metadata": {},
   "outputs": [
    {
     "data": {
      "text/plain": [
       "array([1, 0, 1, ..., 1, 1, 0], dtype=int64)"
      ]
     },
     "execution_count": 13,
     "metadata": {},
     "output_type": "execute_result"
    }
   ],
   "source": [
    "y = dataset.iloc[:,13].values\n",
    "y"
   ]
  },
  {
   "cell_type": "code",
   "execution_count": 17,
   "metadata": {},
   "outputs": [
    {
     "data": {
      "text/plain": [
       "array([0, 2, 0, ..., 0, 1, 0], dtype=object)"
      ]
     },
     "execution_count": 17,
     "metadata": {},
     "output_type": "execute_result"
    }
   ],
   "source": [
    "from sklearn.preprocessing import LabelEncoder, OneHotEncoder\n",
    "label_enc_X_country = LabelEncoder()\n",
    "X[:,1] = label_enc_X_country.fit_transform(X[:,1])\n",
    "X[:,1]"
   ]
  },
  {
   "cell_type": "code",
   "execution_count": 18,
   "metadata": {},
   "outputs": [
    {
     "data": {
      "text/plain": [
       "array([0, 0, 0, ..., 0, 1, 0], dtype=object)"
      ]
     },
     "execution_count": 18,
     "metadata": {},
     "output_type": "execute_result"
    }
   ],
   "source": [
    "label_enc_X_gender = LabelEncoder()\n",
    "X[:,2] =  label_enc_X_gender.fit_transform(X[:,2])\n",
    "X[:,2]"
   ]
  },
  {
   "cell_type": "code",
   "execution_count": 19,
   "metadata": {},
   "outputs": [
    {
     "data": {
      "text/plain": [
       "array([[619, 0, 0, ..., 1, 1, 101348.88],\n",
       "       [608, 2, 0, ..., 0, 1, 112542.58],\n",
       "       [502, 0, 0, ..., 1, 0, 113931.57],\n",
       "       ..., \n",
       "       [709, 0, 0, ..., 0, 1, 42085.58],\n",
       "       [772, 1, 1, ..., 1, 0, 92888.52],\n",
       "       [792, 0, 0, ..., 1, 0, 38190.78]], dtype=object)"
      ]
     },
     "execution_count": 19,
     "metadata": {},
     "output_type": "execute_result"
    }
   ],
   "source": [
    "X"
   ]
  },
  {
   "cell_type": "code",
   "execution_count": 20,
   "metadata": {},
   "outputs": [
    {
     "data": {
      "text/plain": [
       "array([[  1.00000000e+00,   0.00000000e+00,   0.00000000e+00, ...,\n",
       "          1.00000000e+00,   1.00000000e+00,   1.01348880e+05],\n",
       "       [  0.00000000e+00,   0.00000000e+00,   1.00000000e+00, ...,\n",
       "          0.00000000e+00,   1.00000000e+00,   1.12542580e+05],\n",
       "       [  1.00000000e+00,   0.00000000e+00,   0.00000000e+00, ...,\n",
       "          1.00000000e+00,   0.00000000e+00,   1.13931570e+05],\n",
       "       ..., \n",
       "       [  1.00000000e+00,   0.00000000e+00,   0.00000000e+00, ...,\n",
       "          0.00000000e+00,   1.00000000e+00,   4.20855800e+04],\n",
       "       [  0.00000000e+00,   1.00000000e+00,   0.00000000e+00, ...,\n",
       "          1.00000000e+00,   0.00000000e+00,   9.28885200e+04],\n",
       "       [  1.00000000e+00,   0.00000000e+00,   0.00000000e+00, ...,\n",
       "          1.00000000e+00,   0.00000000e+00,   3.81907800e+04]])"
      ]
     },
     "execution_count": 20,
     "metadata": {},
     "output_type": "execute_result"
    }
   ],
   "source": [
    "one_hot_enc = OneHotEncoder(categorical_features=[1])\n",
    "X = one_hot_enc.fit_transform(X).toarray()\n",
    "X"
   ]
  },
  {
   "cell_type": "code",
   "execution_count": 22,
   "metadata": {
    "scrolled": true
   },
   "outputs": [
    {
     "data": {
      "text/plain": [
       "array([[  0.00000000e+00,   0.00000000e+00,   6.19000000e+02, ...,\n",
       "          1.00000000e+00,   1.00000000e+00,   1.01348880e+05],\n",
       "       [  0.00000000e+00,   1.00000000e+00,   6.08000000e+02, ...,\n",
       "          0.00000000e+00,   1.00000000e+00,   1.12542580e+05],\n",
       "       [  0.00000000e+00,   0.00000000e+00,   5.02000000e+02, ...,\n",
       "          1.00000000e+00,   0.00000000e+00,   1.13931570e+05],\n",
       "       ..., \n",
       "       [  0.00000000e+00,   0.00000000e+00,   7.09000000e+02, ...,\n",
       "          0.00000000e+00,   1.00000000e+00,   4.20855800e+04],\n",
       "       [  1.00000000e+00,   0.00000000e+00,   7.72000000e+02, ...,\n",
       "          1.00000000e+00,   0.00000000e+00,   9.28885200e+04],\n",
       "       [  0.00000000e+00,   0.00000000e+00,   7.92000000e+02, ...,\n",
       "          1.00000000e+00,   0.00000000e+00,   3.81907800e+04]])"
      ]
     },
     "execution_count": 22,
     "metadata": {},
     "output_type": "execute_result"
    }
   ],
   "source": [
    "X = X[:,1:]\n",
    "X"
   ]
  },
  {
   "cell_type": "code",
   "execution_count": 24,
   "metadata": {},
   "outputs": [],
   "source": [
    "from sklearn.model_selection import train_test_split\n",
    "X_train, X_test, y_train, y_test = train_test_split(X, y, test_size=0.2, random_state=0)"
   ]
  },
  {
   "cell_type": "code",
   "execution_count": 25,
   "metadata": {
    "collapsed": true
   },
   "outputs": [],
   "source": [
    "from sklearn.preprocessing import StandardScaler\n",
    "scaler = StandardScaler()\n",
    "X_train = scaler.fit_transform(X_train)\n",
    "X_test  = scaler.transform(X_test)"
   ]
  },
  {
   "cell_type": "code",
   "execution_count": 26,
   "metadata": {},
   "outputs": [
    {
     "data": {
      "text/plain": [
       "array([[ 1.75486502, -0.57369368, -0.55204276, ...,  0.64259497,\n",
       "         0.9687384 ,  1.61085707],\n",
       "       [-0.5698444 , -0.57369368, -1.31490297, ...,  0.64259497,\n",
       "        -1.03227043,  0.49587037],\n",
       "       [-0.5698444 ,  1.74309049,  0.57162971, ...,  0.64259497,\n",
       "         0.9687384 , -0.42478674],\n",
       "       ..., \n",
       "       [-0.5698444 ,  1.74309049, -0.74791227, ...,  0.64259497,\n",
       "        -1.03227043,  0.71888467],\n",
       "       [ 1.75486502, -0.57369368, -0.00566991, ...,  0.64259497,\n",
       "         0.9687384 , -1.54507805],\n",
       "       [ 1.75486502, -0.57369368, -0.79945688, ...,  0.64259497,\n",
       "        -1.03227043,  1.61255917]])"
      ]
     },
     "execution_count": 26,
     "metadata": {},
     "output_type": "execute_result"
    }
   ],
   "source": [
    "X_test"
   ]
  },
  {
   "cell_type": "code",
   "execution_count": 27,
   "metadata": {},
   "outputs": [
    {
     "data": {
      "text/plain": [
       "array([[-0.5698444 ,  1.74309049,  0.16958176, ...,  0.64259497,\n",
       "        -1.03227043,  1.10643166],\n",
       "       [ 1.75486502, -0.57369368, -2.30455945, ...,  0.64259497,\n",
       "         0.9687384 , -0.74866447],\n",
       "       [-0.5698444 , -0.57369368, -1.19119591, ...,  0.64259497,\n",
       "        -1.03227043,  1.48533467],\n",
       "       ..., \n",
       "       [-0.5698444 , -0.57369368,  0.9015152 , ...,  0.64259497,\n",
       "        -1.03227043,  1.41231994],\n",
       "       [-0.5698444 ,  1.74309049, -0.62420521, ...,  0.64259497,\n",
       "         0.9687384 ,  0.84432121],\n",
       "       [ 1.75486502, -0.57369368, -0.28401079, ...,  0.64259497,\n",
       "        -1.03227043,  0.32472465]])"
      ]
     },
     "execution_count": 27,
     "metadata": {},
     "output_type": "execute_result"
    }
   ],
   "source": [
    "X_train"
   ]
  },
  {
   "cell_type": "code",
   "execution_count": 28,
   "metadata": {},
   "outputs": [
    {
     "name": "stderr",
     "output_type": "stream",
     "text": [
      "Using TensorFlow backend.\n"
     ]
    }
   ],
   "source": [
    "import keras\n",
    "from keras.models import Sequential\n",
    "from keras.layers import Dense"
   ]
  },
  {
   "cell_type": "code",
   "execution_count": 35,
   "metadata": {
    "collapsed": true
   },
   "outputs": [],
   "source": [
    "classifier = Sequential()\n",
    "classifier1 = Sequential()"
   ]
  },
  {
   "cell_type": "code",
   "execution_count": 34,
   "metadata": {},
   "outputs": [
    {
     "name": "stderr",
     "output_type": "stream",
     "text": [
      "C:\\Users\\Rakshith\\Miniconda3\\envs\\machinelearning\\lib\\site-packages\\ipykernel_launcher.py:1: UserWarning: Update your `Dense` call to the Keras 2 API: `Dense(activation=\"relu\", input_dim=11, units=6, kernel_initializer=\"uniform\")`\n",
      "  \"\"\"Entry point for launching an IPython kernel.\n"
     ]
    }
   ],
   "source": [
    "classifier.add(Dense(output_dim=6, init = 'uniform', activation ='relu',input_dim=11))"
   ]
  },
  {
   "cell_type": "code",
   "execution_count": 38,
   "metadata": {},
   "outputs": [],
   "source": [
    "classifier1.add(Dense(units=6,activation='relu',input_dim=11,bias_initializer='uniform'))\n"
   ]
  },
  {
   "cell_type": "code",
   "execution_count": 39,
   "metadata": {
    "collapsed": true
   },
   "outputs": [],
   "source": [
    "classifier1.add(Dense(units=6,activation='relu',bias_initializer='uniform'))"
   ]
  },
  {
   "cell_type": "code",
   "execution_count": 40,
   "metadata": {
    "collapsed": true
   },
   "outputs": [],
   "source": [
    "classifier1.add(Dense(units=1,activation='sigmoid',input_dim=11,bias_initializer='uniform'))"
   ]
  },
  {
   "cell_type": "code",
   "execution_count": 41,
   "metadata": {
    "collapsed": true
   },
   "outputs": [],
   "source": [
    "classifier1.compile(optimizer='adam',loss='binary_crossentropy',\n",
    "              metrics=['accuracy'])"
   ]
  },
  {
   "cell_type": "code",
   "execution_count": 42,
   "metadata": {},
   "outputs": [
    {
     "name": "stdout",
     "output_type": "stream",
     "text": [
      "Epoch 1/100\n",
      "8000/8000 [==============================] - 1s - loss: 0.5042 - acc: 0.7941     \n",
      "Epoch 2/100\n",
      "8000/8000 [==============================] - 0s - loss: 0.4387 - acc: 0.8026     \n",
      "Epoch 3/100\n",
      "8000/8000 [==============================] - 0s - loss: 0.4238 - acc: 0.8059     \n",
      "Epoch 4/100\n",
      "8000/8000 [==============================] - 0s - loss: 0.4108 - acc: 0.8100     \n",
      "Epoch 5/100\n",
      "8000/8000 [==============================] - 0s - loss: 0.3975 - acc: 0.8139     \n",
      "Epoch 6/100\n",
      "8000/8000 [==============================] - 0s - loss: 0.3850 - acc: 0.8296     \n",
      "Epoch 7/100\n",
      "8000/8000 [==============================] - 0s - loss: 0.3715 - acc: 0.8384     \n",
      "Epoch 8/100\n",
      "8000/8000 [==============================] - 0s - loss: 0.3604 - acc: 0.8524     \n",
      "Epoch 9/100\n",
      "8000/8000 [==============================] - 0s - loss: 0.3525 - acc: 0.8556     \n",
      "Epoch 10/100\n",
      "8000/8000 [==============================] - 0s - loss: 0.3472 - acc: 0.8575     \n",
      "Epoch 11/100\n",
      "8000/8000 [==============================] - 0s - loss: 0.3444 - acc: 0.8609     \n",
      "Epoch 12/100\n",
      "8000/8000 [==============================] - 0s - loss: 0.3420 - acc: 0.8601     \n",
      "Epoch 13/100\n",
      "8000/8000 [==============================] - 0s - loss: 0.3407 - acc: 0.8622     \n",
      "Epoch 14/100\n",
      "8000/8000 [==============================] - 0s - loss: 0.3395 - acc: 0.8606     \n",
      "Epoch 15/100\n",
      "8000/8000 [==============================] - 0s - loss: 0.3386 - acc: 0.8607     \n",
      "Epoch 16/100\n",
      "8000/8000 [==============================] - 0s - loss: 0.3377 - acc: 0.8639     \n",
      "Epoch 17/100\n",
      "8000/8000 [==============================] - 0s - loss: 0.3380 - acc: 0.8619     \n",
      "Epoch 18/100\n",
      "8000/8000 [==============================] - 0s - loss: 0.3373 - acc: 0.8620     \n",
      "Epoch 19/100\n",
      "8000/8000 [==============================] - 0s - loss: 0.3363 - acc: 0.8620     \n",
      "Epoch 20/100\n",
      "8000/8000 [==============================] - 0s - loss: 0.3365 - acc: 0.8626     \n",
      "Epoch 21/100\n",
      "8000/8000 [==============================] - 0s - loss: 0.3357 - acc: 0.8619     \n",
      "Epoch 22/100\n",
      "8000/8000 [==============================] - 0s - loss: 0.3355 - acc: 0.8634     \n",
      "Epoch 23/100\n",
      "8000/8000 [==============================] - 0s - loss: 0.3348 - acc: 0.8635     \n",
      "Epoch 24/100\n",
      "8000/8000 [==============================] - 0s - loss: 0.3352 - acc: 0.8637     \n",
      "Epoch 25/100\n",
      "8000/8000 [==============================] - 0s - loss: 0.3346 - acc: 0.8631     \n",
      "Epoch 26/100\n",
      "8000/8000 [==============================] - 0s - loss: 0.3341 - acc: 0.8646     \n",
      "Epoch 27/100\n",
      "8000/8000 [==============================] - 0s - loss: 0.3339 - acc: 0.8656     \n",
      "Epoch 28/100\n",
      "8000/8000 [==============================] - 0s - loss: 0.3337 - acc: 0.8642     \n",
      "Epoch 29/100\n",
      "8000/8000 [==============================] - 0s - loss: 0.3333 - acc: 0.8646     \n",
      "Epoch 30/100\n",
      "8000/8000 [==============================] - 0s - loss: 0.3331 - acc: 0.8656     \n",
      "Epoch 31/100\n",
      "8000/8000 [==============================] - 0s - loss: 0.3335 - acc: 0.8649     \n",
      "Epoch 32/100\n",
      "8000/8000 [==============================] - 0s - loss: 0.3333 - acc: 0.8640     \n",
      "Epoch 33/100\n",
      "8000/8000 [==============================] - 0s - loss: 0.3327 - acc: 0.8646     \n",
      "Epoch 34/100\n",
      "8000/8000 [==============================] - 0s - loss: 0.3328 - acc: 0.8627     \n",
      "Epoch 35/100\n",
      "8000/8000 [==============================] - 0s - loss: 0.3321 - acc: 0.8632     \n",
      "Epoch 36/100\n",
      "8000/8000 [==============================] - 0s - loss: 0.3319 - acc: 0.8645     \n",
      "Epoch 37/100\n",
      "8000/8000 [==============================] - 0s - loss: 0.3324 - acc: 0.8651     \n",
      "Epoch 38/100\n",
      "8000/8000 [==============================] - 0s - loss: 0.3320 - acc: 0.8652     \n",
      "Epoch 39/100\n",
      "8000/8000 [==============================] - 0s - loss: 0.3323 - acc: 0.8646     \n",
      "Epoch 40/100\n",
      "8000/8000 [==============================] - 0s - loss: 0.3321 - acc: 0.8649     \n",
      "Epoch 41/100\n",
      "8000/8000 [==============================] - 0s - loss: 0.3321 - acc: 0.8659     \n",
      "Epoch 42/100\n",
      "8000/8000 [==============================] - 0s - loss: 0.3317 - acc: 0.8639     \n",
      "Epoch 43/100\n",
      "8000/8000 [==============================] - 0s - loss: 0.3317 - acc: 0.8665     \n",
      "Epoch 44/100\n",
      "8000/8000 [==============================] - 0s - loss: 0.3320 - acc: 0.8642     \n",
      "Epoch 45/100\n",
      "8000/8000 [==============================] - 0s - loss: 0.3319 - acc: 0.8657     \n",
      "Epoch 46/100\n",
      "8000/8000 [==============================] - 0s - loss: 0.3316 - acc: 0.8644     \n",
      "Epoch 47/100\n",
      "8000/8000 [==============================] - 0s - loss: 0.3319 - acc: 0.8652     \n",
      "Epoch 48/100\n",
      "8000/8000 [==============================] - 0s - loss: 0.3319 - acc: 0.8634     \n",
      "Epoch 49/100\n",
      "8000/8000 [==============================] - 0s - loss: 0.3319 - acc: 0.8650     \n",
      "Epoch 50/100\n",
      "8000/8000 [==============================] - 0s - loss: 0.3312 - acc: 0.8661     \n",
      "Epoch 51/100\n",
      "8000/8000 [==============================] - 0s - loss: 0.3311 - acc: 0.8647     \n",
      "Epoch 52/100\n",
      "8000/8000 [==============================] - 0s - loss: 0.3313 - acc: 0.8650     \n",
      "Epoch 53/100\n",
      "8000/8000 [==============================] - 0s - loss: 0.3315 - acc: 0.8640     \n",
      "Epoch 54/100\n",
      "8000/8000 [==============================] - 0s - loss: 0.3308 - acc: 0.8639     \n",
      "Epoch 55/100\n",
      "8000/8000 [==============================] - 0s - loss: 0.3311 - acc: 0.8664     \n",
      "Epoch 56/100\n",
      "8000/8000 [==============================] - 0s - loss: 0.3314 - acc: 0.8651     \n",
      "Epoch 57/100\n",
      "8000/8000 [==============================] - 0s - loss: 0.3312 - acc: 0.8647     \n",
      "Epoch 58/100\n",
      "8000/8000 [==============================] - 0s - loss: 0.3314 - acc: 0.8655     \n",
      "Epoch 59/100\n",
      "8000/8000 [==============================] - 0s - loss: 0.3312 - acc: 0.8647     - ETA: 0s - loss: 0.284\n",
      "Epoch 60/100\n",
      "8000/8000 [==============================] - 0s - loss: 0.3306 - acc: 0.8649     \n",
      "Epoch 61/100\n",
      "8000/8000 [==============================] - 0s - loss: 0.3313 - acc: 0.8637     \n",
      "Epoch 62/100\n",
      "8000/8000 [==============================] - 0s - loss: 0.3306 - acc: 0.8661     \n",
      "Epoch 63/100\n",
      "8000/8000 [==============================] - 0s - loss: 0.3311 - acc: 0.8661     \n",
      "Epoch 64/100\n",
      "8000/8000 [==============================] - 0s - loss: 0.3307 - acc: 0.8646     \n",
      "Epoch 65/100\n",
      "8000/8000 [==============================] - 0s - loss: 0.3308 - acc: 0.8647     \n",
      "Epoch 66/100\n",
      "8000/8000 [==============================] - 0s - loss: 0.3303 - acc: 0.8646     \n",
      "Epoch 67/100\n",
      "8000/8000 [==============================] - 0s - loss: 0.3306 - acc: 0.8652     \n",
      "Epoch 68/100\n",
      "8000/8000 [==============================] - 0s - loss: 0.3302 - acc: 0.8644     \n",
      "Epoch 69/100\n",
      "8000/8000 [==============================] - 0s - loss: 0.3305 - acc: 0.8645     \n",
      "Epoch 70/100\n",
      "8000/8000 [==============================] - 0s - loss: 0.3306 - acc: 0.8645     \n",
      "Epoch 71/100\n",
      "8000/8000 [==============================] - 0s - loss: 0.3303 - acc: 0.8656     \n",
      "Epoch 72/100\n",
      "8000/8000 [==============================] - 0s - loss: 0.3301 - acc: 0.8661     \n",
      "Epoch 73/100\n",
      "8000/8000 [==============================] - 0s - loss: 0.3304 - acc: 0.8659     \n",
      "Epoch 74/100\n",
      "8000/8000 [==============================] - 0s - loss: 0.3303 - acc: 0.8651     \n",
      "Epoch 75/100\n",
      "8000/8000 [==============================] - 0s - loss: 0.3303 - acc: 0.8647     \n",
      "Epoch 76/100\n",
      "8000/8000 [==============================] - 0s - loss: 0.3299 - acc: 0.8659     \n",
      "Epoch 77/100\n",
      "8000/8000 [==============================] - 0s - loss: 0.3306 - acc: 0.8644     \n",
      "Epoch 78/100\n",
      "8000/8000 [==============================] - 0s - loss: 0.3297 - acc: 0.8665     \n",
      "Epoch 79/100\n",
      "8000/8000 [==============================] - 0s - loss: 0.3303 - acc: 0.8651     \n",
      "Epoch 80/100\n",
      "8000/8000 [==============================] - 0s - loss: 0.3302 - acc: 0.8676     \n",
      "Epoch 81/100\n",
      "8000/8000 [==============================] - 0s - loss: 0.3301 - acc: 0.8662     \n",
      "Epoch 82/100\n",
      "8000/8000 [==============================] - 0s - loss: 0.3305 - acc: 0.8657     \n",
      "Epoch 83/100\n",
      "8000/8000 [==============================] - 0s - loss: 0.3301 - acc: 0.8665     \n",
      "Epoch 84/100\n",
      "8000/8000 [==============================] - 0s - loss: 0.3296 - acc: 0.8654     \n",
      "Epoch 85/100\n",
      "8000/8000 [==============================] - 0s - loss: 0.3298 - acc: 0.8651     \n",
      "Epoch 86/100\n",
      "8000/8000 [==============================] - 0s - loss: 0.3299 - acc: 0.8646     \n",
      "Epoch 87/100\n"
     ]
    },
    {
     "name": "stdout",
     "output_type": "stream",
     "text": [
      "8000/8000 [==============================] - 0s - loss: 0.3303 - acc: 0.8644     \n",
      "Epoch 88/100\n",
      "8000/8000 [==============================] - 0s - loss: 0.3294 - acc: 0.8654     \n",
      "Epoch 89/100\n",
      "8000/8000 [==============================] - 0s - loss: 0.3293 - acc: 0.8644     \n",
      "Epoch 90/100\n",
      "8000/8000 [==============================] - 0s - loss: 0.3294 - acc: 0.8666     \n",
      "Epoch 91/100\n",
      "8000/8000 [==============================] - 0s - loss: 0.3294 - acc: 0.8669     \n",
      "Epoch 92/100\n",
      "8000/8000 [==============================] - 0s - loss: 0.3297 - acc: 0.8660     \n",
      "Epoch 93/100\n",
      "8000/8000 [==============================] - 0s - loss: 0.3293 - acc: 0.8670     \n",
      "Epoch 94/100\n",
      "8000/8000 [==============================] - 0s - loss: 0.3294 - acc: 0.8657     \n",
      "Epoch 95/100\n",
      "8000/8000 [==============================] - 0s - loss: 0.3291 - acc: 0.8662     \n",
      "Epoch 96/100\n",
      "8000/8000 [==============================] - 0s - loss: 0.3290 - acc: 0.8677     \n",
      "Epoch 97/100\n",
      "8000/8000 [==============================] - 0s - loss: 0.3290 - acc: 0.8664     \n",
      "Epoch 98/100\n",
      "8000/8000 [==============================] - 0s - loss: 0.3292 - acc: 0.8671     \n",
      "Epoch 99/100\n",
      "8000/8000 [==============================] - 0s - loss: 0.3289 - acc: 0.8657     \n",
      "Epoch 100/100\n",
      "8000/8000 [==============================] - 0s - loss: 0.3284 - acc: 0.8666     \n"
     ]
    },
    {
     "data": {
      "text/plain": [
       "<keras.callbacks.History at 0x13a912ff940>"
      ]
     },
     "execution_count": 42,
     "metadata": {},
     "output_type": "execute_result"
    }
   ],
   "source": [
    "classifier1.fit(X_train,y_train,epochs=100, batch_size=10)"
   ]
  },
  {
   "cell_type": "code",
   "execution_count": null,
   "metadata": {
    "collapsed": true
   },
   "outputs": [],
   "source": [
    "preds = classifier1.predict(X_test)"
   ]
  }
 ],
 "metadata": {
  "kernelspec": {
   "display_name": "Python 3",
   "language": "python",
   "name": "python3"
  },
  "language_info": {
   "codemirror_mode": {
    "name": "ipython",
    "version": 3
   },
   "file_extension": ".py",
   "mimetype": "text/x-python",
   "name": "python",
   "nbconvert_exporter": "python",
   "pygments_lexer": "ipython3",
   "version": "3.6.1"
  }
 },
 "nbformat": 4,
 "nbformat_minor": 2
}

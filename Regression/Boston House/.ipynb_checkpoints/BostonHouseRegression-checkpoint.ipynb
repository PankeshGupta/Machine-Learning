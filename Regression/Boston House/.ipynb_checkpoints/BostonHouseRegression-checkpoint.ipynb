{
 "cells": [
  {
   "cell_type": "code",
   "execution_count": 25,
   "metadata": {
    "collapsed": true
   },
   "outputs": [],
   "source": [
    "import numpy as np\n",
    "import sklearn\n",
    "import matplotlib.pyplot as plt\n",
    "import seaborn as sns\n",
    "import pandas as pd\n",
    "%matplotlib inline\n"
   ]
  },
  {
   "cell_type": "code",
   "execution_count": 46,
   "metadata": {},
   "outputs": [
    {
     "data": {
      "text/plain": [
       "dict_keys(['data', 'target', 'feature_names', 'DESCR'])"
      ]
     },
     "execution_count": 46,
     "metadata": {},
     "output_type": "execute_result"
    }
   ],
   "source": [
    "# check out how the data looks\n",
    "from sklearn.datasets import load_boston\n",
    "boston = load_boston()\n",
    "boston.keys()"
   ]
  },
  {
   "cell_type": "code",
   "execution_count": 56,
   "metadata": {},
   "outputs": [
    {
     "data": {
      "text/plain": [
       "array(['CRIM', 'ZN', 'INDUS', 'CHAS', 'NOX', 'RM', 'AGE', 'DIS', 'RAD',\n",
       "       'TAX', 'PTRATIO', 'B', 'LSTAT'], \n",
       "      dtype='<U7')"
      ]
     },
     "execution_count": 56,
     "metadata": {},
     "output_type": "execute_result"
    }
   ],
   "source": [
    "# get the features \n",
    "boston.feature_names "
   ]
  },
  {
   "cell_type": "code",
   "execution_count": 60,
   "metadata": {},
   "outputs": [
    {
     "data": {
      "text/html": [
       "<div>\n",
       "<table border=\"1\" class=\"dataframe\">\n",
       "  <thead>\n",
       "    <tr style=\"text-align: right;\">\n",
       "      <th></th>\n",
       "      <th>CRIM</th>\n",
       "      <th>ZN</th>\n",
       "      <th>INDUS</th>\n",
       "      <th>CHAS</th>\n",
       "      <th>NOX</th>\n",
       "      <th>RM</th>\n",
       "      <th>AGE</th>\n",
       "      <th>DIS</th>\n",
       "      <th>RAD</th>\n",
       "      <th>TAX</th>\n",
       "      <th>PTRATIO</th>\n",
       "      <th>B</th>\n",
       "      <th>LSTAT</th>\n",
       "      <th>TARGET</th>\n",
       "    </tr>\n",
       "  </thead>\n",
       "  <tbody>\n",
       "    <tr>\n",
       "      <th>0</th>\n",
       "      <td>0.00632</td>\n",
       "      <td>18.0</td>\n",
       "      <td>2.31</td>\n",
       "      <td>0.0</td>\n",
       "      <td>0.538</td>\n",
       "      <td>6.575</td>\n",
       "      <td>65.2</td>\n",
       "      <td>4.0900</td>\n",
       "      <td>1.0</td>\n",
       "      <td>296.0</td>\n",
       "      <td>15.3</td>\n",
       "      <td>396.90</td>\n",
       "      <td>4.98</td>\n",
       "      <td>24000.0</td>\n",
       "    </tr>\n",
       "    <tr>\n",
       "      <th>1</th>\n",
       "      <td>0.02731</td>\n",
       "      <td>0.0</td>\n",
       "      <td>7.07</td>\n",
       "      <td>0.0</td>\n",
       "      <td>0.469</td>\n",
       "      <td>6.421</td>\n",
       "      <td>78.9</td>\n",
       "      <td>4.9671</td>\n",
       "      <td>2.0</td>\n",
       "      <td>242.0</td>\n",
       "      <td>17.8</td>\n",
       "      <td>396.90</td>\n",
       "      <td>9.14</td>\n",
       "      <td>21600.0</td>\n",
       "    </tr>\n",
       "    <tr>\n",
       "      <th>2</th>\n",
       "      <td>0.02729</td>\n",
       "      <td>0.0</td>\n",
       "      <td>7.07</td>\n",
       "      <td>0.0</td>\n",
       "      <td>0.469</td>\n",
       "      <td>7.185</td>\n",
       "      <td>61.1</td>\n",
       "      <td>4.9671</td>\n",
       "      <td>2.0</td>\n",
       "      <td>242.0</td>\n",
       "      <td>17.8</td>\n",
       "      <td>392.83</td>\n",
       "      <td>4.03</td>\n",
       "      <td>34700.0</td>\n",
       "    </tr>\n",
       "    <tr>\n",
       "      <th>3</th>\n",
       "      <td>0.03237</td>\n",
       "      <td>0.0</td>\n",
       "      <td>2.18</td>\n",
       "      <td>0.0</td>\n",
       "      <td>0.458</td>\n",
       "      <td>6.998</td>\n",
       "      <td>45.8</td>\n",
       "      <td>6.0622</td>\n",
       "      <td>3.0</td>\n",
       "      <td>222.0</td>\n",
       "      <td>18.7</td>\n",
       "      <td>394.63</td>\n",
       "      <td>2.94</td>\n",
       "      <td>33400.0</td>\n",
       "    </tr>\n",
       "    <tr>\n",
       "      <th>4</th>\n",
       "      <td>0.06905</td>\n",
       "      <td>0.0</td>\n",
       "      <td>2.18</td>\n",
       "      <td>0.0</td>\n",
       "      <td>0.458</td>\n",
       "      <td>7.147</td>\n",
       "      <td>54.2</td>\n",
       "      <td>6.0622</td>\n",
       "      <td>3.0</td>\n",
       "      <td>222.0</td>\n",
       "      <td>18.7</td>\n",
       "      <td>396.90</td>\n",
       "      <td>5.33</td>\n",
       "      <td>36200.0</td>\n",
       "    </tr>\n",
       "  </tbody>\n",
       "</table>\n",
       "</div>"
      ],
      "text/plain": [
       "      CRIM    ZN  INDUS  CHAS    NOX     RM   AGE     DIS  RAD    TAX  \\\n",
       "0  0.00632  18.0   2.31   0.0  0.538  6.575  65.2  4.0900  1.0  296.0   \n",
       "1  0.02731   0.0   7.07   0.0  0.469  6.421  78.9  4.9671  2.0  242.0   \n",
       "2  0.02729   0.0   7.07   0.0  0.469  7.185  61.1  4.9671  2.0  242.0   \n",
       "3  0.03237   0.0   2.18   0.0  0.458  6.998  45.8  6.0622  3.0  222.0   \n",
       "4  0.06905   0.0   2.18   0.0  0.458  7.147  54.2  6.0622  3.0  222.0   \n",
       "\n",
       "   PTRATIO       B  LSTAT   TARGET  \n",
       "0     15.3  396.90   4.98  24000.0  \n",
       "1     17.8  396.90   9.14  21600.0  \n",
       "2     17.8  392.83   4.03  34700.0  \n",
       "3     18.7  394.63   2.94  33400.0  \n",
       "4     18.7  396.90   5.33  36200.0  "
      ]
     },
     "execution_count": 60,
     "metadata": {},
     "output_type": "execute_result"
    }
   ],
   "source": [
    "# Convert to dataframe with cols and also add the target column\n",
    "# let the target be actual {in thousands of dollars}.\n",
    "df = pd.DataFrame(boston.data,columns=[boston.feature_names]) \n",
    "df['TARGET'] = boston.target\n",
    "df['TARGET'] = df['TARGET'].apply(lambda x:x*1000) \n",
    "df.head() "
   ]
  },
  {
   "cell_type": "code",
   "execution_count": 64,
   "metadata": {
    "collapsed": true
   },
   "outputs": [],
   "source": [
    "# get the data {features} and Target{Price}\n",
    "# features\n",
    "X = df[['CRIM', 'ZN', 'INDUS', 'CHAS', 'NOX', 'RM', 'AGE', 'DIS', 'RAD',\n",
    "       'TAX', 'PTRATIO', 'B', 'LSTAT']]\n",
    "# target \n",
    "y = df['TARGET']\n"
   ]
  },
  {
   "cell_type": "code",
   "execution_count": 65,
   "metadata": {
    "collapsed": true
   },
   "outputs": [],
   "source": [
    "# split the data into training and testing sets\n",
    "from sklearn.model_selection import train_test_split\n",
    "X_train, X_test, y_train, y_test = train_test_split(X, y, test_size=0.30, random_state=42)\n"
   ]
  },
  {
   "cell_type": "code",
   "execution_count": 66,
   "metadata": {},
   "outputs": [
    {
     "data": {
      "text/plain": [
       "LinearRegression(copy_X=True, fit_intercept=True, n_jobs=1, normalize=False)"
      ]
     },
     "execution_count": 66,
     "metadata": {},
     "output_type": "execute_result"
    }
   ],
   "source": [
    "# fit and train the model\n",
    "from sklearn.linear_model import LinearRegression\n",
    "lm = LinearRegression()\n",
    "lm.fit(X_train,y_train)\n"
   ]
  },
  {
   "cell_type": "code",
   "execution_count": 67,
   "metadata": {},
   "outputs": [
    {
     "data": {
      "text/plain": [
       "31682.148582135134"
      ]
     },
     "execution_count": 67,
     "metadata": {},
     "output_type": "execute_result"
    }
   ],
   "source": [
    "lm.intercept_"
   ]
  },
  {
   "cell_type": "code",
   "execution_count": 74,
   "metadata": {},
   "outputs": [
    {
     "data": {
      "text/html": [
       "<div>\n",
       "<table border=\"1\" class=\"dataframe\">\n",
       "  <thead>\n",
       "    <tr style=\"text-align: right;\">\n",
       "      <th></th>\n",
       "      <th>Coefficient</th>\n",
       "    </tr>\n",
       "  </thead>\n",
       "  <tbody>\n",
       "    <tr>\n",
       "      <th>CRIM</th>\n",
       "      <td>-132.774155</td>\n",
       "    </tr>\n",
       "    <tr>\n",
       "      <th>ZN</th>\n",
       "      <td>35.781233</td>\n",
       "    </tr>\n",
       "    <tr>\n",
       "      <th>INDUS</th>\n",
       "      <td>49.945442</td>\n",
       "    </tr>\n",
       "    <tr>\n",
       "      <th>CHAS</th>\n",
       "      <td>3121.277059</td>\n",
       "    </tr>\n",
       "    <tr>\n",
       "      <th>NOX</th>\n",
       "      <td>-15469.846273</td>\n",
       "    </tr>\n",
       "    <tr>\n",
       "      <th>RM</th>\n",
       "      <td>4048.727208</td>\n",
       "    </tr>\n",
       "    <tr>\n",
       "      <th>AGE</th>\n",
       "      <td>-10.751590</td>\n",
       "    </tr>\n",
       "    <tr>\n",
       "      <th>DIS</th>\n",
       "      <td>-1386.997583</td>\n",
       "    </tr>\n",
       "    <tr>\n",
       "      <th>RAD</th>\n",
       "      <td>242.353741</td>\n",
       "    </tr>\n",
       "    <tr>\n",
       "      <th>TAX</th>\n",
       "      <td>-8.690954</td>\n",
       "    </tr>\n",
       "    <tr>\n",
       "      <th>PTRATIO</th>\n",
       "      <td>-911.917342</td>\n",
       "    </tr>\n",
       "    <tr>\n",
       "      <th>B</th>\n",
       "      <td>11.943525</td>\n",
       "    </tr>\n",
       "    <tr>\n",
       "      <th>LSTAT</th>\n",
       "      <td>-548.080157</td>\n",
       "    </tr>\n",
       "  </tbody>\n",
       "</table>\n",
       "</div>"
      ],
      "text/plain": [
       "          Coefficient\n",
       "CRIM      -132.774155\n",
       "ZN          35.781233\n",
       "INDUS       49.945442\n",
       "CHAS      3121.277059\n",
       "NOX     -15469.846273\n",
       "RM        4048.727208\n",
       "AGE        -10.751590\n",
       "DIS      -1386.997583\n",
       "RAD        242.353741\n",
       "TAX         -8.690954\n",
       "PTRATIO   -911.917342\n",
       "B           11.943525\n",
       "LSTAT     -548.080157"
      ]
     },
     "execution_count": 74,
     "metadata": {},
     "output_type": "execute_result"
    }
   ],
   "source": [
    "# coefficient table for every unit increase \n",
    "codf=pd.DataFrame(lm.coef_,boston.feature_names,columns=['Coefficient'])\n",
    "codf"
   ]
  },
  {
   "cell_type": "code",
   "execution_count": 84,
   "metadata": {},
   "outputs": [
    {
     "name": "stdout",
     "output_type": "stream",
     "text": [
      "[ 28655.07151559  36502.08975848  15418.77538495  25412.34279908\n",
      "  18845.04143925  23151.93132448  17390.45793862  14070.68504335\n",
      "  23041.06391518  20599.79090294  24828.48981217  18529.72656138\n",
      "  -6893.3871782   21806.47623025  19230.4470613   26182.84059108\n",
      "  20280.99565326   5611.47028481  40445.18211294  17572.13703977\n",
      "  27447.50834233  30175.92819101  10929.39394458  24019.23810422\n",
      "  18062.77151557  15935.24273005  23137.84816677  14491.81123352\n",
      "  22338.89889019  19327.32276047  22174.04589985  25197.24098431\n",
      "  25314.14125426  18513.91364643  16608.98646835  17482.81643123\n",
      "  30952.48869449  20191.96714702  23905.6638762   24873.31496812\n",
      "  13936.1230122   31824.14012002  42564.92347207  17629.44480649\n",
      "  27023.92519458  17189.11610352  13799.29973289  26107.39476133\n",
      "  20314.03575763  30092.9680544   21316.86534481  34160.63850008\n",
      "  15599.05068457  26112.82476444  39316.18827361  22990.94171684\n",
      "  18950.2181566   33057.21471222  24853.73006476  12914.90043102\n",
      "  22673.33429166  30795.73200428  31637.43634597  16285.4895112\n",
      "  21069.00792236  16581.93816984  20357.78853227  26160.63537769\n",
      "  31070.34018392  11920.85251162  20429.23587621  27560.94421242\n",
      "  10913.5272479   16820.98421978  23937.1119381    5292.10616453\n",
      "  21437.40732269  41333.05335577  18218.93427982   9482.64106988\n",
      "  21206.20501394  12935.25129317  21653.34978928   9384.79416286\n",
      "  23066.86107994  31955.34437858  19133.84001646  25602.13550237\n",
      "  29360.66738363  20131.38624022  25577.5882534    5397.15448563\n",
      "  20235.56811317  15192.1492248   14050.48003434  20913.24130074\n",
      "  24826.56992681   -525.93335237  13644.93211262  15639.61622873\n",
      "  22072.3666542   24648.57410615  10736.54065807  19689.77491847\n",
      "  23639.01554102  12014.64721721  18481.65363031  25527.67870493\n",
      "  20933.30297114  24697.39422812   7523.13279578  18976.45417826\n",
      "  21940.71122661  27228.54011628  32183.56969705  15234.81750181\n",
      "  34386.45450954  12949.34718599  21020.42602052  28580.00838554\n",
      "  15864.43974246  24851.14927326   3364.25710451  23912.83464094\n",
      "  25821.94826066  23115.24491565  25333.80469011  33358.27814666\n",
      "  20559.56265094  38475.79735053  13967.97114877  25221.26283619\n",
      "  17807.6001069   20636.87644437   9789.21615553  21037.1198222\n",
      "  22337.10989457  32325.02670395  31491.01354854  15464.02460385\n",
      "  16859.43025362  28996.27252589  24962.3645338   16739.03898541\n",
      "   6133.48114657  26669.07289061  23326.74935955  17392.94098811\n",
      "  13382.14192464  39971.4431517   16630.01938061  18279.52576431]\n",
      "173    23600.0\n",
      "274    32400.0\n",
      "491    13600.0\n",
      "72     22800.0\n",
      "452    16100.0\n",
      "76     20000.0\n",
      "316    17800.0\n",
      "140    14000.0\n",
      "471    19600.0\n",
      "500    16800.0\n",
      "218    21500.0\n",
      "9      18900.0\n",
      "414     7000.0\n",
      "78     21200.0\n",
      "323    18500.0\n",
      "473    29800.0\n",
      "124    18800.0\n",
      "388    10200.0\n",
      "195    50000.0\n",
      "448    14100.0\n",
      "271    25200.0\n",
      "278    29100.0\n",
      "30     12700.0\n",
      "501    22400.0\n",
      "421    14200.0\n",
      "474    13800.0\n",
      "79     20300.0\n",
      "454    14900.0\n",
      "210    21700.0\n",
      "497    18300.0\n",
      "        ...   \n",
      "418     8800.0\n",
      "117    19200.0\n",
      "42     25300.0\n",
      "322    20400.0\n",
      "347    23100.0\n",
      "182    37900.0\n",
      "155    15600.0\n",
      "280    45400.0\n",
      "126    15700.0\n",
      "329    22600.0\n",
      "31     14500.0\n",
      "113    18700.0\n",
      "148    17800.0\n",
      "432    16100.0\n",
      "338    20600.0\n",
      "57     31600.0\n",
      "194    29100.0\n",
      "24     15600.0\n",
      "17     17500.0\n",
      "298    22500.0\n",
      "66     19400.0\n",
      "211    19300.0\n",
      "404     8500.0\n",
      "94     20600.0\n",
      "154    17000.0\n",
      "441    17100.0\n",
      "23     14500.0\n",
      "225    50000.0\n",
      "433    14300.0\n",
      "447    12600.0\n",
      "Name: TARGET, dtype: float64\n"
     ]
    }
   ],
   "source": [
    "# predictions \n",
    "predictions = lm.predict(X_test)\n",
    "print((predictions))\n",
    "print((y_test))"
   ]
  },
  {
   "cell_type": "code",
   "execution_count": 90,
   "metadata": {},
   "outputs": [
    {
     "data": {
      "text/plain": [
       "<matplotlib.collections.PathCollection at 0x274aa8512e8>"
      ]
     },
     "execution_count": 90,
     "metadata": {},
     "output_type": "execute_result"
    },
    {
     "data": {
      "image/png": "[encoded data removed]",
      "text/plain": [
       "<matplotlib.figure.Figure at 0x274ab15f320>"
      ]
     },
     "metadata": {},
     "output_type": "display_data"
    }
   ],
   "source": [
    "# red is the actual price, blue is the predicted\n",
    "plt.scatter(y_test,predictions, c=['r','b'])\n",
    "# plt.figlegend((y_test, predictions),\n",
    "#            ('Actual', 'Predicted'),\n",
    "#            'upper right' )"
   ]
  },
  {
   "cell_type": "code",
   "execution_count": 91,
   "metadata": {
    "collapsed": true
   },
   "outputs": [],
   "source": [
    "from sklearn import metrics"
   ]
  },
  {
   "cell_type": "code",
   "execution_count": 92,
   "metadata": {},
   "outputs": [
    {
     "name": "stdout",
     "output_type": "stream",
     "text": [
      "MAE: 3165.60523149\n",
      "MSE: 21540218.9439\n",
      "RMSE: 4641.14414169\n"
     ]
    }
   ],
   "source": [
    "print('MAE:', metrics.mean_absolute_error(y_test, predictions))\n",
    "print('MSE:', metrics.mean_squared_error(y_test, predictions))\n",
    "print('RMSE:', np.sqrt(metrics.mean_squared_error(y_test, predictions)))"
   ]
  },
  {
   "cell_type": "code",
   "execution_count": null,
   "metadata": {
    "collapsed": true
   },
   "outputs": [],
   "source": []
  }
 ],
 "metadata": {
  "kernelspec": {
   "display_name": "Python 3",
   "language": "python",
   "name": "python3"
  },
  "language_info": {
   "codemirror_mode": {
    "name": "ipython",
    "version": 3
   },
   "file_extension": ".py",
   "mimetype": "text/x-python",
   "name": "python",
   "nbconvert_exporter": "python",
   "pygments_lexer": "ipython3",
   "version": "3.6.1"
  }
 },
 "nbformat": 4,
 "nbformat_minor": 2
}

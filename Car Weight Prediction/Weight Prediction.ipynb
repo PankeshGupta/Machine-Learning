{
 "cells": [
  {
   "cell_type": "code",
   "execution_count": 1,
   "metadata": {
    "collapsed": true
   },
   "outputs": [],
   "source": [
    "import numpy as np\n",
    "import pandas as pd\n",
    "import matplotlib.pyplot as plt\n",
    "import seaborn as sns\n",
    "import sklearn\n",
    "%matplotlib inline"
   ]
  },
  {
   "cell_type": "code",
   "execution_count": 2,
   "metadata": {
    "collapsed": true
   },
   "outputs": [],
   "source": [
    "# dataset from http://archive.ics.uci.edu/ml/datasets/Auto+MPG \n",
    "# July 7, 1993\n",
    "# http://archive.ics.uci.edu/ml/machine-learning-databases/auto-mpg/auto-mpg.names"
   ]
  },
  {
   "cell_type": "code",
   "execution_count": 3,
   "metadata": {
    "collapsed": true
   },
   "outputs": [],
   "source": [
    " dataframe = pd.read_excel(\"displacementdataset.xlsx\")"
   ]
  },
  {
   "cell_type": "code",
   "execution_count": 4,
   "metadata": {},
   "outputs": [
    {
     "data": {
      "text/html": [
       "<div>\n",
       "<style>\n",
       "    .dataframe thead tr:only-child th {\n",
       "        text-align: right;\n",
       "    }\n",
       "\n",
       "    .dataframe thead th {\n",
       "        text-align: left;\n",
       "    }\n",
       "\n",
       "    .dataframe tbody tr th {\n",
       "        vertical-align: top;\n",
       "    }\n",
       "</style>\n",
       "<table border=\"1\" class=\"dataframe\">\n",
       "  <thead>\n",
       "    <tr style=\"text-align: right;\">\n",
       "      <th></th>\n",
       "      <th>Displacement</th>\n",
       "      <th>Weight</th>\n",
       "    </tr>\n",
       "  </thead>\n",
       "  <tbody>\n",
       "    <tr>\n",
       "      <th>0</th>\n",
       "      <td>307.0</td>\n",
       "      <td>3504</td>\n",
       "    </tr>\n",
       "    <tr>\n",
       "      <th>1</th>\n",
       "      <td>350.0</td>\n",
       "      <td>3693</td>\n",
       "    </tr>\n",
       "    <tr>\n",
       "      <th>2</th>\n",
       "      <td>318.0</td>\n",
       "      <td>3436</td>\n",
       "    </tr>\n",
       "    <tr>\n",
       "      <th>3</th>\n",
       "      <td>304.0</td>\n",
       "      <td>3433</td>\n",
       "    </tr>\n",
       "    <tr>\n",
       "      <th>4</th>\n",
       "      <td>302.0</td>\n",
       "      <td>3449</td>\n",
       "    </tr>\n",
       "  </tbody>\n",
       "</table>\n",
       "</div>"
      ],
      "text/plain": [
       "   Displacement  Weight\n",
       "0         307.0    3504\n",
       "1         350.0    3693\n",
       "2         318.0    3436\n",
       "3         304.0    3433\n",
       "4         302.0    3449"
      ]
     },
     "execution_count": 4,
     "metadata": {},
     "output_type": "execute_result"
    }
   ],
   "source": [
    "dataframe.head()"
   ]
  },
  {
   "cell_type": "code",
   "execution_count": 5,
   "metadata": {},
   "outputs": [
    {
     "name": "stdout",
     "output_type": "stream",
     "text": [
      "<class 'pandas.core.frame.DataFrame'>\n",
      "RangeIndex: 398 entries, 0 to 397\n",
      "Data columns (total 2 columns):\n",
      "Displacement    398 non-null float64\n",
      "Weight          398 non-null int64\n",
      "dtypes: float64(1), int64(1)\n",
      "memory usage: 6.3 KB\n"
     ]
    }
   ],
   "source": [
    " dataframe.info()"
   ]
  },
  {
   "cell_type": "code",
   "execution_count": 6,
   "metadata": {},
   "outputs": [
    {
     "data": {
      "text/html": [
       "<div>\n",
       "<style>\n",
       "    .dataframe thead tr:only-child th {\n",
       "        text-align: right;\n",
       "    }\n",
       "\n",
       "    .dataframe thead th {\n",
       "        text-align: left;\n",
       "    }\n",
       "\n",
       "    .dataframe tbody tr th {\n",
       "        vertical-align: top;\n",
       "    }\n",
       "</style>\n",
       "<table border=\"1\" class=\"dataframe\">\n",
       "  <thead>\n",
       "    <tr style=\"text-align: right;\">\n",
       "      <th></th>\n",
       "      <th>Displacement</th>\n",
       "      <th>Weight</th>\n",
       "    </tr>\n",
       "  </thead>\n",
       "  <tbody>\n",
       "    <tr>\n",
       "      <th>count</th>\n",
       "      <td>398.000000</td>\n",
       "      <td>398.000000</td>\n",
       "    </tr>\n",
       "    <tr>\n",
       "      <th>mean</th>\n",
       "      <td>193.425879</td>\n",
       "      <td>2970.424623</td>\n",
       "    </tr>\n",
       "    <tr>\n",
       "      <th>std</th>\n",
       "      <td>104.269838</td>\n",
       "      <td>846.841774</td>\n",
       "    </tr>\n",
       "    <tr>\n",
       "      <th>min</th>\n",
       "      <td>68.000000</td>\n",
       "      <td>1613.000000</td>\n",
       "    </tr>\n",
       "    <tr>\n",
       "      <th>25%</th>\n",
       "      <td>104.250000</td>\n",
       "      <td>2223.750000</td>\n",
       "    </tr>\n",
       "    <tr>\n",
       "      <th>50%</th>\n",
       "      <td>148.500000</td>\n",
       "      <td>2803.500000</td>\n",
       "    </tr>\n",
       "    <tr>\n",
       "      <th>75%</th>\n",
       "      <td>262.000000</td>\n",
       "      <td>3608.000000</td>\n",
       "    </tr>\n",
       "    <tr>\n",
       "      <th>max</th>\n",
       "      <td>455.000000</td>\n",
       "      <td>5140.000000</td>\n",
       "    </tr>\n",
       "  </tbody>\n",
       "</table>\n",
       "</div>"
      ],
      "text/plain": [
       "       Displacement       Weight\n",
       "count    398.000000   398.000000\n",
       "mean     193.425879  2970.424623\n",
       "std      104.269838   846.841774\n",
       "min       68.000000  1613.000000\n",
       "25%      104.250000  2223.750000\n",
       "50%      148.500000  2803.500000\n",
       "75%      262.000000  3608.000000\n",
       "max      455.000000  5140.000000"
      ]
     },
     "execution_count": 6,
     "metadata": {},
     "output_type": "execute_result"
    }
   ],
   "source": [
    "dataframe.describe()"
   ]
  },
  {
   "cell_type": "code",
   "execution_count": 7,
   "metadata": {
    "collapsed": true
   },
   "outputs": [],
   "source": [
    "# setup the features and predictive variable\n",
    "X = dataframe.iloc[:,:-1].values\n",
    "y = dataframe.iloc[:,1].values"
   ]
  },
  {
   "cell_type": "code",
   "execution_count": 8,
   "metadata": {},
   "outputs": [
    {
     "data": {
      "text/plain": [
       "<seaborn.axisgrid.FacetGrid at 0x1f5c6f0de80>"
      ]
     },
     "execution_count": 8,
     "metadata": {},
     "output_type": "execute_result"
    },
    {
     "data": {
      "image/png": "[encoded data removed]",
      "text/plain": [
       "<matplotlib.figure.Figure at 0x1f5c6f0dcc0>"
      ]
     },
     "metadata": {},
     "output_type": "display_data"
    }
   ],
   "source": [
    "# plot the values along with the regression line\n",
    "sns.lmplot(data=dataframe,x='Displacement',y='Weight')"
   ]
  },
  {
   "cell_type": "code",
   "execution_count": 9,
   "metadata": {
    "collapsed": true
   },
   "outputs": [],
   "source": [
    "# Divide the dataset to train and test\n",
    "from sklearn.model_selection import train_test_split\n",
    "X_train, X_test, y_train, y_test = train_test_split(X, y, test_size=0.33, random_state=42)"
   ]
  },
  {
   "cell_type": "code",
   "execution_count": 10,
   "metadata": {
    "collapsed": true
   },
   "outputs": [],
   "source": [
    "from sklearn.linear_model import LinearRegression\n",
    "lin_reg = LinearRegression()"
   ]
  },
  {
   "cell_type": "code",
   "execution_count": 11,
   "metadata": {},
   "outputs": [
    {
     "data": {
      "text/plain": [
       "LinearRegression(copy_X=True, fit_intercept=True, n_jobs=1, normalize=False)"
      ]
     },
     "execution_count": 11,
     "metadata": {},
     "output_type": "execute_result"
    }
   ],
   "source": [
    "# set the values to the model\n",
    "lin_reg.fit(X_train,y_train)"
   ]
  },
  {
   "cell_type": "code",
   "execution_count": 12,
   "metadata": {
    "collapsed": true
   },
   "outputs": [],
   "source": [
    "y_predictions = lin_reg.predict(X_test)"
   ]
  },
  {
   "cell_type": "code",
   "execution_count": 13,
   "metadata": {},
   "outputs": [
    {
     "data": {
      "text/plain": [
       "array([ 2219.22223674,  2437.48792328,  3280.44505751,  3927.71571415,\n",
       "        3927.71571415,  2264.38065465,  2588.01598296,  4845.93687822,\n",
       "        3491.18434107,  3039.60016202,  4469.61672901,  2219.22223674,\n",
       "        2219.22223674,  3822.34607237,  2588.01598296,  4416.93190812,\n",
       "        2377.27669941,  2761.1232516 ,  4544.88075885,  2219.22223674,\n",
       "        2445.01432627,  3024.54735605,  3280.44505751,  2271.90705763,\n",
       "        3844.92528132,  2264.38065465,  2271.90705763,  2670.80641579,\n",
       "        3476.1315351 ,  4544.88075885,  2588.01598296,  2324.59187852,\n",
       "        4168.56060964,  2384.80310239,  2181.59022182,  4544.88075885,\n",
       "        2700.91202773,  3829.87247535,  3927.71571415,  2271.90705763,\n",
       "        2836.38728144,  2264.38065465,  2445.01432627,  4243.82463948,\n",
       "        2437.48792328,  2437.48792328,  2407.38231134,  2445.01432627,\n",
       "        2317.06547553,  2211.69583376,  2588.01598296,  2181.59022182,\n",
       "        2339.64468449,  4544.88075885,  2836.38728144,  4544.88075885,\n",
       "        4243.82463948,  2542.85756506,  2588.01598296,  3227.76023662,\n",
       "        4168.56060964,  2219.22223674,  2588.01598296,  2437.48792328,\n",
       "        3024.54735605,  2384.80310239,  2670.80641579,  2271.90705763,\n",
       "        2271.90705763,  3844.92528132,  2324.59187852,  3822.34607237,\n",
       "        4763.14644539,  3476.1315351 ,  2896.59850532,  3491.18434107,\n",
       "        3415.92031122,  2377.27669941,  2211.69583376,  3829.87247535,\n",
       "        3822.34607237,  2264.38065465,  2219.22223674,  2219.22223674,\n",
       "        2399.85590836,  4544.88075885,  2121.37899795,  2271.90705763,\n",
       "        2264.38065465,  4763.14644539,  4544.88075885,  2061.16777407,\n",
       "        2407.38231134,  2128.90540093,  2708.43843071,  2324.59187852,\n",
       "        2550.38396804,  3272.91865452,  2708.43843071,  3927.71571415,\n",
       "        2271.90705763,  2347.17108747,  3032.07375903,  3822.34607237,\n",
       "        3415.92031122,  4845.93687822,  2264.38065465,  4168.56060964,\n",
       "        2324.59187852,  2174.06381884,  2068.69417706,  2339.64468449,\n",
       "        3543.86916195,  2219.22223674,  2445.01432627,  2588.01598296,\n",
       "        2256.85425166,  3227.76023662,  2219.22223674,  2761.1232516 ,\n",
       "        4168.56060964,  2588.01598296,  3039.60016202,  3039.60016202,\n",
       "        3032.07375903,  2798.75526652,  2219.22223674,  2670.80641579,\n",
       "        2271.90705763,  2437.48792328,  2204.16943077,  2159.01101287])"
      ]
     },
     "execution_count": 13,
     "metadata": {},
     "output_type": "execute_result"
    }
   ],
   "source": [
    "# display predictions\n",
    "y_predictions"
   ]
  },
  {
   "cell_type": "code",
   "execution_count": 30,
   "metadata": {},
   "outputs": [
    {
     "data": {
      "text/plain": [
       "array([ 4356.72068425])"
      ]
     },
     "execution_count": 30,
     "metadata": {},
     "output_type": "execute_result"
    }
   ],
   "source": [
    "lin_reg.predict(375)"
   ]
  },
  {
   "cell_type": "code",
   "execution_count": 14,
   "metadata": {},
   "outputs": [
    {
     "data": {
      "text/plain": [
       "array([ 4018.03254996])"
      ]
     },
     "execution_count": 14,
     "metadata": {},
     "output_type": "execute_result"
    }
   ],
   "source": [
    "lin_reg.predict(330)"
   ]
  },
  {
   "cell_type": "code",
   "execution_count": 17,
   "metadata": {},
   "outputs": [
    {
     "data": {
      "text/plain": [
       "array([1795, 2625, 2634, 3940, 4237, 2100, 2865, 4735, 4060, 2875, 3850,\n",
       "       1965, 1955, 3892, 2542, 4955, 2575, 3140, 4220, 1970, 2511, 2833,\n",
       "       2835, 2075, 3504, 2130, 2265, 2740, 3410, 4906, 2790, 1980, 3900,\n",
       "       2278, 2019, 4278, 2472, 3425, 4498, 2219, 2700, 1834, 2933, 4615,\n",
       "       2506, 2160, 2246, 2671, 2375, 2223, 2408, 1975, 2290, 4422, 2725,\n",
       "       4464, 3940, 2711, 2264, 3264, 3664, 1795, 2639, 2979, 2904, 2228,\n",
       "       2855, 2045, 2164, 4098, 2215, 4257, 4341, 2962, 2945, 3365, 3520,\n",
       "       2605, 1937, 3840, 3433, 2130, 2025, 1800, 2694, 4385, 1985, 2380,\n",
       "       2279, 4952, 4325, 2420, 2158, 1825, 2930, 2125, 2525, 3245, 2800,\n",
       "       4077, 1800, 2379, 2774, 3672, 3459, 4312, 1835, 4699, 2190, 1975,\n",
       "       1836, 2464, 3605, 1965, 2670, 2408, 2189, 3360, 2130, 3410, 4440,\n",
       "       2401, 2587, 3155, 2648, 2900, 1985, 2950, 2125, 2635, 1968, 2003], dtype=int64)"
      ]
     },
     "execution_count": 17,
     "metadata": {},
     "output_type": "execute_result"
    }
   ],
   "source": [
    "y_test"
   ]
  },
  {
   "cell_type": "code",
   "execution_count": 18,
   "metadata": {
    "scrolled": true
   },
   "outputs": [
    {
     "data": {
      "text/plain": [
       "77095.129739183729"
      ]
     },
     "execution_count": 18,
     "metadata": {},
     "output_type": "execute_result"
    }
   ],
   "source": [
    "from sklearn.metrics import mean_squared_error\n",
    "mean_squared_error(y_test, y_predictions)"
   ]
  },
  {
   "cell_type": "code",
   "execution_count": 20,
   "metadata": {
    "collapsed": true
   },
   "outputs": [],
   "source": [
    "from sklearn.ensemble import RandomForestRegressor"
   ]
  },
  {
   "cell_type": "code",
   "execution_count": 26,
   "metadata": {},
   "outputs": [],
   "source": [
    "ran_forest = RandomForestRegressor(1000)"
   ]
  },
  {
   "cell_type": "code",
   "execution_count": 27,
   "metadata": {},
   "outputs": [
    {
     "data": {
      "text/plain": [
       "RandomForestRegressor(bootstrap=True, criterion='mse', max_depth=None,\n",
       "           max_features='auto', max_leaf_nodes=None,\n",
       "           min_impurity_split=1e-07, min_samples_leaf=1,\n",
       "           min_samples_split=2, min_weight_fraction_leaf=0.0,\n",
       "           n_estimators=1000, n_jobs=1, oob_score=False, random_state=None,\n",
       "           verbose=0, warm_start=False)"
      ]
     },
     "execution_count": 27,
     "metadata": {},
     "output_type": "execute_result"
    }
   ],
   "source": [
    "ran_forest.fit(X_train,y_train)"
   ]
  },
  {
   "cell_type": "code",
   "execution_count": 28,
   "metadata": {},
   "outputs": [],
   "source": [
    "pre_ran_forest = ran_forest.predict(X_test)"
   ]
  },
  {
   "cell_type": "code",
   "execution_count": 29,
   "metadata": {},
   "outputs": [
    {
     "data": {
      "text/plain": [
       "72731.612664310975"
      ]
     },
     "execution_count": 29,
     "metadata": {},
     "output_type": "execute_result"
    }
   ],
   "source": [
    "mean_squared_error(y_test, pre_ran_forest)"
   ]
  },
  {
   "cell_type": "code",
   "execution_count": null,
   "metadata": {
    "collapsed": true
   },
   "outputs": [],
   "source": []
  }
 ],
 "metadata": {
  "kernelspec": {
   "display_name": "Python 3",
   "language": "python",
   "name": "python3"
  },
  "language_info": {
   "codemirror_mode": {
    "name": "ipython",
    "version": 3
   },
   "file_extension": ".py",
   "mimetype": "text/x-python",
   "name": "python",
   "nbconvert_exporter": "python",
   "pygments_lexer": "ipython3",
   "version": "3.6.1"
  }
 },
 "nbformat": 4,
 "nbformat_minor": 2
}

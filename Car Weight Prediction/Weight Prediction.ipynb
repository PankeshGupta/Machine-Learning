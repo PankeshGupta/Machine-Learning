{
 "cells": [
  {
   "cell_type": "code",
   "execution_count": 4,
   "metadata": {
    "collapsed": true
   },
   "outputs": [],
   "source": [
    "import numpy as np\n",
    "import pandas as pd\n",
    "import matplotlib.pyplot as plt\n",
    "import seaborn as sns\n",
    "import sklearn\n",
    "%matplotlib inline"
   ]
  },
  {
   "cell_type": "code",
   "execution_count": 5,
   "metadata": {
    "collapsed": true
   },
   "outputs": [],
   "source": [
    "# dataset from http://archive.ics.uci.edu/ml/datasets/Auto+MPG \n",
    "# July 7, 1993\n",
    "# http://archive.ics.uci.edu/ml/machine-learning-databases/auto-mpg/auto-mpg.names"
   ]
  },
  {
   "cell_type": "code",
   "execution_count": 6,
   "metadata": {
    "collapsed": true
   },
   "outputs": [],
   "source": [
    " dataframe = pd.read_excel(\"displacementdataset.xlsx\")"
   ]
  },
  {
   "cell_type": "code",
   "execution_count": 7,
   "metadata": {},
   "outputs": [
    {
     "data": {
      "text/html": [
       "<div>\n",
       "<style>\n",
       "    .dataframe thead tr:only-child th {\n",
       "        text-align: right;\n",
       "    }\n",
       "\n",
       "    .dataframe thead th {\n",
       "        text-align: left;\n",
       "    }\n",
       "\n",
       "    .dataframe tbody tr th {\n",
       "        vertical-align: top;\n",
       "    }\n",
       "</style>\n",
       "<table border=\"1\" class=\"dataframe\">\n",
       "  <thead>\n",
       "    <tr style=\"text-align: right;\">\n",
       "      <th></th>\n",
       "      <th>Displacement</th>\n",
       "      <th>Weight</th>\n",
       "    </tr>\n",
       "  </thead>\n",
       "  <tbody>\n",
       "    <tr>\n",
       "      <th>0</th>\n",
       "      <td>307.0</td>\n",
       "      <td>3504</td>\n",
       "    </tr>\n",
       "    <tr>\n",
       "      <th>1</th>\n",
       "      <td>350.0</td>\n",
       "      <td>3693</td>\n",
       "    </tr>\n",
       "    <tr>\n",
       "      <th>2</th>\n",
       "      <td>318.0</td>\n",
       "      <td>3436</td>\n",
       "    </tr>\n",
       "    <tr>\n",
       "      <th>3</th>\n",
       "      <td>304.0</td>\n",
       "      <td>3433</td>\n",
       "    </tr>\n",
       "    <tr>\n",
       "      <th>4</th>\n",
       "      <td>302.0</td>\n",
       "      <td>3449</td>\n",
       "    </tr>\n",
       "  </tbody>\n",
       "</table>\n",
       "</div>"
      ],
      "text/plain": [
       "   Displacement  Weight\n",
       "0         307.0    3504\n",
       "1         350.0    3693\n",
       "2         318.0    3436\n",
       "3         304.0    3433\n",
       "4         302.0    3449"
      ]
     },
     "execution_count": 7,
     "metadata": {},
     "output_type": "execute_result"
    }
   ],
   "source": [
    "dataframe.head()"
   ]
  },
  {
   "cell_type": "code",
   "execution_count": 8,
   "metadata": {},
   "outputs": [
    {
     "name": "stdout",
     "output_type": "stream",
     "text": [
      "<class 'pandas.core.frame.DataFrame'>\n",
      "RangeIndex: 398 entries, 0 to 397\n",
      "Data columns (total 2 columns):\n",
      "Displacement    398 non-null float64\n",
      "Weight          398 non-null int64\n",
      "dtypes: float64(1), int64(1)\n",
      "memory usage: 6.3 KB\n"
     ]
    }
   ],
   "source": [
    " dataframe.info()"
   ]
  },
  {
   "cell_type": "code",
   "execution_count": 9,
   "metadata": {},
   "outputs": [
    {
     "data": {
      "text/html": [
       "<div>\n",
       "<style>\n",
       "    .dataframe thead tr:only-child th {\n",
       "        text-align: right;\n",
       "    }\n",
       "\n",
       "    .dataframe thead th {\n",
       "        text-align: left;\n",
       "    }\n",
       "\n",
       "    .dataframe tbody tr th {\n",
       "        vertical-align: top;\n",
       "    }\n",
       "</style>\n",
       "<table border=\"1\" class=\"dataframe\">\n",
       "  <thead>\n",
       "    <tr style=\"text-align: right;\">\n",
       "      <th></th>\n",
       "      <th>Displacement</th>\n",
       "      <th>Weight</th>\n",
       "    </tr>\n",
       "  </thead>\n",
       "  <tbody>\n",
       "    <tr>\n",
       "      <th>count</th>\n",
       "      <td>398.000000</td>\n",
       "      <td>398.000000</td>\n",
       "    </tr>\n",
       "    <tr>\n",
       "      <th>mean</th>\n",
       "      <td>193.425879</td>\n",
       "      <td>2970.424623</td>\n",
       "    </tr>\n",
       "    <tr>\n",
       "      <th>std</th>\n",
       "      <td>104.269838</td>\n",
       "      <td>846.841774</td>\n",
       "    </tr>\n",
       "    <tr>\n",
       "      <th>min</th>\n",
       "      <td>68.000000</td>\n",
       "      <td>1613.000000</td>\n",
       "    </tr>\n",
       "    <tr>\n",
       "      <th>25%</th>\n",
       "      <td>104.250000</td>\n",
       "      <td>2223.750000</td>\n",
       "    </tr>\n",
       "    <tr>\n",
       "      <th>50%</th>\n",
       "      <td>148.500000</td>\n",
       "      <td>2803.500000</td>\n",
       "    </tr>\n",
       "    <tr>\n",
       "      <th>75%</th>\n",
       "      <td>262.000000</td>\n",
       "      <td>3608.000000</td>\n",
       "    </tr>\n",
       "    <tr>\n",
       "      <th>max</th>\n",
       "      <td>455.000000</td>\n",
       "      <td>5140.000000</td>\n",
       "    </tr>\n",
       "  </tbody>\n",
       "</table>\n",
       "</div>"
      ],
      "text/plain": [
       "       Displacement       Weight\n",
       "count    398.000000   398.000000\n",
       "mean     193.425879  2970.424623\n",
       "std      104.269838   846.841774\n",
       "min       68.000000  1613.000000\n",
       "25%      104.250000  2223.750000\n",
       "50%      148.500000  2803.500000\n",
       "75%      262.000000  3608.000000\n",
       "max      455.000000  5140.000000"
      ]
     },
     "execution_count": 9,
     "metadata": {},
     "output_type": "execute_result"
    }
   ],
   "source": [
    "dataframe.describe()"
   ]
  },
  {
   "cell_type": "code",
   "execution_count": 10,
   "metadata": {
    "collapsed": true
   },
   "outputs": [],
   "source": [
    "# setup the features and predictive variable\n",
    "X = dataframe.iloc[:,:-1].values\n",
    "y = dataframe.iloc[:,1].values"
   ]
  },
  {
   "cell_type": "code",
   "execution_count": 11,
   "metadata": {},
   "outputs": [
    {
     "data": {
      "text/plain": [
       "<seaborn.axisgrid.FacetGrid at 0x1e23a254080>"
      ]
     },
     "execution_count": 11,
     "metadata": {},
     "output_type": "execute_result"
    },
    {
     "data": {
      "image/png": "[encoded data removed]",
      "text/plain": [
       "<matplotlib.figure.Figure at 0x1e23a254208>"
      ]
     },
     "metadata": {},
     "output_type": "display_data"
    }
   ],
   "source": [
    "# plot the values along with the regression line\n",
    "sns.lmplot(data=dataframe,x='Displacement',y='Weight')"
   ]
  },
  {
   "cell_type": "code",
   "execution_count": 12,
   "metadata": {
    "collapsed": true
   },
   "outputs": [],
   "source": [
    "# Divide the dataset to train and test\n",
    "from sklearn.model_selection import train_test_split\n",
    "X_train, X_test, y_train, y_test = train_test_split(X, y, test_size=0.33, random_state=42)"
   ]
  },
  {
   "cell_type": "code",
   "execution_count": 13,
   "metadata": {
    "collapsed": true
   },
   "outputs": [],
   "source": [
    "from sklearn.linear_model import LinearRegression\n",
    "lin_reg = LinearRegression()"
   ]
  },
  {
   "cell_type": "code",
   "execution_count": 14,
   "metadata": {},
   "outputs": [
    {
     "data": {
      "text/plain": [
       "LinearRegression(copy_X=True, fit_intercept=True, n_jobs=1, normalize=False)"
      ]
     },
     "execution_count": 14,
     "metadata": {},
     "output_type": "execute_result"
    }
   ],
   "source": [
    "# set the values to the model\n",
    "lin_reg.fit(X_train,y_train)"
   ]
  },
  {
   "cell_type": "code",
   "execution_count": 15,
   "metadata": {
    "collapsed": true
   },
   "outputs": [],
   "source": [
    "y_predictions = lin_reg.predict(X_test)"
   ]
  },
  {
   "cell_type": "code",
   "execution_count": 16,
   "metadata": {},
   "outputs": [
    {
     "data": {
      "text/plain": [
       "array([ 2219.22223674,  2437.48792328,  3280.44505751,  3927.71571415,\n",
       "        3927.71571415,  2264.38065465,  2588.01598296,  4845.93687822,\n",
       "        3491.18434107,  3039.60016202,  4469.61672901,  2219.22223674,\n",
       "        2219.22223674,  3822.34607237,  2588.01598296,  4416.93190812,\n",
       "        2377.27669941,  2761.1232516 ,  4544.88075885,  2219.22223674,\n",
       "        2445.01432627,  3024.54735605,  3280.44505751,  2271.90705763,\n",
       "        3844.92528132,  2264.38065465,  2271.90705763,  2670.80641579,\n",
       "        3476.1315351 ,  4544.88075885,  2588.01598296,  2324.59187852,\n",
       "        4168.56060964,  2384.80310239,  2181.59022182,  4544.88075885,\n",
       "        2700.91202773,  3829.87247535,  3927.71571415,  2271.90705763,\n",
       "        2836.38728144,  2264.38065465,  2445.01432627,  4243.82463948,\n",
       "        2437.48792328,  2437.48792328,  2407.38231134,  2445.01432627,\n",
       "        2317.06547553,  2211.69583376,  2588.01598296,  2181.59022182,\n",
       "        2339.64468449,  4544.88075885,  2836.38728144,  4544.88075885,\n",
       "        4243.82463948,  2542.85756506,  2588.01598296,  3227.76023662,\n",
       "        4168.56060964,  2219.22223674,  2588.01598296,  2437.48792328,\n",
       "        3024.54735605,  2384.80310239,  2670.80641579,  2271.90705763,\n",
       "        2271.90705763,  3844.92528132,  2324.59187852,  3822.34607237,\n",
       "        4763.14644539,  3476.1315351 ,  2896.59850532,  3491.18434107,\n",
       "        3415.92031122,  2377.27669941,  2211.69583376,  3829.87247535,\n",
       "        3822.34607237,  2264.38065465,  2219.22223674,  2219.22223674,\n",
       "        2399.85590836,  4544.88075885,  2121.37899795,  2271.90705763,\n",
       "        2264.38065465,  4763.14644539,  4544.88075885,  2061.16777407,\n",
       "        2407.38231134,  2128.90540093,  2708.43843071,  2324.59187852,\n",
       "        2550.38396804,  3272.91865452,  2708.43843071,  3927.71571415,\n",
       "        2271.90705763,  2347.17108747,  3032.07375903,  3822.34607237,\n",
       "        3415.92031122,  4845.93687822,  2264.38065465,  4168.56060964,\n",
       "        2324.59187852,  2174.06381884,  2068.69417706,  2339.64468449,\n",
       "        3543.86916195,  2219.22223674,  2445.01432627,  2588.01598296,\n",
       "        2256.85425166,  3227.76023662,  2219.22223674,  2761.1232516 ,\n",
       "        4168.56060964,  2588.01598296,  3039.60016202,  3039.60016202,\n",
       "        3032.07375903,  2798.75526652,  2219.22223674,  2670.80641579,\n",
       "        2271.90705763,  2437.48792328,  2204.16943077,  2159.01101287])"
      ]
     },
     "execution_count": 16,
     "metadata": {},
     "output_type": "execute_result"
    }
   ],
   "source": [
    "# display predictions\n",
    "y_predictions"
   ]
  },
  {
   "cell_type": "code",
   "execution_count": 17,
   "metadata": {},
   "outputs": [
    {
     "data": {
      "text/plain": [
       "array([ 4356.72068425])"
      ]
     },
     "execution_count": 17,
     "metadata": {},
     "output_type": "execute_result"
    }
   ],
   "source": [
    "lin_reg.predict(375)"
   ]
  },
  {
   "cell_type": "code",
   "execution_count": 18,
   "metadata": {},
   "outputs": [
    {
     "data": {
      "text/plain": [
       "array([ 4018.03254996])"
      ]
     },
     "execution_count": 18,
     "metadata": {},
     "output_type": "execute_result"
    }
   ],
   "source": [
    "lin_reg.predict(330)"
   ]
  },
  {
   "cell_type": "code",
   "execution_count": 19,
   "metadata": {},
   "outputs": [
    {
     "data": {
      "text/plain": [
       "array([1795, 2625, 2634, 3940, 4237, 2100, 2865, 4735, 4060, 2875, 3850,\n",
       "       1965, 1955, 3892, 2542, 4955, 2575, 3140, 4220, 1970, 2511, 2833,\n",
       "       2835, 2075, 3504, 2130, 2265, 2740, 3410, 4906, 2790, 1980, 3900,\n",
       "       2278, 2019, 4278, 2472, 3425, 4498, 2219, 2700, 1834, 2933, 4615,\n",
       "       2506, 2160, 2246, 2671, 2375, 2223, 2408, 1975, 2290, 4422, 2725,\n",
       "       4464, 3940, 2711, 2264, 3264, 3664, 1795, 2639, 2979, 2904, 2228,\n",
       "       2855, 2045, 2164, 4098, 2215, 4257, 4341, 2962, 2945, 3365, 3520,\n",
       "       2605, 1937, 3840, 3433, 2130, 2025, 1800, 2694, 4385, 1985, 2380,\n",
       "       2279, 4952, 4325, 2420, 2158, 1825, 2930, 2125, 2525, 3245, 2800,\n",
       "       4077, 1800, 2379, 2774, 3672, 3459, 4312, 1835, 4699, 2190, 1975,\n",
       "       1836, 2464, 3605, 1965, 2670, 2408, 2189, 3360, 2130, 3410, 4440,\n",
       "       2401, 2587, 3155, 2648, 2900, 1985, 2950, 2125, 2635, 1968, 2003], dtype=int64)"
      ]
     },
     "execution_count": 19,
     "metadata": {},
     "output_type": "execute_result"
    }
   ],
   "source": [
    "y_test"
   ]
  },
  {
   "cell_type": "code",
   "execution_count": 20,
   "metadata": {
    "scrolled": true
   },
   "outputs": [
    {
     "data": {
      "text/plain": [
       "77095.129739183729"
      ]
     },
     "execution_count": 20,
     "metadata": {},
     "output_type": "execute_result"
    }
   ],
   "source": [
    "from sklearn.metrics import mean_squared_error\n",
    "mean_squared_error(y_test, y_predictions)"
   ]
  },
  {
   "cell_type": "code",
   "execution_count": 21,
   "metadata": {
    "collapsed": true
   },
   "outputs": [],
   "source": [
    "from sklearn.ensemble import RandomForestRegressor"
   ]
  },
  {
   "cell_type": "code",
   "execution_count": 22,
   "metadata": {
    "collapsed": true
   },
   "outputs": [],
   "source": [
    "ran_forest = RandomForestRegressor(1000)"
   ]
  },
  {
   "cell_type": "code",
   "execution_count": 23,
   "metadata": {},
   "outputs": [
    {
     "data": {
      "text/plain": [
       "RandomForestRegressor(bootstrap=True, criterion='mse', max_depth=None,\n",
       "           max_features='auto', max_leaf_nodes=None,\n",
       "           min_impurity_split=1e-07, min_samples_leaf=1,\n",
       "           min_samples_split=2, min_weight_fraction_leaf=0.0,\n",
       "           n_estimators=1000, n_jobs=1, oob_score=False, random_state=None,\n",
       "           verbose=0, warm_start=False)"
      ]
     },
     "execution_count": 23,
     "metadata": {},
     "output_type": "execute_result"
    }
   ],
   "source": [
    "ran_forest.fit(X_train,y_train)"
   ]
  },
  {
   "cell_type": "code",
   "execution_count": 24,
   "metadata": {
    "collapsed": true
   },
   "outputs": [],
   "source": [
    "pre_ran_forest = ran_forest.predict(X_test)"
   ]
  },
  {
   "cell_type": "code",
   "execution_count": 25,
   "metadata": {},
   "outputs": [
    {
     "data": {
      "text/plain": [
       "72598.732491996416"
      ]
     },
     "execution_count": 25,
     "metadata": {},
     "output_type": "execute_result"
    }
   ],
   "source": [
    "mean_squared_error(y_test, pre_ran_forest)"
   ]
  },
  {
   "cell_type": "code",
   "execution_count": 31,
   "metadata": {},
   "outputs": [
    {
     "data": {
      "text/plain": [
       "array([[  307. ,  3504. ],\n",
       "       [  350. ,  3693. ],\n",
       "       [  318. ,  3436. ],\n",
       "       [  304. ,  3433. ],\n",
       "       [  302. ,  3449. ],\n",
       "       [  429. ,  4341. ],\n",
       "       [  454. ,  4354. ],\n",
       "       [  440. ,  4312. ],\n",
       "       [  455. ,  4425. ],\n",
       "       [  390. ,  3850. ],\n",
       "       [  383. ,  3563. ],\n",
       "       [  340. ,  3609. ],\n",
       "       [  400. ,  3761. ],\n",
       "       [  455. ,  3086. ],\n",
       "       [  113. ,  2372. ],\n",
       "       [  198. ,  2833. ],\n",
       "       [  199. ,  2774. ],\n",
       "       [  200. ,  2587. ],\n",
       "       [   97. ,  2130. ],\n",
       "       [   97. ,  1835. ],\n",
       "       [  110. ,  2672. ],\n",
       "       [  107. ,  2430. ],\n",
       "       [  104. ,  2375. ],\n",
       "       [  121. ,  2234. ],\n",
       "       [  199. ,  2648. ],\n",
       "       [  360. ,  4615. ],\n",
       "       [  307. ,  4376. ],\n",
       "       [  318. ,  4382. ],\n",
       "       [  304. ,  4732. ],\n",
       "       [   97. ,  2130. ],\n",
       "       [  140. ,  2264. ],\n",
       "       [  113. ,  2228. ],\n",
       "       [   98. ,  2046. ],\n",
       "       [  232. ,  2634. ],\n",
       "       [  225. ,  3439. ],\n",
       "       [  250. ,  3329. ],\n",
       "       [  250. ,  3302. ],\n",
       "       [  232. ,  3288. ],\n",
       "       [  350. ,  4209. ],\n",
       "       [  400. ,  4464. ],\n",
       "       [  351. ,  4154. ],\n",
       "       [  318. ,  4096. ],\n",
       "       [  383. ,  4955. ],\n",
       "       [  400. ,  4746. ],\n",
       "       [  400. ,  5140. ],\n",
       "       [  258. ,  2962. ],\n",
       "       [  140. ,  2408. ],\n",
       "       [  250. ,  3282. ],\n",
       "       [  250. ,  3139. ],\n",
       "       [  122. ,  2220. ],\n",
       "       [  116. ,  2123. ],\n",
       "       [   79. ,  2074. ],\n",
       "       [   88. ,  2065. ],\n",
       "       [   71. ,  1773. ],\n",
       "       [   72. ,  1613. ],\n",
       "       [   97. ,  1834. ],\n",
       "       [   91. ,  1955. ],\n",
       "       [  113. ,  2278. ],\n",
       "       [   97.5,  2126. ],\n",
       "       [   97. ,  2254. ],\n",
       "       [  140. ,  2408. ],\n",
       "       [  122. ,  2226. ],\n",
       "       [  350. ,  4274. ],\n",
       "       [  400. ,  4385. ],\n",
       "       [  318. ,  4135. ],\n",
       "       [  351. ,  4129. ],\n",
       "       [  304. ,  3672. ],\n",
       "       [  429. ,  4633. ],\n",
       "       [  350. ,  4502. ],\n",
       "       [  350. ,  4456. ],\n",
       "       [  400. ,  4422. ],\n",
       "       [   70. ,  2330. ],\n",
       "       [  304. ,  3892. ],\n",
       "       [  307. ,  4098. ],\n",
       "       [  302. ,  4294. ],\n",
       "       [  318. ,  4077. ],\n",
       "       [  121. ,  2933. ],\n",
       "       [  121. ,  2511. ],\n",
       "       [  120. ,  2979. ],\n",
       "       [   96. ,  2189. ],\n",
       "       [  122. ,  2395. ],\n",
       "       [   97. ,  2288. ],\n",
       "       [  120. ,  2506. ],\n",
       "       [   98. ,  2164. ],\n",
       "       [   97. ,  2100. ],\n",
       "       [  350. ,  4100. ],\n",
       "       [  304. ,  3672. ],\n",
       "       [  350. ,  3988. ],\n",
       "       [  302. ,  4042. ],\n",
       "       [  318. ,  3777. ],\n",
       "       [  429. ,  4952. ],\n",
       "       [  400. ,  4464. ],\n",
       "       [  351. ,  4363. ],\n",
       "       [  318. ,  4237. ],\n",
       "       [  440. ,  4735. ],\n",
       "       [  455. ,  4951. ],\n",
       "       [  360. ,  3821. ],\n",
       "       [  225. ,  3121. ],\n",
       "       [  250. ,  3278. ],\n",
       "       [  232. ,  2945. ],\n",
       "       [  250. ,  3021. ],\n",
       "       [  198. ,  2904. ],\n",
       "       [   97. ,  1950. ],\n",
       "       [  400. ,  4997. ],\n",
       "       [  400. ,  4906. ],\n",
       "       [  360. ,  4654. ],\n",
       "       [  350. ,  4499. ],\n",
       "       [  232. ,  2789. ],\n",
       "       [   97. ,  2279. ],\n",
       "       [  140. ,  2401. ],\n",
       "       [  108. ,  2379. ],\n",
       "       [   70. ,  2124. ],\n",
       "       [  122. ,  2310. ],\n",
       "       [  155. ,  2472. ],\n",
       "       [   98. ,  2265. ],\n",
       "       [  350. ,  4082. ],\n",
       "       [  400. ,  4278. ],\n",
       "       [   68. ,  1867. ],\n",
       "       [  116. ,  2158. ],\n",
       "       [  114. ,  2582. ],\n",
       "       [  121. ,  2868. ],\n",
       "       [  318. ,  3399. ],\n",
       "       [  121. ,  2660. ],\n",
       "       [  156. ,  2807. ],\n",
       "       [  350. ,  3664. ],\n",
       "       [  198. ,  3102. ],\n",
       "       [  200. ,  2875. ],\n",
       "       [  232. ,  2901. ],\n",
       "       [  250. ,  3336. ],\n",
       "       [   79. ,  1950. ],\n",
       "       [  122. ,  2451. ],\n",
       "       [   71. ,  1836. ],\n",
       "       [  140. ,  2542. ],\n",
       "       [  250. ,  3781. ],\n",
       "       [  258. ,  3632. ],\n",
       "       [  225. ,  3613. ],\n",
       "       [  302. ,  4141. ],\n",
       "       [  350. ,  4699. ],\n",
       "       [  318. ,  4457. ],\n",
       "       [  302. ,  4638. ],\n",
       "       [  304. ,  4257. ],\n",
       "       [   98. ,  2219. ],\n",
       "       [   79. ,  1963. ],\n",
       "       [   97. ,  2300. ],\n",
       "       [   76. ,  1649. ],\n",
       "       [   83. ,  2003. ],\n",
       "       [   90. ,  2125. ],\n",
       "       [   90. ,  2108. ],\n",
       "       [  116. ,  2246. ],\n",
       "       [  120. ,  2489. ],\n",
       "       [  108. ,  2391. ],\n",
       "       [   79. ,  2000. ],\n",
       "       [  225. ,  3264. ],\n",
       "       [  250. ,  3459. ],\n",
       "       [  250. ,  3432. ],\n",
       "       [  250. ,  3158. ],\n",
       "       [  400. ,  4668. ],\n",
       "       [  350. ,  4440. ],\n",
       "       [  318. ,  4498. ],\n",
       "       [  351. ,  4657. ],\n",
       "       [  231. ,  3907. ],\n",
       "       [  250. ,  3897. ],\n",
       "       [  258. ,  3730. ],\n",
       "       [  225. ,  3785. ],\n",
       "       [  231. ,  3039. ],\n",
       "       [  262. ,  3221. ],\n",
       "       [  302. ,  3169. ],\n",
       "       [   97. ,  2171. ],\n",
       "       [  140. ,  2639. ],\n",
       "       [  232. ,  2914. ],\n",
       "       [  140. ,  2592. ],\n",
       "       [  134. ,  2702. ],\n",
       "       [   90. ,  2223. ],\n",
       "       [  119. ,  2545. ],\n",
       "       [  171. ,  2984. ],\n",
       "       [   90. ,  1937. ],\n",
       "       [  232. ,  3211. ],\n",
       "       [  115. ,  2694. ],\n",
       "       [  120. ,  2957. ],\n",
       "       [  121. ,  2945. ],\n",
       "       [  121. ,  2671. ],\n",
       "       [   91. ,  1795. ],\n",
       "       [  107. ,  2464. ],\n",
       "       [  116. ,  2220. ],\n",
       "       [  140. ,  2572. ],\n",
       "       [   98. ,  2255. ],\n",
       "       [  101. ,  2202. ],\n",
       "       [  305. ,  4215. ],\n",
       "       [  318. ,  4190. ],\n",
       "       [  304. ,  3962. ],\n",
       "       [  351. ,  4215. ],\n",
       "       [  225. ,  3233. ],\n",
       "       [  250. ,  3353. ],\n",
       "       [  200. ,  3012. ],\n",
       "       [  232. ,  3085. ],\n",
       "       [   85. ,  2035. ],\n",
       "       [   98. ,  2164. ],\n",
       "       [   90. ,  1937. ],\n",
       "       [   91. ,  1795. ],\n",
       "       [  225. ,  3651. ],\n",
       "       [  250. ,  3574. ],\n",
       "       [  250. ,  3645. ],\n",
       "       [  258. ,  3193. ],\n",
       "       [   97. ,  1825. ],\n",
       "       [   85. ,  1990. ],\n",
       "       [   97. ,  2155. ],\n",
       "       [  140. ,  2565. ],\n",
       "       [  130. ,  3150. ],\n",
       "       [  318. ,  3940. ],\n",
       "       [  120. ,  3270. ],\n",
       "       [  156. ,  2930. ],\n",
       "       [  168. ,  3820. ],\n",
       "       [  350. ,  4380. ],\n",
       "       [  350. ,  4055. ],\n",
       "       [  302. ,  3870. ],\n",
       "       [  318. ,  3755. ],\n",
       "       [   98. ,  2045. ],\n",
       "       [  111. ,  2155. ],\n",
       "       [   79. ,  1825. ],\n",
       "       [  122. ,  2300. ],\n",
       "       [   85. ,  1945. ],\n",
       "       [  305. ,  3880. ],\n",
       "       [  260. ,  4060. ],\n",
       "       [  318. ,  4140. ],\n",
       "       [  302. ,  4295. ],\n",
       "       [  250. ,  3520. ],\n",
       "       [  231. ,  3425. ],\n",
       "       [  225. ,  3630. ],\n",
       "       [  250. ,  3525. ],\n",
       "       [  400. ,  4220. ],\n",
       "       [  350. ,  4165. ],\n",
       "       [  400. ,  4325. ],\n",
       "       [  351. ,  4335. ],\n",
       "       [   97. ,  1940. ],\n",
       "       [  151. ,  2740. ],\n",
       "       [   97. ,  2265. ],\n",
       "       [  140. ,  2755. ],\n",
       "       [   98. ,  2051. ],\n",
       "       [   98. ,  2075. ],\n",
       "       [   97. ,  1985. ],\n",
       "       [   97. ,  2190. ],\n",
       "       [  146. ,  2815. ],\n",
       "       [  121. ,  2600. ],\n",
       "       [   80. ,  2720. ],\n",
       "       [   90. ,  1985. ],\n",
       "       [   98. ,  1800. ],\n",
       "       [   78. ,  1985. ],\n",
       "       [   85. ,  2070. ],\n",
       "       [   91. ,  1800. ],\n",
       "       [  260. ,  3365. ],\n",
       "       [  318. ,  3735. ],\n",
       "       [  302. ,  3570. ],\n",
       "       [  231. ,  3535. ],\n",
       "       [  200. ,  3155. ],\n",
       "       [  200. ,  2965. ],\n",
       "       [  140. ,  2720. ],\n",
       "       [  225. ,  3430. ],\n",
       "       [  232. ,  3210. ],\n",
       "       [  231. ,  3380. ],\n",
       "       [  200. ,  3070. ],\n",
       "       [  225. ,  3620. ],\n",
       "       [  258. ,  3410. ],\n",
       "       [  305. ,  3425. ],\n",
       "       [  231. ,  3445. ],\n",
       "       [  302. ,  3205. ],\n",
       "       [  318. ,  4080. ],\n",
       "       [   98. ,  2155. ],\n",
       "       [  134. ,  2560. ],\n",
       "       [  119. ,  2300. ],\n",
       "       [  105. ,  2230. ],\n",
       "       [  134. ,  2515. ],\n",
       "       [  156. ,  2745. ],\n",
       "       [  151. ,  2855. ],\n",
       "       [  119. ,  2405. ],\n",
       "       [  131. ,  2830. ],\n",
       "       [  163. ,  3140. ],\n",
       "       [  121. ,  2795. ],\n",
       "       [  163. ,  3410. ],\n",
       "       [   89. ,  1990. ],\n",
       "       [   98. ,  2135. ],\n",
       "       [  231. ,  3245. ],\n",
       "       [  200. ,  2990. ],\n",
       "       [  140. ,  2890. ],\n",
       "       [  232. ,  3265. ],\n",
       "       [  225. ,  3360. ],\n",
       "       [  305. ,  3840. ],\n",
       "       [  302. ,  3725. ],\n",
       "       [  351. ,  3955. ],\n",
       "       [  318. ,  3830. ],\n",
       "       [  350. ,  4360. ],\n",
       "       [  351. ,  4054. ],\n",
       "       [  267. ,  3605. ],\n",
       "       [  360. ,  3940. ],\n",
       "       [   89. ,  1925. ],\n",
       "       [   86. ,  1975. ],\n",
       "       [   98. ,  1915. ],\n",
       "       [  121. ,  2670. ],\n",
       "       [  183. ,  3530. ],\n",
       "       [  350. ,  3900. ],\n",
       "       [  141. ,  3190. ],\n",
       "       [  260. ,  3420. ],\n",
       "       [  105. ,  2200. ],\n",
       "       [  105. ,  2150. ],\n",
       "       [   85. ,  2020. ],\n",
       "       [   91. ,  2130. ],\n",
       "       [  151. ,  2670. ],\n",
       "       [  173. ,  2595. ],\n",
       "       [  173. ,  2700. ],\n",
       "       [  151. ,  2556. ],\n",
       "       [   98. ,  2144. ],\n",
       "       [   89. ,  1968. ],\n",
       "       [   98. ,  2120. ],\n",
       "       [   86. ,  2019. ],\n",
       "       [  151. ,  2678. ],\n",
       "       [  140. ,  2870. ],\n",
       "       [  151. ,  3003. ],\n",
       "       [  225. ,  3381. ],\n",
       "       [   97. ,  2188. ],\n",
       "       [  134. ,  2711. ],\n",
       "       [  120. ,  2542. ],\n",
       "       [  119. ,  2434. ],\n",
       "       [  108. ,  2265. ],\n",
       "       [   86. ,  2110. ],\n",
       "       [  156. ,  2800. ],\n",
       "       [   85. ,  2110. ],\n",
       "       [   90. ,  2085. ],\n",
       "       [   90. ,  2335. ],\n",
       "       [  121. ,  2950. ],\n",
       "       [  146. ,  3250. ],\n",
       "       [   91. ,  1850. ],\n",
       "       [   85. ,  1835. ],\n",
       "       [   97. ,  2145. ],\n",
       "       [   89. ,  1845. ],\n",
       "       [  168. ,  2910. ],\n",
       "       [   70. ,  2420. ],\n",
       "       [  122. ,  2500. ],\n",
       "       [  140. ,  2905. ],\n",
       "       [  107. ,  2290. ],\n",
       "       [  135. ,  2490. ],\n",
       "       [  151. ,  2635. ],\n",
       "       [  156. ,  2620. ],\n",
       "       [  173. ,  2725. ],\n",
       "       [  135. ,  2385. ],\n",
       "       [   79. ,  1755. ],\n",
       "       [   86. ,  1875. ],\n",
       "       [   81. ,  1760. ],\n",
       "       [   97. ,  2065. ],\n",
       "       [   85. ,  1975. ],\n",
       "       [   89. ,  2050. ],\n",
       "       [   91. ,  1985. ],\n",
       "       [  105. ,  2215. ],\n",
       "       [   98. ,  2045. ],\n",
       "       [   98. ,  2380. ],\n",
       "       [  105. ,  2190. ],\n",
       "       [  100. ,  2320. ],\n",
       "       [  107. ,  2210. ],\n",
       "       [  108. ,  2350. ],\n",
       "       [  119. ,  2615. ],\n",
       "       [  120. ,  2635. ],\n",
       "       [  141. ,  3230. ],\n",
       "       [  145. ,  3160. ],\n",
       "       [  168. ,  2900. ],\n",
       "       [  146. ,  2930. ],\n",
       "       [  231. ,  3415. ],\n",
       "       [  350. ,  3725. ],\n",
       "       [  200. ,  3060. ],\n",
       "       [  225. ,  3465. ],\n",
       "       [  112. ,  2605. ],\n",
       "       [  112. ,  2640. ],\n",
       "       [  112. ,  2395. ],\n",
       "       [  112. ,  2575. ],\n",
       "       [  135. ,  2525. ],\n",
       "       [  151. ,  2735. ],\n",
       "       [  140. ,  2865. ],\n",
       "       [  151. ,  3035. ],\n",
       "       [  105. ,  1980. ],\n",
       "       [   91. ,  2025. ],\n",
       "       [   91. ,  1970. ],\n",
       "       [  105. ,  2125. ],\n",
       "       [   98. ,  2125. ],\n",
       "       [  120. ,  2160. ],\n",
       "       [  107. ,  2205. ],\n",
       "       [  108. ,  2245. ],\n",
       "       [   91. ,  1965. ],\n",
       "       [   91. ,  1965. ],\n",
       "       [   91. ,  1995. ],\n",
       "       [  181. ,  2945. ],\n",
       "       [  262. ,  3015. ],\n",
       "       [  156. ,  2585. ],\n",
       "       [  232. ,  2835. ],\n",
       "       [  144. ,  2665. ],\n",
       "       [  135. ,  2370. ],\n",
       "       [  151. ,  2950. ],\n",
       "       [  140. ,  2790. ],\n",
       "       [   97. ,  2130. ],\n",
       "       [  135. ,  2295. ],\n",
       "       [  120. ,  2625. ],\n",
       "       [  119. ,  2720. ]])"
      ]
     },
     "execution_count": 31,
     "metadata": {},
     "output_type": "execute_result"
    }
   ],
   "source": [
    "dataframe.iloc[:,].values"
   ]
  },
  {
   "cell_type": "code",
   "execution_count": null,
   "metadata": {
    "collapsed": true
   },
   "outputs": [],
   "source": []
  }
 ],
 "metadata": {
  "kernelspec": {
   "display_name": "Python 3",
   "language": "python",
   "name": "python3"
  },
  "language_info": {
   "codemirror_mode": {
    "name": "ipython",
    "version": 3
   },
   "file_extension": ".py",
   "mimetype": "text/x-python",
   "name": "python",
   "nbconvert_exporter": "python",
   "pygments_lexer": "ipython3",
   "version": "3.6.1"
  }
 },
 "nbformat": 4,
 "nbformat_minor": 2
}
